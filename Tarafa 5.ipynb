{
 "cells": [
  {
   "cell_type": "code",
   "execution_count": 1,
   "id": "9a14f61a",
   "metadata": {},
   "outputs": [
    {
     "data": {
      "text/plain": [
       "FogueteEndevor (generic function with 1 method)"
      ]
     },
     "execution_count": 1,
     "metadata": {},
     "output_type": "execute_result"
    }
   ],
   "source": [
    "# 2(a)\n",
    "# Diferetemente dos exemplos apresentados em sala de aula, onde as distancias entre os pontos, na reta de x,\n",
    "# eram constantes, na questão podemos observar que os \"n\"'s dos pontos não possuem uma distancia constante.\n",
    "# Precisamos, então, de uma função para trabalhar esse caso.\n",
    "function FogueteEndevor(pares) # Recebe pontos(x, y) para calcular a integral\n",
    "    soma = 0\n",
    "    for i = 1:length(pares) - 1\n",
    "        # area_trapezio = (base_menor + base_maior)*altura/2\n",
    "        # base_menor = f(x_n) \n",
    "        # base_maior = f(x_(n+1))\n",
    "        # altura = x_(n+1) - x_n\n",
    "        soma += (pares[i][2] + pares[i+1][2])*(pares[i+1][1] - pares[i][1])/2\n",
    "    end\n",
    "    return soma #Retorna a soma de todas as areas dos trapezios \n",
    "end"
   ]
  },
  {
   "cell_type": "code",
   "execution_count": 2,
   "id": "6618bfd4",
   "metadata": {},
   "outputs": [
    {
     "data": {
      "text/plain": [
       "219567.5"
      ]
     },
     "execution_count": 2,
     "metadata": {},
     "output_type": "execute_result"
    }
   ],
   "source": [
    "pares = [[0, 0], [10, 185], [15, 319], [20, 447], [32, 742], [59, 1325], [62, 1445], [125, 4151]]\n",
    "FogueteEndevor(pares)"
   ]
  },
  {
   "cell_type": "code",
   "execution_count": null,
   "id": "9371dae1",
   "metadata": {},
   "outputs": [],
   "source": [
    "# A altura alcançada pelo foguete foi de 219567.5 pes"
   ]
  },
  {
   "cell_type": "code",
   "execution_count": 3,
   "id": "60569cc5",
   "metadata": {},
   "outputs": [],
   "source": [
    "# (b)\n",
    "# Para utilizar a formula do erro maximo precisariamos do valor de M\n",
    "# Como M >= |f''(x)| para todo a<=x<=b\n",
    "# Precisariamos de informações sobre f''(x)"
   ]
  },
  {
   "cell_type": "code",
   "execution_count": 4,
   "id": "8f778d26",
   "metadata": {},
   "outputs": [
    {
     "data": {
      "text/plain": [
       "vandermonde (generic function with 1 method)"
      ]
     },
     "execution_count": 4,
     "metadata": {},
     "output_type": "execute_result"
    }
   ],
   "source": [
    "#(c)\n",
    "#Utilizaremos funções já feitas de outras listas\n",
    "function vandermonde(x,y,grau)\n",
    "    n,=size(y)\n",
    "    V=zeros(n,grau+1)\n",
    "    for i=1:n #linhas\n",
    "        for j=1:(grau+1)\n",
    "            V[i,j]=x[i]^(j-1)\n",
    "        end\n",
    "    end\n",
    "    return V\n",
    "end"
   ]
  },
  {
   "cell_type": "code",
   "execution_count": 5,
   "id": "0d6a0756",
   "metadata": {},
   "outputs": [
    {
     "data": {
      "text/plain": [
       "regressão (generic function with 1 method)"
      ]
     },
     "execution_count": 5,
     "metadata": {},
     "output_type": "execute_result"
    }
   ],
   "source": [
    "function regressão(x,y,grau)\n",
    "    V=vandermonde(x,y,grau)\n",
    "    c=V\\y #mínimos quadrados\n",
    "    return c\n",
    "end"
   ]
  },
  {
   "cell_type": "code",
   "execution_count": 6,
   "id": "22fb3a51",
   "metadata": {},
   "outputs": [
    {
     "data": {
      "image/svg+xml": [
       "<?xml version=\"1.0\" encoding=\"utf-8\"?>\n",
       "<svg xmlns=\"http://www.w3.org/2000/svg\" xmlns:xlink=\"http://www.w3.org/1999/xlink\" width=\"600\" height=\"400\" viewBox=\"0 0 2400 1600\">\n",
       "<defs>\n",
       "  <clipPath id=\"clip030\">\n",
       "    <rect x=\"0\" y=\"0\" width=\"2400\" height=\"1600\"/>\n",
       "  </clipPath>\n",
       "</defs>\n",
       "<path clip-path=\"url(#clip030)\" d=\"\n",
       "M0 1600 L2400 1600 L2400 0 L0 0  Z\n",
       "  \" fill=\"#ffffff\" fill-rule=\"evenodd\" fill-opacity=\"1\"/>\n",
       "<defs>\n",
       "  <clipPath id=\"clip031\">\n",
       "    <rect x=\"480\" y=\"0\" width=\"1681\" height=\"1600\"/>\n",
       "  </clipPath>\n",
       "</defs>\n",
       "<path clip-path=\"url(#clip030)\" d=\"\n",
       "M202.177 1486.45 L2352.76 1486.45 L2352.76 47.2441 L202.177 47.2441  Z\n",
       "  \" fill=\"#ffffff\" fill-rule=\"evenodd\" fill-opacity=\"1\"/>\n",
       "<defs>\n",
       "  <clipPath id=\"clip032\">\n",
       "    <rect x=\"202\" y=\"47\" width=\"2152\" height=\"1440\"/>\n",
       "  </clipPath>\n",
       "</defs>\n",
       "<polyline clip-path=\"url(#clip032)\" style=\"stroke:#000000; stroke-linecap:butt; stroke-linejoin:round; stroke-width:2; stroke-opacity:0.1; fill:none\" points=\"\n",
       "  263.042,1486.45 263.042,47.2441 \n",
       "  \"/>\n",
       "<polyline clip-path=\"url(#clip032)\" style=\"stroke:#000000; stroke-linecap:butt; stroke-linejoin:round; stroke-width:2; stroke-opacity:0.1; fill:none\" points=\"\n",
       "  587.658,1486.45 587.658,47.2441 \n",
       "  \"/>\n",
       "<polyline clip-path=\"url(#clip032)\" style=\"stroke:#000000; stroke-linecap:butt; stroke-linejoin:round; stroke-width:2; stroke-opacity:0.1; fill:none\" points=\"\n",
       "  912.274,1486.45 912.274,47.2441 \n",
       "  \"/>\n",
       "<polyline clip-path=\"url(#clip032)\" style=\"stroke:#000000; stroke-linecap:butt; stroke-linejoin:round; stroke-width:2; stroke-opacity:0.1; fill:none\" points=\"\n",
       "  1236.89,1486.45 1236.89,47.2441 \n",
       "  \"/>\n",
       "<polyline clip-path=\"url(#clip032)\" style=\"stroke:#000000; stroke-linecap:butt; stroke-linejoin:round; stroke-width:2; stroke-opacity:0.1; fill:none\" points=\"\n",
       "  1561.51,1486.45 1561.51,47.2441 \n",
       "  \"/>\n",
       "<polyline clip-path=\"url(#clip032)\" style=\"stroke:#000000; stroke-linecap:butt; stroke-linejoin:round; stroke-width:2; stroke-opacity:0.1; fill:none\" points=\"\n",
       "  1886.12,1486.45 1886.12,47.2441 \n",
       "  \"/>\n",
       "<polyline clip-path=\"url(#clip032)\" style=\"stroke:#000000; stroke-linecap:butt; stroke-linejoin:round; stroke-width:2; stroke-opacity:0.1; fill:none\" points=\"\n",
       "  2210.74,1486.45 2210.74,47.2441 \n",
       "  \"/>\n",
       "<polyline clip-path=\"url(#clip030)\" style=\"stroke:#000000; stroke-linecap:butt; stroke-linejoin:round; stroke-width:4; stroke-opacity:1; fill:none\" points=\"\n",
       "  202.177,1486.45 2352.76,1486.45 \n",
       "  \"/>\n",
       "<polyline clip-path=\"url(#clip030)\" style=\"stroke:#000000; stroke-linecap:butt; stroke-linejoin:round; stroke-width:4; stroke-opacity:1; fill:none\" points=\"\n",
       "  263.042,1486.45 263.042,1467.55 \n",
       "  \"/>\n",
       "<polyline clip-path=\"url(#clip030)\" style=\"stroke:#000000; stroke-linecap:butt; stroke-linejoin:round; stroke-width:4; stroke-opacity:1; fill:none\" points=\"\n",
       "  587.658,1486.45 587.658,1467.55 \n",
       "  \"/>\n",
       "<polyline clip-path=\"url(#clip030)\" style=\"stroke:#000000; stroke-linecap:butt; stroke-linejoin:round; stroke-width:4; stroke-opacity:1; fill:none\" points=\"\n",
       "  912.274,1486.45 912.274,1467.55 \n",
       "  \"/>\n",
       "<polyline clip-path=\"url(#clip030)\" style=\"stroke:#000000; stroke-linecap:butt; stroke-linejoin:round; stroke-width:4; stroke-opacity:1; fill:none\" points=\"\n",
       "  1236.89,1486.45 1236.89,1467.55 \n",
       "  \"/>\n",
       "<polyline clip-path=\"url(#clip030)\" style=\"stroke:#000000; stroke-linecap:butt; stroke-linejoin:round; stroke-width:4; stroke-opacity:1; fill:none\" points=\"\n",
       "  1561.51,1486.45 1561.51,1467.55 \n",
       "  \"/>\n",
       "<polyline clip-path=\"url(#clip030)\" style=\"stroke:#000000; stroke-linecap:butt; stroke-linejoin:round; stroke-width:4; stroke-opacity:1; fill:none\" points=\"\n",
       "  1886.12,1486.45 1886.12,1467.55 \n",
       "  \"/>\n",
       "<polyline clip-path=\"url(#clip030)\" style=\"stroke:#000000; stroke-linecap:butt; stroke-linejoin:round; stroke-width:4; stroke-opacity:1; fill:none\" points=\"\n",
       "  2210.74,1486.45 2210.74,1467.55 \n",
       "  \"/>\n",
       "<path clip-path=\"url(#clip030)\" d=\"M263.042 1517.37 Q259.431 1517.37 257.602 1520.93 Q255.797 1524.47 255.797 1531.6 Q255.797 1538.71 257.602 1542.27 Q259.431 1545.82 263.042 1545.82 Q266.676 1545.82 268.482 1542.27 Q270.311 1538.71 270.311 1531.6 Q270.311 1524.47 268.482 1520.93 Q266.676 1517.37 263.042 1517.37 M263.042 1513.66 Q268.852 1513.66 271.908 1518.27 Q274.987 1522.85 274.987 1531.6 Q274.987 1540.33 271.908 1544.94 Q268.852 1549.52 263.042 1549.52 Q257.232 1549.52 254.153 1544.94 Q251.098 1540.33 251.098 1531.6 Q251.098 1522.85 254.153 1518.27 Q257.232 1513.66 263.042 1513.66 Z\" fill=\"#000000\" fill-rule=\"evenodd\" fill-opacity=\"1\" /><path clip-path=\"url(#clip030)\" d=\"M566.431 1544.91 L582.75 1544.91 L582.75 1548.85 L560.806 1548.85 L560.806 1544.91 Q563.468 1542.16 568.051 1537.53 Q572.658 1532.88 573.839 1531.53 Q576.084 1529.01 576.963 1527.27 Q577.866 1525.51 577.866 1523.82 Q577.866 1521.07 575.922 1519.33 Q574.001 1517.6 570.899 1517.6 Q568.7 1517.6 566.246 1518.36 Q563.815 1519.13 561.038 1520.68 L561.038 1515.95 Q563.862 1514.82 566.315 1514.24 Q568.769 1513.66 570.806 1513.66 Q576.176 1513.66 579.371 1516.35 Q582.565 1519.03 582.565 1523.52 Q582.565 1525.65 581.755 1527.57 Q580.968 1529.47 578.862 1532.07 Q578.283 1532.74 575.181 1535.95 Q572.079 1539.15 566.431 1544.91 Z\" fill=\"#000000\" fill-rule=\"evenodd\" fill-opacity=\"1\" /><path clip-path=\"url(#clip030)\" d=\"M602.565 1517.37 Q598.954 1517.37 597.125 1520.93 Q595.32 1524.47 595.32 1531.6 Q595.32 1538.71 597.125 1542.27 Q598.954 1545.82 602.565 1545.82 Q606.199 1545.82 608.005 1542.27 Q609.834 1538.71 609.834 1531.6 Q609.834 1524.47 608.005 1520.93 Q606.199 1517.37 602.565 1517.37 M602.565 1513.66 Q608.375 1513.66 611.431 1518.27 Q614.51 1522.85 614.51 1531.6 Q614.51 1540.33 611.431 1544.94 Q608.375 1549.52 602.565 1549.52 Q596.755 1549.52 593.676 1544.94 Q590.621 1540.33 590.621 1531.6 Q590.621 1522.85 593.676 1518.27 Q596.755 1513.66 602.565 1513.66 Z\" fill=\"#000000\" fill-rule=\"evenodd\" fill-opacity=\"1\" /><path clip-path=\"url(#clip030)\" d=\"M900.445 1518.36 L888.639 1536.81 L900.445 1536.81 L900.445 1518.36 M899.218 1514.29 L905.098 1514.29 L905.098 1536.81 L910.028 1536.81 L910.028 1540.7 L905.098 1540.7 L905.098 1548.85 L900.445 1548.85 L900.445 1540.7 L884.843 1540.7 L884.843 1536.19 L899.218 1514.29 Z\" fill=\"#000000\" fill-rule=\"evenodd\" fill-opacity=\"1\" /><path clip-path=\"url(#clip030)\" d=\"M927.76 1517.37 Q924.149 1517.37 922.32 1520.93 Q920.514 1524.47 920.514 1531.6 Q920.514 1538.71 922.32 1542.27 Q924.149 1545.82 927.76 1545.82 Q931.394 1545.82 933.199 1542.27 Q935.028 1538.71 935.028 1531.6 Q935.028 1524.47 933.199 1520.93 Q931.394 1517.37 927.76 1517.37 M927.76 1513.66 Q933.57 1513.66 936.625 1518.27 Q939.704 1522.85 939.704 1531.6 Q939.704 1540.33 936.625 1544.94 Q933.57 1549.52 927.76 1549.52 Q921.949 1549.52 918.871 1544.94 Q915.815 1540.33 915.815 1531.6 Q915.815 1522.85 918.871 1518.27 Q921.949 1513.66 927.76 1513.66 Z\" fill=\"#000000\" fill-rule=\"evenodd\" fill-opacity=\"1\" /><path clip-path=\"url(#clip030)\" d=\"M1222.29 1529.7 Q1219.15 1529.7 1217.29 1531.86 Q1215.47 1534.01 1215.47 1537.76 Q1215.47 1541.49 1217.29 1543.66 Q1219.15 1545.82 1222.29 1545.82 Q1225.44 1545.82 1227.27 1543.66 Q1229.12 1541.49 1229.12 1537.76 Q1229.12 1534.01 1227.27 1531.86 Q1225.44 1529.7 1222.29 1529.7 M1231.58 1515.05 L1231.58 1519.31 Q1229.82 1518.48 1228.01 1518.04 Q1226.23 1517.6 1224.47 1517.6 Q1219.84 1517.6 1217.39 1520.72 Q1214.96 1523.85 1214.61 1530.17 Q1215.98 1528.15 1218.04 1527.09 Q1220.1 1526 1222.57 1526 Q1227.78 1526 1230.79 1529.17 Q1233.82 1532.32 1233.82 1537.76 Q1233.82 1543.08 1230.67 1546.3 Q1227.53 1549.52 1222.29 1549.52 Q1216.3 1549.52 1213.13 1544.94 Q1209.96 1540.33 1209.96 1531.6 Q1209.96 1523.41 1213.85 1518.55 Q1217.73 1513.66 1224.29 1513.66 Q1226.04 1513.66 1227.83 1514.01 Q1229.63 1514.36 1231.58 1515.05 Z\" fill=\"#000000\" fill-rule=\"evenodd\" fill-opacity=\"1\" /><path clip-path=\"url(#clip030)\" d=\"M1251.88 1517.37 Q1248.27 1517.37 1246.44 1520.93 Q1244.63 1524.47 1244.63 1531.6 Q1244.63 1538.71 1246.44 1542.27 Q1248.27 1545.82 1251.88 1545.82 Q1255.51 1545.82 1257.32 1542.27 Q1259.15 1538.71 1259.15 1531.6 Q1259.15 1524.47 1257.32 1520.93 Q1255.51 1517.37 1251.88 1517.37 M1251.88 1513.66 Q1257.69 1513.66 1260.74 1518.27 Q1263.82 1522.85 1263.82 1531.6 Q1263.82 1540.33 1260.74 1544.94 Q1257.69 1549.52 1251.88 1549.52 Q1246.07 1549.52 1242.99 1544.94 Q1239.93 1540.33 1239.93 1531.6 Q1239.93 1522.85 1242.99 1518.27 Q1246.07 1513.66 1251.88 1513.66 Z\" fill=\"#000000\" fill-rule=\"evenodd\" fill-opacity=\"1\" /><path clip-path=\"url(#clip030)\" d=\"M1546.38 1532.44 Q1543.04 1532.44 1541.12 1534.22 Q1539.23 1536 1539.23 1539.13 Q1539.23 1542.25 1541.12 1544.03 Q1543.04 1545.82 1546.38 1545.82 Q1549.71 1545.82 1551.63 1544.03 Q1553.55 1542.23 1553.55 1539.13 Q1553.55 1536 1551.63 1534.22 Q1549.73 1532.44 1546.38 1532.44 M1541.7 1530.45 Q1538.69 1529.7 1537 1527.64 Q1535.34 1525.58 1535.34 1522.62 Q1535.34 1518.48 1538.28 1516.07 Q1541.24 1513.66 1546.38 1513.66 Q1551.54 1513.66 1554.48 1516.07 Q1557.42 1518.48 1557.42 1522.62 Q1557.42 1525.58 1555.73 1527.64 Q1554.06 1529.7 1551.08 1530.45 Q1554.46 1531.23 1556.33 1533.52 Q1558.23 1535.82 1558.23 1539.13 Q1558.23 1544.15 1555.15 1546.83 Q1552.1 1549.52 1546.38 1549.52 Q1540.66 1549.52 1537.58 1546.83 Q1534.53 1544.15 1534.53 1539.13 Q1534.53 1535.82 1536.42 1533.52 Q1538.32 1531.23 1541.7 1530.45 M1539.99 1523.06 Q1539.99 1525.75 1541.66 1527.25 Q1543.35 1528.76 1546.38 1528.76 Q1549.39 1528.76 1551.08 1527.25 Q1552.79 1525.75 1552.79 1523.06 Q1552.79 1520.38 1551.08 1518.87 Q1549.39 1517.37 1546.38 1517.37 Q1543.35 1517.37 1541.66 1518.87 Q1539.99 1520.38 1539.99 1523.06 Z\" fill=\"#000000\" fill-rule=\"evenodd\" fill-opacity=\"1\" /><path clip-path=\"url(#clip030)\" d=\"M1576.54 1517.37 Q1572.93 1517.37 1571.1 1520.93 Q1569.29 1524.47 1569.29 1531.6 Q1569.29 1538.71 1571.1 1542.27 Q1572.93 1545.82 1576.54 1545.82 Q1580.17 1545.82 1581.98 1542.27 Q1583.81 1538.71 1583.81 1531.6 Q1583.81 1524.47 1581.98 1520.93 Q1580.17 1517.37 1576.54 1517.37 M1576.54 1513.66 Q1582.35 1513.66 1585.41 1518.27 Q1588.48 1522.85 1588.48 1531.6 Q1588.48 1540.33 1585.41 1544.94 Q1582.35 1549.52 1576.54 1549.52 Q1570.73 1549.52 1567.65 1544.94 Q1564.6 1540.33 1564.6 1531.6 Q1564.6 1522.85 1567.65 1518.27 Q1570.73 1513.66 1576.54 1513.66 Z\" fill=\"#000000\" fill-rule=\"evenodd\" fill-opacity=\"1\" /><path clip-path=\"url(#clip030)\" d=\"M1845.73 1544.91 L1853.37 1544.91 L1853.37 1518.55 L1845.06 1520.21 L1845.06 1515.95 L1853.32 1514.29 L1858 1514.29 L1858 1544.91 L1865.63 1544.91 L1865.63 1548.85 L1845.73 1548.85 L1845.73 1544.91 Z\" fill=\"#000000\" fill-rule=\"evenodd\" fill-opacity=\"1\" /><path clip-path=\"url(#clip030)\" d=\"M1885.08 1517.37 Q1881.47 1517.37 1879.64 1520.93 Q1877.83 1524.47 1877.83 1531.6 Q1877.83 1538.71 1879.64 1542.27 Q1881.47 1545.82 1885.08 1545.82 Q1888.71 1545.82 1890.52 1542.27 Q1892.35 1538.71 1892.35 1531.6 Q1892.35 1524.47 1890.52 1520.93 Q1888.71 1517.37 1885.08 1517.37 M1885.08 1513.66 Q1890.89 1513.66 1893.94 1518.27 Q1897.02 1522.85 1897.02 1531.6 Q1897.02 1540.33 1893.94 1544.94 Q1890.89 1549.52 1885.08 1549.52 Q1879.27 1549.52 1876.19 1544.94 Q1873.13 1540.33 1873.13 1531.6 Q1873.13 1522.85 1876.19 1518.27 Q1879.27 1513.66 1885.08 1513.66 Z\" fill=\"#000000\" fill-rule=\"evenodd\" fill-opacity=\"1\" /><path clip-path=\"url(#clip030)\" d=\"M1915.24 1517.37 Q1911.63 1517.37 1909.8 1520.93 Q1908 1524.47 1908 1531.6 Q1908 1538.71 1909.8 1542.27 Q1911.63 1545.82 1915.24 1545.82 Q1918.88 1545.82 1920.68 1542.27 Q1922.51 1538.71 1922.51 1531.6 Q1922.51 1524.47 1920.68 1520.93 Q1918.88 1517.37 1915.24 1517.37 M1915.24 1513.66 Q1921.05 1513.66 1924.11 1518.27 Q1927.19 1522.85 1927.19 1531.6 Q1927.19 1540.33 1924.11 1544.94 Q1921.05 1549.52 1915.24 1549.52 Q1909.43 1549.52 1906.35 1544.94 Q1903.3 1540.33 1903.3 1531.6 Q1903.3 1522.85 1906.35 1518.27 Q1909.43 1513.66 1915.24 1513.66 Z\" fill=\"#000000\" fill-rule=\"evenodd\" fill-opacity=\"1\" /><path clip-path=\"url(#clip030)\" d=\"M2170.34 1544.91 L2177.98 1544.91 L2177.98 1518.55 L2169.67 1520.21 L2169.67 1515.95 L2177.94 1514.29 L2182.61 1514.29 L2182.61 1544.91 L2190.25 1544.91 L2190.25 1548.85 L2170.34 1548.85 L2170.34 1544.91 Z\" fill=\"#000000\" fill-rule=\"evenodd\" fill-opacity=\"1\" /><path clip-path=\"url(#clip030)\" d=\"M2203.72 1544.91 L2220.04 1544.91 L2220.04 1548.85 L2198.1 1548.85 L2198.1 1544.91 Q2200.76 1542.16 2205.34 1537.53 Q2209.95 1532.88 2211.13 1531.53 Q2213.38 1529.01 2214.26 1527.27 Q2215.16 1525.51 2215.16 1523.82 Q2215.16 1521.07 2213.21 1519.33 Q2211.29 1517.6 2208.19 1517.6 Q2205.99 1517.6 2203.54 1518.36 Q2201.11 1519.13 2198.33 1520.68 L2198.33 1515.95 Q2201.15 1514.82 2203.61 1514.24 Q2206.06 1513.66 2208.1 1513.66 Q2213.47 1513.66 2216.66 1516.35 Q2219.86 1519.03 2219.86 1523.52 Q2219.86 1525.65 2219.05 1527.57 Q2218.26 1529.47 2216.15 1532.07 Q2215.57 1532.74 2212.47 1535.95 Q2209.37 1539.15 2203.72 1544.91 Z\" fill=\"#000000\" fill-rule=\"evenodd\" fill-opacity=\"1\" /><path clip-path=\"url(#clip030)\" d=\"M2239.86 1517.37 Q2236.25 1517.37 2234.42 1520.93 Q2232.61 1524.47 2232.61 1531.6 Q2232.61 1538.71 2234.42 1542.27 Q2236.25 1545.82 2239.86 1545.82 Q2243.49 1545.82 2245.3 1542.27 Q2247.13 1538.71 2247.13 1531.6 Q2247.13 1524.47 2245.3 1520.93 Q2243.49 1517.37 2239.86 1517.37 M2239.86 1513.66 Q2245.67 1513.66 2248.72 1518.27 Q2251.8 1522.85 2251.8 1531.6 Q2251.8 1540.33 2248.72 1544.94 Q2245.67 1549.52 2239.86 1549.52 Q2234.05 1549.52 2230.97 1544.94 Q2227.91 1540.33 2227.91 1531.6 Q2227.91 1522.85 2230.97 1518.27 Q2234.05 1513.66 2239.86 1513.66 Z\" fill=\"#000000\" fill-rule=\"evenodd\" fill-opacity=\"1\" /><polyline clip-path=\"url(#clip032)\" style=\"stroke:#000000; stroke-linecap:butt; stroke-linejoin:round; stroke-width:2; stroke-opacity:0.1; fill:none\" points=\"\n",
       "  202.177,1373.56 2352.76,1373.56 \n",
       "  \"/>\n",
       "<polyline clip-path=\"url(#clip032)\" style=\"stroke:#000000; stroke-linecap:butt; stroke-linejoin:round; stroke-width:2; stroke-opacity:0.1; fill:none\" points=\"\n",
       "  202.177,1063.86 2352.76,1063.86 \n",
       "  \"/>\n",
       "<polyline clip-path=\"url(#clip032)\" style=\"stroke:#000000; stroke-linecap:butt; stroke-linejoin:round; stroke-width:2; stroke-opacity:0.1; fill:none\" points=\"\n",
       "  202.177,754.153 2352.76,754.153 \n",
       "  \"/>\n",
       "<polyline clip-path=\"url(#clip032)\" style=\"stroke:#000000; stroke-linecap:butt; stroke-linejoin:round; stroke-width:2; stroke-opacity:0.1; fill:none\" points=\"\n",
       "  202.177,444.447 2352.76,444.447 \n",
       "  \"/>\n",
       "<polyline clip-path=\"url(#clip032)\" style=\"stroke:#000000; stroke-linecap:butt; stroke-linejoin:round; stroke-width:2; stroke-opacity:0.1; fill:none\" points=\"\n",
       "  202.177,134.742 2352.76,134.742 \n",
       "  \"/>\n",
       "<polyline clip-path=\"url(#clip030)\" style=\"stroke:#000000; stroke-linecap:butt; stroke-linejoin:round; stroke-width:4; stroke-opacity:1; fill:none\" points=\"\n",
       "  202.177,1486.45 202.177,47.2441 \n",
       "  \"/>\n",
       "<polyline clip-path=\"url(#clip030)\" style=\"stroke:#000000; stroke-linecap:butt; stroke-linejoin:round; stroke-width:4; stroke-opacity:1; fill:none\" points=\"\n",
       "  202.177,1373.56 221.074,1373.56 \n",
       "  \"/>\n",
       "<polyline clip-path=\"url(#clip030)\" style=\"stroke:#000000; stroke-linecap:butt; stroke-linejoin:round; stroke-width:4; stroke-opacity:1; fill:none\" points=\"\n",
       "  202.177,1063.86 221.074,1063.86 \n",
       "  \"/>\n",
       "<polyline clip-path=\"url(#clip030)\" style=\"stroke:#000000; stroke-linecap:butt; stroke-linejoin:round; stroke-width:4; stroke-opacity:1; fill:none\" points=\"\n",
       "  202.177,754.153 221.074,754.153 \n",
       "  \"/>\n",
       "<polyline clip-path=\"url(#clip030)\" style=\"stroke:#000000; stroke-linecap:butt; stroke-linejoin:round; stroke-width:4; stroke-opacity:1; fill:none\" points=\"\n",
       "  202.177,444.447 221.074,444.447 \n",
       "  \"/>\n",
       "<polyline clip-path=\"url(#clip030)\" style=\"stroke:#000000; stroke-linecap:butt; stroke-linejoin:round; stroke-width:4; stroke-opacity:1; fill:none\" points=\"\n",
       "  202.177,134.742 221.074,134.742 \n",
       "  \"/>\n",
       "<path clip-path=\"url(#clip030)\" d=\"M154.232 1359.36 Q150.621 1359.36 148.793 1362.93 Q146.987 1366.47 146.987 1373.6 Q146.987 1380.7 148.793 1384.27 Q150.621 1387.81 154.232 1387.81 Q157.867 1387.81 159.672 1384.27 Q161.501 1380.7 161.501 1373.6 Q161.501 1366.47 159.672 1362.93 Q157.867 1359.36 154.232 1359.36 M154.232 1355.66 Q160.042 1355.66 163.098 1360.26 Q166.177 1364.85 166.177 1373.6 Q166.177 1382.32 163.098 1386.93 Q160.042 1391.51 154.232 1391.51 Q148.422 1391.51 145.343 1386.93 Q142.288 1382.32 142.288 1373.6 Q142.288 1364.85 145.343 1360.26 Q148.422 1355.66 154.232 1355.66 Z\" fill=\"#000000\" fill-rule=\"evenodd\" fill-opacity=\"1\" /><path clip-path=\"url(#clip030)\" d=\"M54.5569 1077.2 L62.1958 1077.2 L62.1958 1050.84 L53.8856 1052.5 L53.8856 1048.24 L62.1495 1046.58 L66.8254 1046.58 L66.8254 1077.2 L74.4642 1077.2 L74.4642 1081.14 L54.5569 1081.14 L54.5569 1077.2 Z\" fill=\"#000000\" fill-rule=\"evenodd\" fill-opacity=\"1\" /><path clip-path=\"url(#clip030)\" d=\"M93.9086 1049.66 Q90.2975 1049.66 88.4688 1053.22 Q86.6632 1056.76 86.6632 1063.89 Q86.6632 1071 88.4688 1074.56 Q90.2975 1078.11 93.9086 1078.11 Q97.5428 1078.11 99.3483 1074.56 Q101.177 1071 101.177 1063.89 Q101.177 1056.76 99.3483 1053.22 Q97.5428 1049.66 93.9086 1049.66 M93.9086 1045.95 Q99.7187 1045.95 102.774 1050.56 Q105.853 1055.14 105.853 1063.89 Q105.853 1072.62 102.774 1077.23 Q99.7187 1081.81 93.9086 1081.81 Q88.0984 1081.81 85.0197 1077.23 Q81.9642 1072.62 81.9642 1063.89 Q81.9642 1055.14 85.0197 1050.56 Q88.0984 1045.95 93.9086 1045.95 Z\" fill=\"#000000\" fill-rule=\"evenodd\" fill-opacity=\"1\" /><path clip-path=\"url(#clip030)\" d=\"M124.07 1049.66 Q120.459 1049.66 118.631 1053.22 Q116.825 1056.76 116.825 1063.89 Q116.825 1071 118.631 1074.56 Q120.459 1078.11 124.07 1078.11 Q127.705 1078.11 129.51 1074.56 Q131.339 1071 131.339 1063.89 Q131.339 1056.76 129.51 1053.22 Q127.705 1049.66 124.07 1049.66 M124.07 1045.95 Q129.881 1045.95 132.936 1050.56 Q136.015 1055.14 136.015 1063.89 Q136.015 1072.62 132.936 1077.23 Q129.881 1081.81 124.07 1081.81 Q118.26 1081.81 115.182 1077.23 Q112.126 1072.62 112.126 1063.89 Q112.126 1055.14 115.182 1050.56 Q118.26 1045.95 124.07 1045.95 Z\" fill=\"#000000\" fill-rule=\"evenodd\" fill-opacity=\"1\" /><path clip-path=\"url(#clip030)\" d=\"M154.232 1049.66 Q150.621 1049.66 148.793 1053.22 Q146.987 1056.76 146.987 1063.89 Q146.987 1071 148.793 1074.56 Q150.621 1078.11 154.232 1078.11 Q157.867 1078.11 159.672 1074.56 Q161.501 1071 161.501 1063.89 Q161.501 1056.76 159.672 1053.22 Q157.867 1049.66 154.232 1049.66 M154.232 1045.95 Q160.042 1045.95 163.098 1050.56 Q166.177 1055.14 166.177 1063.89 Q166.177 1072.62 163.098 1077.23 Q160.042 1081.81 154.232 1081.81 Q148.422 1081.81 145.343 1077.23 Q142.288 1072.62 142.288 1063.89 Q142.288 1055.14 145.343 1050.56 Q148.422 1045.95 154.232 1045.95 Z\" fill=\"#000000\" fill-rule=\"evenodd\" fill-opacity=\"1\" /><path clip-path=\"url(#clip030)\" d=\"M57.7745 767.497 L74.0939 767.497 L74.0939 771.433 L52.1495 771.433 L52.1495 767.497 Q54.8115 764.743 59.3949 760.113 Q64.0013 755.46 65.1819 754.118 Q67.4272 751.595 68.3068 749.859 Q69.2096 748.099 69.2096 746.41 Q69.2096 743.655 67.2652 741.919 Q65.3439 740.183 62.2421 740.183 Q60.043 740.183 57.5893 740.947 Q55.1588 741.71 52.381 743.261 L52.381 738.539 Q55.2051 737.405 57.6588 736.826 Q60.1124 736.248 62.1495 736.248 Q67.5198 736.248 70.7142 738.933 Q73.9087 741.618 73.9087 746.109 Q73.9087 748.238 73.0985 750.16 Q72.3115 752.058 70.205 754.65 Q69.6263 755.322 66.5245 758.539 Q63.4226 761.734 57.7745 767.497 Z\" fill=\"#000000\" fill-rule=\"evenodd\" fill-opacity=\"1\" /><path clip-path=\"url(#clip030)\" d=\"M93.9086 739.951 Q90.2975 739.951 88.4688 743.516 Q86.6632 747.058 86.6632 754.187 Q86.6632 761.294 88.4688 764.859 Q90.2975 768.4 93.9086 768.4 Q97.5428 768.4 99.3483 764.859 Q101.177 761.294 101.177 754.187 Q101.177 747.058 99.3483 743.516 Q97.5428 739.951 93.9086 739.951 M93.9086 736.248 Q99.7187 736.248 102.774 740.854 Q105.853 745.437 105.853 754.187 Q105.853 762.914 102.774 767.521 Q99.7187 772.104 93.9086 772.104 Q88.0984 772.104 85.0197 767.521 Q81.9642 762.914 81.9642 754.187 Q81.9642 745.437 85.0197 740.854 Q88.0984 736.248 93.9086 736.248 Z\" fill=\"#000000\" fill-rule=\"evenodd\" fill-opacity=\"1\" /><path clip-path=\"url(#clip030)\" d=\"M124.07 739.951 Q120.459 739.951 118.631 743.516 Q116.825 747.058 116.825 754.187 Q116.825 761.294 118.631 764.859 Q120.459 768.4 124.07 768.4 Q127.705 768.4 129.51 764.859 Q131.339 761.294 131.339 754.187 Q131.339 747.058 129.51 743.516 Q127.705 739.951 124.07 739.951 M124.07 736.248 Q129.881 736.248 132.936 740.854 Q136.015 745.437 136.015 754.187 Q136.015 762.914 132.936 767.521 Q129.881 772.104 124.07 772.104 Q118.26 772.104 115.182 767.521 Q112.126 762.914 112.126 754.187 Q112.126 745.437 115.182 740.854 Q118.26 736.248 124.07 736.248 Z\" fill=\"#000000\" fill-rule=\"evenodd\" fill-opacity=\"1\" /><path clip-path=\"url(#clip030)\" d=\"M154.232 739.951 Q150.621 739.951 148.793 743.516 Q146.987 747.058 146.987 754.187 Q146.987 761.294 148.793 764.859 Q150.621 768.4 154.232 768.4 Q157.867 768.4 159.672 764.859 Q161.501 761.294 161.501 754.187 Q161.501 747.058 159.672 743.516 Q157.867 739.951 154.232 739.951 M154.232 736.248 Q160.042 736.248 163.098 740.854 Q166.177 745.437 166.177 754.187 Q166.177 762.914 163.098 767.521 Q160.042 772.104 154.232 772.104 Q148.422 772.104 145.343 767.521 Q142.288 762.914 142.288 754.187 Q142.288 745.437 145.343 740.854 Q148.422 736.248 154.232 736.248 Z\" fill=\"#000000\" fill-rule=\"evenodd\" fill-opacity=\"1\" /><path clip-path=\"url(#clip030)\" d=\"M67.9133 443.093 Q71.2698 443.811 73.1448 446.079 Q75.0429 448.348 75.0429 451.681 Q75.0429 456.797 71.5244 459.598 Q68.0059 462.398 61.5245 462.398 Q59.3486 462.398 57.0338 461.959 Q54.7421 461.542 52.2884 460.686 L52.2884 456.172 Q54.2328 457.306 56.5477 457.885 Q58.8625 458.463 61.3856 458.463 Q65.7837 458.463 68.0754 456.727 Q70.3902 454.991 70.3902 451.681 Q70.3902 448.625 68.2374 446.912 Q66.1078 445.176 62.2884 445.176 L58.2606 445.176 L58.2606 441.334 L62.4735 441.334 Q65.9226 441.334 67.7513 439.968 Q69.58 438.579 69.58 435.987 Q69.58 433.325 67.6819 431.913 Q65.8069 430.477 62.2884 430.477 Q60.3671 430.477 58.168 430.894 Q55.969 431.311 53.3301 432.19 L53.3301 428.024 Q55.9921 427.283 58.3069 426.913 Q60.6449 426.542 62.705 426.542 Q68.0291 426.542 71.1309 428.973 Q74.2327 431.38 74.2327 435.5 Q74.2327 438.371 72.5892 440.362 Q70.9457 442.329 67.9133 443.093 Z\" fill=\"#000000\" fill-rule=\"evenodd\" fill-opacity=\"1\" /><path clip-path=\"url(#clip030)\" d=\"M93.9086 430.246 Q90.2975 430.246 88.4688 433.811 Q86.6632 437.352 86.6632 444.482 Q86.6632 451.588 88.4688 455.153 Q90.2975 458.695 93.9086 458.695 Q97.5428 458.695 99.3483 455.153 Q101.177 451.588 101.177 444.482 Q101.177 437.352 99.3483 433.811 Q97.5428 430.246 93.9086 430.246 M93.9086 426.542 Q99.7187 426.542 102.774 431.149 Q105.853 435.732 105.853 444.482 Q105.853 453.209 102.774 457.815 Q99.7187 462.398 93.9086 462.398 Q88.0984 462.398 85.0197 457.815 Q81.9642 453.209 81.9642 444.482 Q81.9642 435.732 85.0197 431.149 Q88.0984 426.542 93.9086 426.542 Z\" fill=\"#000000\" fill-rule=\"evenodd\" fill-opacity=\"1\" /><path clip-path=\"url(#clip030)\" d=\"M124.07 430.246 Q120.459 430.246 118.631 433.811 Q116.825 437.352 116.825 444.482 Q116.825 451.588 118.631 455.153 Q120.459 458.695 124.07 458.695 Q127.705 458.695 129.51 455.153 Q131.339 451.588 131.339 444.482 Q131.339 437.352 129.51 433.811 Q127.705 430.246 124.07 430.246 M124.07 426.542 Q129.881 426.542 132.936 431.149 Q136.015 435.732 136.015 444.482 Q136.015 453.209 132.936 457.815 Q129.881 462.398 124.07 462.398 Q118.26 462.398 115.182 457.815 Q112.126 453.209 112.126 444.482 Q112.126 435.732 115.182 431.149 Q118.26 426.542 124.07 426.542 Z\" fill=\"#000000\" fill-rule=\"evenodd\" fill-opacity=\"1\" /><path clip-path=\"url(#clip030)\" d=\"M154.232 430.246 Q150.621 430.246 148.793 433.811 Q146.987 437.352 146.987 444.482 Q146.987 451.588 148.793 455.153 Q150.621 458.695 154.232 458.695 Q157.867 458.695 159.672 455.153 Q161.501 451.588 161.501 444.482 Q161.501 437.352 159.672 433.811 Q157.867 430.246 154.232 430.246 M154.232 426.542 Q160.042 426.542 163.098 431.149 Q166.177 435.732 166.177 444.482 Q166.177 453.209 163.098 457.815 Q160.042 462.398 154.232 462.398 Q148.422 462.398 145.343 457.815 Q142.288 453.209 142.288 444.482 Q142.288 435.732 145.343 431.149 Q148.422 426.542 154.232 426.542 Z\" fill=\"#000000\" fill-rule=\"evenodd\" fill-opacity=\"1\" /><path clip-path=\"url(#clip030)\" d=\"M66.5939 121.536 L54.7884 139.985 L66.5939 139.985 L66.5939 121.536 M65.367 117.462 L71.2466 117.462 L71.2466 139.985 L76.1772 139.985 L76.1772 143.874 L71.2466 143.874 L71.2466 152.022 L66.5939 152.022 L66.5939 143.874 L50.9921 143.874 L50.9921 139.36 L65.367 117.462 Z\" fill=\"#000000\" fill-rule=\"evenodd\" fill-opacity=\"1\" /><path clip-path=\"url(#clip030)\" d=\"M93.9086 120.54 Q90.2975 120.54 88.4688 124.105 Q86.6632 127.647 86.6632 134.777 Q86.6632 141.883 88.4688 145.448 Q90.2975 148.989 93.9086 148.989 Q97.5428 148.989 99.3483 145.448 Q101.177 141.883 101.177 134.777 Q101.177 127.647 99.3483 124.105 Q97.5428 120.54 93.9086 120.54 M93.9086 116.837 Q99.7187 116.837 102.774 121.443 Q105.853 126.027 105.853 134.777 Q105.853 143.503 102.774 148.11 Q99.7187 152.693 93.9086 152.693 Q88.0984 152.693 85.0197 148.11 Q81.9642 143.503 81.9642 134.777 Q81.9642 126.027 85.0197 121.443 Q88.0984 116.837 93.9086 116.837 Z\" fill=\"#000000\" fill-rule=\"evenodd\" fill-opacity=\"1\" /><path clip-path=\"url(#clip030)\" d=\"M124.07 120.54 Q120.459 120.54 118.631 124.105 Q116.825 127.647 116.825 134.777 Q116.825 141.883 118.631 145.448 Q120.459 148.989 124.07 148.989 Q127.705 148.989 129.51 145.448 Q131.339 141.883 131.339 134.777 Q131.339 127.647 129.51 124.105 Q127.705 120.54 124.07 120.54 M124.07 116.837 Q129.881 116.837 132.936 121.443 Q136.015 126.027 136.015 134.777 Q136.015 143.503 132.936 148.11 Q129.881 152.693 124.07 152.693 Q118.26 152.693 115.182 148.11 Q112.126 143.503 112.126 134.777 Q112.126 126.027 115.182 121.443 Q118.26 116.837 124.07 116.837 Z\" fill=\"#000000\" fill-rule=\"evenodd\" fill-opacity=\"1\" /><path clip-path=\"url(#clip030)\" d=\"M154.232 120.54 Q150.621 120.54 148.793 124.105 Q146.987 127.647 146.987 134.777 Q146.987 141.883 148.793 145.448 Q150.621 148.989 154.232 148.989 Q157.867 148.989 159.672 145.448 Q161.501 141.883 161.501 134.777 Q161.501 127.647 159.672 124.105 Q157.867 120.54 154.232 120.54 M154.232 116.837 Q160.042 116.837 163.098 121.443 Q166.177 126.027 166.177 134.777 Q166.177 143.503 163.098 148.11 Q160.042 152.693 154.232 152.693 Q148.422 152.693 145.343 148.11 Q142.288 143.503 142.288 134.777 Q142.288 126.027 145.343 121.443 Q148.422 116.837 154.232 116.837 Z\" fill=\"#000000\" fill-rule=\"evenodd\" fill-opacity=\"1\" /><circle clip-path=\"url(#clip032)\" cx=\"263.042\" cy=\"1373.56\" r=\"10\" fill=\"#add8e6\" fill-rule=\"evenodd\" fill-opacity=\"1\" stroke=\"#000000\" stroke-opacity=\"1\" stroke-width=\"3.2\"/>\n",
       "<circle clip-path=\"url(#clip032)\" cx=\"425.35\" cy=\"1316.27\" r=\"10\" fill=\"#add8e6\" fill-rule=\"evenodd\" fill-opacity=\"1\" stroke=\"#000000\" stroke-opacity=\"1\" stroke-width=\"3.2\"/>\n",
       "<circle clip-path=\"url(#clip032)\" cx=\"506.504\" cy=\"1274.77\" r=\"10\" fill=\"#add8e6\" fill-rule=\"evenodd\" fill-opacity=\"1\" stroke=\"#000000\" stroke-opacity=\"1\" stroke-width=\"3.2\"/>\n",
       "<circle clip-path=\"url(#clip032)\" cx=\"587.658\" cy=\"1235.13\" r=\"10\" fill=\"#add8e6\" fill-rule=\"evenodd\" fill-opacity=\"1\" stroke=\"#000000\" stroke-opacity=\"1\" stroke-width=\"3.2\"/>\n",
       "<circle clip-path=\"url(#clip032)\" cx=\"782.427\" cy=\"1143.76\" r=\"10\" fill=\"#add8e6\" fill-rule=\"evenodd\" fill-opacity=\"1\" stroke=\"#000000\" stroke-opacity=\"1\" stroke-width=\"3.2\"/>\n",
       "<circle clip-path=\"url(#clip032)\" cx=\"1220.66\" cy=\"963.204\" r=\"10\" fill=\"#add8e6\" fill-rule=\"evenodd\" fill-opacity=\"1\" stroke=\"#000000\" stroke-opacity=\"1\" stroke-width=\"3.2\"/>\n",
       "<circle clip-path=\"url(#clip032)\" cx=\"1269.35\" cy=\"926.039\" r=\"10\" fill=\"#add8e6\" fill-rule=\"evenodd\" fill-opacity=\"1\" stroke=\"#000000\" stroke-opacity=\"1\" stroke-width=\"3.2\"/>\n",
       "<circle clip-path=\"url(#clip032)\" cx=\"2291.89\" cy=\"87.9763\" r=\"10\" fill=\"#add8e6\" fill-rule=\"evenodd\" fill-opacity=\"1\" stroke=\"#000000\" stroke-opacity=\"1\" stroke-width=\"3.2\"/>\n",
       "<polyline clip-path=\"url(#clip032)\" style=\"stroke:#e26f46; stroke-linecap:butt; stroke-linejoin:round; stroke-width:4; stroke-opacity:1; fill:none\" points=\"\n",
       "  263.042,1445.72 282.856,1433.45 466.059,1320.05 576.156,1251.9 669.242,1194.29 770.36,1131.7 863.581,1074 963.524,1012.13 1079.32,940.459 1182.22,876.763 \n",
       "  1272.46,820.908 1370.84,760.011 1469.81,698.752 1579.23,631.022 1683.34,566.579 1791.6,499.574 1882.72,443.169 1993.98,374.305 2098.56,309.572 2266.11,205.863 \n",
       "  2291.89,189.903 \n",
       "  \"/>\n",
       "</svg>\n"
      ]
     },
     "execution_count": 6,
     "metadata": {},
     "output_type": "execute_result"
    }
   ],
   "source": [
    "using Plots\n",
    "using Random\n",
    "using LinearAlgebra\n",
    "B=[0;10;15;20;32;59;62;125]\n",
    "A=[0;185;319;447;742;1325;1445;4151]\n",
    "V=vandermonde(B,A,1)\n",
    "C=regressão(B,A,1)\n",
    "Reta(x)= C[1]+C[2]*x \n",
    "scatter(B, A, c=:lightblue, ms=3, leg=false)\n",
    "plot!(Reta)"
   ]
  },
  {
   "cell_type": "code",
   "execution_count": 15,
   "id": "dd5a9de2",
   "metadata": {},
   "outputs": [
    {
     "data": {
      "text/plain": [
       "224307.60859075945"
      ]
     },
     "execution_count": 15,
     "metadata": {},
     "output_type": "execute_result"
    }
   ],
   "source": [
    "#Vamos calcular a altura calculando a integral da Reta o intervalo 0 a 125\n",
    "trapezio(Reta,0,125,10)"
   ]
  },
  {
   "cell_type": "code",
   "execution_count": null,
   "id": "45b58844",
   "metadata": {},
   "outputs": [],
   "source": [
    "# A altura alcançada pelo foguete foi de 224307.60859075945 pes"
   ]
  },
  {
   "cell_type": "code",
   "execution_count": 9,
   "id": "2f769682",
   "metadata": {},
   "outputs": [
    {
     "data": {
      "text/plain": [
       "trapezio (generic function with 1 method)"
      ]
     },
     "execution_count": 9,
     "metadata": {},
     "output_type": "execute_result"
    }
   ],
   "source": [
    "#3(a)\n",
    "function trapezio(f,a,b,n) #calcular a integral f(x) de a até b\n",
    "    h=(b-a)/n\n",
    "    S=0.0\n",
    "    for i=1:(n-1)  #calcula o \"meio\"\n",
    "        x=a+i*h\n",
    "        S+=2*f(x)\n",
    "    end\n",
    "    S=h/2*(S+f(a)+f(b)) #calcula \"as pontas\"\n",
    "    return S\n",
    "end"
   ]
  },
  {
   "cell_type": "code",
   "execution_count": 10,
   "id": "f7c32ffe",
   "metadata": {},
   "outputs": [
    {
     "data": {
      "text/plain": [
       "0.7761295815620796"
      ]
     },
     "execution_count": 10,
     "metadata": {},
     "output_type": "execute_result"
    }
   ],
   "source": [
    "#Como h=0.1, a=0, b=1, então n = 10\n",
    "f(x)=sqrt(1 - x^2) #x^2 + y^2 = 1\n",
    "trapezio(f,0,1,10)"
   ]
  },
  {
   "cell_type": "code",
   "execution_count": 11,
   "id": "456522b6",
   "metadata": {},
   "outputs": [
    {
     "data": {
      "text/plain": [
       "3.104"
      ]
     },
     "execution_count": 11,
     "metadata": {},
     "output_type": "execute_result"
    }
   ],
   "source": [
    "# Como o raio é 1 e ja calculamos a area do circulo no primeiro quadrante(um quarto da area total do circulo)\n",
    "# Para determinar um valor aproximado para pi basta multiplicar por 4 a area do primeiro quadrante\n",
    "pi = 0.776*4"
   ]
  },
  {
   "cell_type": "code",
   "execution_count": 5,
   "id": "7a65ea6a",
   "metadata": {},
   "outputs": [],
   "source": [
    "#Entao ́area limitada por este circulo no primeiro quadrante é 0.776\n",
    "#E a aproximação de pi é 3.104"
   ]
  },
  {
   "cell_type": "code",
   "execution_count": null,
   "id": "7f7042dc",
   "metadata": {},
   "outputs": [],
   "source": [
    "#(b)\n",
    "# Não temos  o valor de M. \n",
    "# M >= |f''(x)| para todo a<=x<=b\n",
    "# f''(x) = - 1/((1-x^2)*sqrt(1-x^2)\n",
    "# Para x = 0 temos f''= 1 e para x indo para 1 f'' tende ao infinito\n",
    "# Então,não podemos aplicar a formula do erro do metode de trapezio"
   ]
  },
  {
   "cell_type": "code",
   "execution_count": 12,
   "id": "d0eb4cd7",
   "metadata": {},
   "outputs": [
    {
     "data": {
      "text/plain": [
       "Integral (generic function with 1 method)"
      ]
     },
     "execution_count": 12,
     "metadata": {},
     "output_type": "execute_result"
    }
   ],
   "source": [
    "#4\n",
    "#Aproveitando as funções apresentadas em sala de aula\n",
    "function Integral(f,a,b)\n",
    "    return trapezio(f,a,b,1000)\n",
    "end"
   ]
  },
  {
   "cell_type": "code",
   "execution_count": 13,
   "id": "8d601138",
   "metadata": {},
   "outputs": [
    {
     "data": {
      "text/plain": [
       "Integral_Dupla (generic function with 1 method)"
      ]
     },
     "execution_count": 13,
     "metadata": {},
     "output_type": "execute_result"
    }
   ],
   "source": [
    "function Integral_Dupla(h,a,b,c,d) #integral dupla de h(x,y) de a(y) até b(y) no x e de c até d no y\n",
    "    function g(y)\n",
    "        f(x)=h(x,y)\n",
    "        return Integral(f,a(y),b(y)) #mundando os limites da função\n",
    "    end\n",
    "    return Integral(g,c,d)\n",
    "end"
   ]
  },
  {
   "cell_type": "code",
   "execution_count": 14,
   "id": "9a2c47f6",
   "metadata": {},
   "outputs": [
    {
     "data": {
      "text/plain": [
       "53397.912560154145"
      ]
     },
     "execution_count": 14,
     "metadata": {},
     "output_type": "execute_result"
    }
   ],
   "source": [
    "h(x,y) = x^2*y\n",
    "a(y) = y\n",
    "b(y) = y^2\n",
    "Integral_Dupla(h,a,b,5,6)"
   ]
  },
  {
   "cell_type": "code",
   "execution_count": null,
   "id": "518e1163",
   "metadata": {},
   "outputs": [],
   "source": []
  }
 ],
 "metadata": {
  "kernelspec": {
   "display_name": "Julia 1.7.0",
   "language": "julia",
   "name": "julia-1.7"
  },
  "language_info": {
   "file_extension": ".jl",
   "mimetype": "application/julia",
   "name": "julia",
   "version": "1.7.0"
  }
 },
 "nbformat": 4,
 "nbformat_minor": 5
}
