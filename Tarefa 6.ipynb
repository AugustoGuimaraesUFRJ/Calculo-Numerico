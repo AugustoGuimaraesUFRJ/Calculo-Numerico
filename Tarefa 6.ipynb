{
 "cells": [
  {
   "cell_type": "code",
   "execution_count": 1,
   "id": "4d2320d9",
   "metadata": {},
   "outputs": [],
   "source": [
    "using LinearAlgebra\n",
    "using Plots"
   ]
  },
  {
   "cell_type": "code",
   "execution_count": 49,
   "id": "57a1a87d",
   "metadata": {},
   "outputs": [
    {
     "data": {
      "text/plain": [
       "resolve_diagonal (generic function with 1 method)"
      ]
     },
     "execution_count": 49,
     "metadata": {},
     "output_type": "execute_result"
    }
   ],
   "source": [
    "# Questão realizada pelos alunos \n",
    "# Augusto Guimarães - DRE:119025393, \n",
    "# Luiz Rodrigo Lace - DRE: 118049873 e \n",
    "# Livia Barbosa Fonseca - DRE: 118039721.\n",
    "# 1 - i\n",
    "# Matriz Diagonal\n",
    "# Recebe como parametro duas matrizes A e b e retorna x tal que Ax = b.\n",
    "# A deve ser uma matriz diagonal.\n",
    "function resolve_diagonal(A, b)\n",
    "    n = size(A, 1)\n",
    "    x = zeros(n, 1)\n",
    "    for i = 1:n\n",
    "        x[i] = b[i] / A[i, i]\n",
    "    end\n",
    "    x\n",
    "end"
   ]
  },
  {
   "cell_type": "code",
   "execution_count": 50,
   "id": "6ea43f37",
   "metadata": {},
   "outputs": [
    {
     "data": {
      "text/plain": [
       "true"
      ]
     },
     "execution_count": 50,
     "metadata": {},
     "output_type": "execute_result"
    }
   ],
   "source": [
    "Teste1 = [2 0 0 ;0 3 0; 0 0 4]\n",
    "x_verdadeiro=randn(3,1)\n",
    "b= Teste1*x_verdadeiro\n",
    "x_calculado=resolve_diagonal(Teste1 ,b)\n",
    "norm(x_verdadeiro-x_calculado) < 0.000000000001"
   ]
  },
  {
   "cell_type": "code",
   "execution_count": 51,
   "id": "556a41e0",
   "metadata": {},
   "outputs": [
    {
     "data": {
      "text/plain": [
       "true"
      ]
     },
     "execution_count": 51,
     "metadata": {},
     "output_type": "execute_result"
    }
   ],
   "source": [
    "Teste2= [10 0 0 0 0;0 3 0 0 0; 0 0 7 0 0; 0 0 0 9 0; 0 0 0 0 6]\n",
    "x_verdadeiro=randn(5,1)\n",
    "b= Teste2*x_verdadeiro\n",
    "x_calculado=resolve_diagonal(Teste2,b)\n",
    "norm(x_verdadeiro-x_calculado) < 0.000000000001"
   ]
  },
  {
   "cell_type": "code",
   "execution_count": 5,
   "id": "e0d1ac30",
   "metadata": {},
   "outputs": [
    {
     "data": {
      "text/plain": [
       "true"
      ]
     },
     "execution_count": 5,
     "metadata": {},
     "output_type": "execute_result"
    }
   ],
   "source": [
    "Teste3 = [10 0 0 0 0 0 0;0 8 0 0 0 0 0; 0 0 17 0 0 0 0; 0 0 0 99 0 0 0; 0 0 0 0 66 0 0; 0 0 0 0 0 111 0; 0 0 0 0 0 0 7 ]\n",
    "x_verdadeiro=randn(7,1)\n",
    "b= Teste3*x_verdadeiro\n",
    "x_calculado=resolve_diagonal(Teste3,b)\n",
    "norm(x_verdadeiro-x_calculado) < 0.000000000001"
   ]
  },
  {
   "cell_type": "code",
   "execution_count": 52,
   "id": "7731ce4f",
   "metadata": {},
   "outputs": [
    {
     "data": {
      "text/plain": [
       "resolve_triangular_superior (generic function with 1 method)"
      ]
     },
     "execution_count": 52,
     "metadata": {},
     "output_type": "execute_result"
    }
   ],
   "source": [
    "# 1 - ii\n",
    "# Matriz Diagonal Superior\n",
    "# Recebe como parametro duas matrizes A e b e retorna x tal que Ax = b.\n",
    "# A deve ser triangular superior\n",
    "function resolve_triangular_superior(A, b)\n",
    "    n = size(A, 1)\n",
    "    x = zeros(n, 1)\n",
    "    for i = reverse(1:n)\n",
    "        x[i] = b[i]\n",
    "        for j = reverse(i+1:n)\n",
    "            x[i] -= A[i, j] * x[j]\n",
    "        end\n",
    "        x[i] /= A[i, i]\n",
    "    end\n",
    "    return x\n",
    "end"
   ]
  },
  {
   "cell_type": "code",
   "execution_count": 53,
   "id": "03b43d29",
   "metadata": {},
   "outputs": [
    {
     "data": {
      "text/plain": [
       "true"
      ]
     },
     "execution_count": 53,
     "metadata": {},
     "output_type": "execute_result"
    }
   ],
   "source": [
    "Teste1 = [2 2 2 ;0 3 3; 0 0 4]\n",
    "x_verdadeiro=randn(3,1)\n",
    "b= Teste1*x_verdadeiro\n",
    "x_calculado=resolve_triangular_superior(Teste1 ,b)\n",
    "norm(x_verdadeiro-x_calculado) < 0.000000000001"
   ]
  },
  {
   "cell_type": "code",
   "execution_count": 54,
   "id": "40bb9e30",
   "metadata": {},
   "outputs": [
    {
     "data": {
      "text/plain": [
       "true"
      ]
     },
     "execution_count": 54,
     "metadata": {},
     "output_type": "execute_result"
    }
   ],
   "source": [
    "Teste2= [10 244 421 33 1;0 3 33 22 11; 0 0 7 6 5; 0 0 0 92 1; 0 0 0 0 68]\n",
    "x_verdadeiro=randn(5,1)\n",
    "b= Teste2*x_verdadeiro\n",
    "x_calculado=resolve_triangular_superior(Teste2,b)\n",
    "norm(x_verdadeiro-x_calculado) < 0.000000000001"
   ]
  },
  {
   "cell_type": "code",
   "execution_count": 55,
   "id": "e8c811c7",
   "metadata": {},
   "outputs": [
    {
     "data": {
      "text/plain": [
       "true"
      ]
     },
     "execution_count": 55,
     "metadata": {},
     "output_type": "execute_result"
    }
   ],
   "source": [
    "Teste3 = [10 20 30 40 50 60 70;0 82 2 3 40 1 1; 0 0 17 20 30 40 110; 0 0 0 99 33 55 44; 0 0 0 0 66 11 22; 0 0 0 0 0 111 3; 0 0 0 0 0 0 7 ]\n",
    "x_verdadeiro=randn(7,1)\n",
    "b= Teste3*x_verdadeiro\n",
    "x_calculado=resolve_triangular_superior(Teste3,b)\n",
    "norm(x_verdadeiro-x_calculado) < 0.000000000001"
   ]
  },
  {
   "cell_type": "code",
   "execution_count": 56,
   "id": "c29f3b15",
   "metadata": {},
   "outputs": [
    {
     "data": {
      "text/plain": [
       "resolve_triangular_inferior (generic function with 1 method)"
      ]
     },
     "execution_count": 56,
     "metadata": {},
     "output_type": "execute_result"
    }
   ],
   "source": [
    "# 1 - iii\n",
    "# Matriz Diagonal Inferior\n",
    "# Recebe como parametro duas matrizes A e b e retorna x tal que Ax = b.\n",
    "# A deve ser triangular inferior\n",
    "function resolve_triangular_inferior(A, b)\n",
    "    n = size(A, 1)\n",
    "    x = zeros(n, 1)\n",
    "    for i = 1:n\n",
    "        x[i] = b[i]\n",
    "        for j = 1:i-1\n",
    "            x[i] -= A[i, j] * x[j]\n",
    "        end\n",
    "        x[i] /= A[i, i]\n",
    "    end\n",
    "    return x\n",
    "end"
   ]
  },
  {
   "cell_type": "code",
   "execution_count": 57,
   "id": "d39386af",
   "metadata": {},
   "outputs": [
    {
     "data": {
      "text/plain": [
       "true"
      ]
     },
     "execution_count": 57,
     "metadata": {},
     "output_type": "execute_result"
    }
   ],
   "source": [
    "Teste1 = [1 0 0; 3 2 0; 1 4 3]\n",
    "x_verdadeiro=randn(3,1)\n",
    "b= Teste1*x_verdadeiro\n",
    "x_calculado=resolve_triangular_inferior(Teste1 ,b)\n",
    "norm(x_verdadeiro-x_calculado) < 0.000000000001"
   ]
  },
  {
   "cell_type": "code",
   "execution_count": 58,
   "id": "cb47ce95",
   "metadata": {},
   "outputs": [
    {
     "data": {
      "text/plain": [
       "true"
      ]
     },
     "execution_count": 58,
     "metadata": {},
     "output_type": "execute_result"
    }
   ],
   "source": [
    "Teste2= [10 0 0 0 0;3 3 0 0 0; 7 6 5 0 0; 1 92 33 1 0; 244 421 33 1 68]\n",
    "x_verdadeiro=randn(5,1)\n",
    "b= Teste2*x_verdadeiro\n",
    "x_calculado=resolve_triangular_inferior(Teste2,b)\n",
    "norm(x_verdadeiro-x_calculado) < 0.000000000001"
   ]
  },
  {
   "cell_type": "code",
   "execution_count": 59,
   "id": "da2641e4",
   "metadata": {},
   "outputs": [
    {
     "data": {
      "text/plain": [
       "true"
      ]
     },
     "execution_count": 59,
     "metadata": {},
     "output_type": "execute_result"
    }
   ],
   "source": [
    "Teste3 = [1 0 0; 1 1 0; 1 1 1]\n",
    "x_verdadeiro=randn(3,1)\n",
    "b= Teste3*x_verdadeiro\n",
    "x_calculado=resolve_triangular_inferior(Teste3 ,b)\n",
    "norm(x_verdadeiro-x_calculado) < 0.000000000001"
   ]
  },
  {
   "cell_type": "code",
   "execution_count": 60,
   "id": "78883b33",
   "metadata": {},
   "outputs": [
    {
     "data": {
      "text/plain": [
       "decomposicao_lu (generic function with 1 method)"
      ]
     },
     "execution_count": 60,
     "metadata": {},
     "output_type": "execute_result"
    }
   ],
   "source": [
    "# 1 - iv\n",
    "# Decomposição LU\n",
    "# Recebe uma matriz a e retorna as matrizes L e U.\n",
    "# Codigo baseado nas observações feitas em sala de aula e \n",
    "# nas informações encontradas no site: https://www.ime.unicamp.br/~pjssilva/pdfs/notas_de_aula/ms211/Sistemas_Lineares.pdf\n",
    "function decomposicao_lu(A)\n",
    "    U = copy(A)\n",
    "    n = size(A, 1)\n",
    "    L = Matrix{Float64}(I, n, n) #Matriz identidade\n",
    "    for i = 1:n\n",
    "        for j = i+1:n\n",
    "            coef=U[j, i] / U[i, i]\n",
    "            L[j, i] = coef\n",
    "            U[j, :] -= coef * U[i, :]\n",
    "        end\n",
    "    end\n",
    "    L, U\n",
    "end"
   ]
  },
  {
   "cell_type": "code",
   "execution_count": 61,
   "id": "070597ed",
   "metadata": {},
   "outputs": [
    {
     "data": {
      "text/plain": [
       "([1.0 0.0 0.0 0.0; -0.25 1.0 0.0 0.0; -0.25 -0.06666666666666667 1.0 0.0; -0.0 -0.26666666666666666 -0.2857142857142857 1.0], [-4.0 1.0 1.0 0.0; 0.0 -3.75 0.25 1.0; 0.0 0.0 -3.7333333333333334 1.0666666666666667; 0.0 0.0 0.0 -3.428571428571429])"
      ]
     },
     "execution_count": 61,
     "metadata": {},
     "output_type": "execute_result"
    }
   ],
   "source": [
    "teste1 = [-4.0 1 1 0; 1 -4 0 1; 1 0 -4 1; 0 1 1 -4]\n",
    "L,U=decomposicao_lu(teste1)"
   ]
  },
  {
   "cell_type": "code",
   "execution_count": 62,
   "id": "0a790878",
   "metadata": {},
   "outputs": [
    {
     "data": {
      "text/plain": [
       "4×4 Matrix{Float64}:\n",
       "  1.0    0.0         0.0       0.0\n",
       " -0.25   1.0         0.0       0.0\n",
       " -0.25  -0.0666667   1.0       0.0\n",
       " -0.0   -0.266667   -0.285714  1.0"
      ]
     },
     "execution_count": 62,
     "metadata": {},
     "output_type": "execute_result"
    }
   ],
   "source": [
    "L"
   ]
  },
  {
   "cell_type": "code",
   "execution_count": 63,
   "id": "6c035c93",
   "metadata": {},
   "outputs": [
    {
     "data": {
      "text/plain": [
       "4×4 Matrix{Float64}:\n",
       " -4.0   1.0    1.0       0.0\n",
       "  0.0  -3.75   0.25      1.0\n",
       "  0.0   0.0   -3.73333   1.06667\n",
       "  0.0   0.0    0.0      -3.42857"
      ]
     },
     "execution_count": 63,
     "metadata": {},
     "output_type": "execute_result"
    }
   ],
   "source": [
    "U"
   ]
  },
  {
   "cell_type": "code",
   "execution_count": 64,
   "id": "92d4283d",
   "metadata": {},
   "outputs": [
    {
     "data": {
      "text/plain": [
       "([1.0 0.0; 1.5 1.0], [4.0 3.0; 0.0 -1.5])"
      ]
     },
     "execution_count": 64,
     "metadata": {},
     "output_type": "execute_result"
    }
   ],
   "source": [
    "teste2 = [4.0 3; 6 3]\n",
    "L,U=decomposicao_lu(teste2)"
   ]
  },
  {
   "cell_type": "code",
   "execution_count": 65,
   "id": "a6a424f7",
   "metadata": {},
   "outputs": [
    {
     "data": {
      "text/plain": [
       "2×2 Matrix{Float64}:\n",
       " 1.0  0.0\n",
       " 1.5  1.0"
      ]
     },
     "execution_count": 65,
     "metadata": {},
     "output_type": "execute_result"
    }
   ],
   "source": [
    "L"
   ]
  },
  {
   "cell_type": "code",
   "execution_count": 66,
   "id": "d4345d75",
   "metadata": {},
   "outputs": [
    {
     "data": {
      "text/plain": [
       "2×2 Matrix{Float64}:\n",
       " 4.0   3.0\n",
       " 0.0  -1.5"
      ]
     },
     "execution_count": 66,
     "metadata": {},
     "output_type": "execute_result"
    }
   ],
   "source": [
    "U"
   ]
  },
  {
   "cell_type": "code",
   "execution_count": 67,
   "id": "f629dc44",
   "metadata": {},
   "outputs": [
    {
     "data": {
      "text/plain": [
       "([1.0 0.0 0.0; 2.0 1.0 0.0; -1.0 -0.0 1.0], [2.0 3.0 -1.0; 0.0 -2.0 1.0; 0.0 0.0 3.0])"
      ]
     },
     "execution_count": 67,
     "metadata": {},
     "output_type": "execute_result"
    }
   ],
   "source": [
    "teste3 = [2.0 3 -1; 4 4 -1; -2 -3 4]\n",
    "L,U=decomposicao_lu(teste3)"
   ]
  },
  {
   "cell_type": "code",
   "execution_count": 68,
   "id": "335a0ddf",
   "metadata": {},
   "outputs": [
    {
     "data": {
      "text/plain": [
       "3×3 Matrix{Float64}:\n",
       "  1.0   0.0  0.0\n",
       "  2.0   1.0  0.0\n",
       " -1.0  -0.0  1.0"
      ]
     },
     "execution_count": 68,
     "metadata": {},
     "output_type": "execute_result"
    }
   ],
   "source": [
    "L"
   ]
  },
  {
   "cell_type": "code",
   "execution_count": 69,
   "id": "f927df19",
   "metadata": {},
   "outputs": [
    {
     "data": {
      "text/plain": [
       "3×3 Matrix{Float64}:\n",
       " 2.0   3.0  -1.0\n",
       " 0.0  -2.0   1.0\n",
       " 0.0   0.0   3.0"
      ]
     },
     "execution_count": 69,
     "metadata": {},
     "output_type": "execute_result"
    }
   ],
   "source": [
    "U"
   ]
  },
  {
   "cell_type": "code",
   "execution_count": 70,
   "id": "d240caf0",
   "metadata": {},
   "outputs": [
    {
     "data": {
      "text/plain": [
       "Matriz_inversa (generic function with 1 method)"
      ]
     },
     "execution_count": 70,
     "metadata": {},
     "output_type": "execute_result"
    }
   ],
   "source": [
    "# 1 - v\n",
    "# Matriz inversa\n",
    "# AX = LUX = B\n",
    "# Supondo que B seja matriz identidade então X será a inversa de A\n",
    "# Substituindo UX por y =>\n",
    "# Ly = B\n",
    "# UX = y\n",
    "function Matriz_inversa(T)\n",
    "    n = size(T, 1)\n",
    "    identidade = Matrix{Int64}(I, n, n) \n",
    "    L,U=decomposicao_lu(T) #Complexidade O(n^3)\n",
    "    y=L\\identidade #Complexidade O(n^3)\n",
    "    x=U\\y #Complexidade O(n^3)\n",
    "    return x\n",
    "end\n",
    "# Complexidade 3 * O(n^3)"
   ]
  },
  {
   "cell_type": "code",
   "execution_count": 24,
   "id": "a23d1fad",
   "metadata": {},
   "outputs": [
    {
     "data": {
      "text/plain": [
       "5-element Vector{Float64}:\n",
       " 13.518518518518519\n",
       " 37.03703703703704\n",
       " 55.55555555555556\n",
       " 74.07407407407408\n",
       " 72.5925925925926"
      ]
     },
     "execution_count": 24,
     "metadata": {},
     "output_type": "execute_result"
    }
   ],
   "source": [
    "# 2 - b)\n",
    "# Construção do sistema linear em formato de matriz.\n",
    "A = [-2 1 0 0 0;1 -2 1 0 0;0 1 -2 1 0;0 0 1 -2 1;0 0 0 1 -2]\n",
    "B = [365/27; 1000/27; 500/9;2000/27; 1960/27]"
   ]
  },
  {
   "cell_type": "code",
   "execution_count": 25,
   "id": "380cc8ca",
   "metadata": {},
   "outputs": [
    {
     "data": {
      "text/plain": [
       "5-element Vector{Float64}:\n",
       " -100.52469135802468\n",
       " -187.53086419753086\n",
       " -237.50000000000003\n",
       " -231.91358024691363\n",
       " -152.25308641975312"
      ]
     },
     "execution_count": 25,
     "metadata": {},
     "output_type": "execute_result"
    }
   ],
   "source": [
    "x = A\\B"
   ]
  },
  {
   "cell_type": "code",
   "execution_count": 26,
   "id": "135d978a",
   "metadata": {},
   "outputs": [
    {
     "data": {
      "text/plain": [
       "vandermonde (generic function with 1 method)"
      ]
     },
     "execution_count": 26,
     "metadata": {},
     "output_type": "execute_result"
    }
   ],
   "source": [
    "#c)\n",
    "#Utilizando funções de outras listas\n",
    "function vandermonde(x,y,grau)\n",
    "    n,=size(y)\n",
    "    V=zeros(n,grau+1)\n",
    "    for i=1:n #linhas\n",
    "        for j=1:(grau+1)\n",
    "            V[i,j]=x[i]^(j-1)\n",
    "        end\n",
    "    end\n",
    "    return V\n",
    "end"
   ]
  },
  {
   "cell_type": "code",
   "execution_count": 27,
   "id": "41f66ea0",
   "metadata": {},
   "outputs": [
    {
     "data": {
      "text/plain": [
       "regressão (generic function with 1 method)"
      ]
     },
     "execution_count": 27,
     "metadata": {},
     "output_type": "execute_result"
    }
   ],
   "source": [
    "function regressão(x,y,grau)\n",
    "    V=vandermonde(x,y,grau)\n",
    "    c=V\\y #mínimos quadrados\n",
    "    return c\n",
    "end"
   ]
  },
  {
   "cell_type": "code",
   "execution_count": 28,
   "id": "5719e730",
   "metadata": {},
   "outputs": [
    {
     "data": {
      "text/plain": [
       "Polinomio (generic function with 1 method)"
      ]
     },
     "execution_count": 28,
     "metadata": {},
     "output_type": "execute_result"
    }
   ],
   "source": [
    "X=[0;5/3;10/3;15/3;20/3;25/3;10]\n",
    "Y=[0;-100.52469135802468;-187.53086419753086;-237.50000000000003;-231.91358024691357;-152.25308641975312;20]\n",
    "V=vandermonde(X,Y,3)\n",
    "C=regressão(X,Y,3)\n",
    "Polinomio(x)= C[1]+C[2]*x +C[3]*x^2 +C[4]*x^3"
   ]
  },
  {
   "cell_type": "code",
   "execution_count": 29,
   "id": "b919656d",
   "metadata": {},
   "outputs": [
    {
     "data": {
      "text/plain": [
       "-182.78251632057936"
      ]
     },
     "execution_count": 29,
     "metadata": {},
     "output_type": "execute_result"
    }
   ],
   "source": [
    "Polinomio(3.2345)"
   ]
  },
  {
   "cell_type": "code",
   "execution_count": null,
   "id": "d50f8a17",
   "metadata": {},
   "outputs": [],
   "source": [
    "# 3 - b)\n",
    "#Nesse item vamos determinar a temperatura nos 4 vértices do interior do quadrado com o LU. \n",
    "#Para isso, vamos utilizaremos as funções   resolve_triangular_superior(A, b), resolve_triangular_inferior(A, b) \n",
    "#e decomposicao_lu(A) que foram modeladas na questão 1 para resolver o sistema pelo método lu:\n",
    "#Passando os valores das matrizes mencionadas anteriormente e chamando a função sistema_denso para resolver o sistema linear, temos: "
   ]
  },
  {
   "cell_type": "code",
   "execution_count": 30,
   "id": "785dc011",
   "metadata": {},
   "outputs": [
    {
     "data": {
      "text/plain": [
       "sistema_denso (generic function with 1 method)"
      ]
     },
     "execution_count": 30,
     "metadata": {},
     "output_type": "execute_result"
    }
   ],
   "source": [
    "# Função que dado A e b de um sistema do tipo Ax=b retorna x\n",
    "function sistema_denso(A,b)\n",
    "    #Realiza a decomposição LU\n",
    "    L,U=decomposicao_lu(A)\n",
    "    #Resolve matriz triangular inferior\n",
    "    y=resolve_triangular_inferior(L,b)\n",
    "    #Resolve matriz triangular superior\n",
    "    x=resolve_triangular_superior(U,y)\n",
    "    #Retorna x de Ax=b\n",
    "    return x\n",
    "end\n"
   ]
  },
  {
   "cell_type": "code",
   "execution_count": 31,
   "id": "01ebbb55",
   "metadata": {},
   "outputs": [
    {
     "data": {
      "text/plain": [
       "4-element Vector{Int64}:\n",
       " -20\n",
       " -50\n",
       " -15\n",
       " -45"
      ]
     },
     "execution_count": 31,
     "metadata": {},
     "output_type": "execute_result"
    }
   ],
   "source": [
    "#Matriz A de Ax=b\n",
    "A = [-4.0 1 1 0; 1 -4 0 1; 1 0 -4 1; 0 1 1 -4]\n",
    "#Matriz b de Ax=b\n",
    "b = [-20;-50;-15;-45]"
   ]
  },
  {
   "cell_type": "code",
   "execution_count": 32,
   "id": "8a33dc90",
   "metadata": {},
   "outputs": [
    {
     "data": {
      "text/plain": [
       "4×1 Matrix{Float64}:\n",
       " 13.125\n",
       " 20.625\n",
       " 11.875\n",
       " 19.375"
      ]
     },
     "execution_count": 32,
     "metadata": {},
     "output_type": "execute_result"
    }
   ],
   "source": [
    "#Resolvendo o sistema Ax=b via LU\n",
    "sistema_denso(A,b)"
   ]
  },
  {
   "cell_type": "code",
   "execution_count": null,
   "id": "bc06662e",
   "metadata": {},
   "outputs": [],
   "source": [
    "#Assim temos que x1 = 13.125, x2 = 20.625, x3 = 11.875, x4 = 19.375."
   ]
  },
  {
   "cell_type": "code",
   "execution_count": null,
   "id": "f218508c",
   "metadata": {},
   "outputs": [],
   "source": [
    "# 3 - c)\n",
    "# Agora temos que determinar a temperatura dos vértices do interior do lago via método LU, \n",
    "# sabendo que a temperatura da margem mudou e o lago foi discretamente aumentado, conforme a figura na questão\n",
    "# odemos observar que temos 25 pontos no interior do lago, ou seja, temos que escrever 25 equações, \n",
    "# sendo uma equação para cada ponto do lago. Sendo assim, para facilitar, construímos duas funções no Julia que nos devolve\n",
    "# as matrizes modeladas para o problema"
   ]
  },
  {
   "cell_type": "code",
   "execution_count": null,
   "id": "d57f2a10",
   "metadata": {},
   "outputs": [],
   "source": [
    "# Primeiramente, estudamos o padrão que a  matriz A (Ax=b) estava estabelecendo e descobrimos que seria o mesmo da matriz A \n",
    "# do exercício anterior. Em seguida, descobrimos que este é um problema clássico, quando  possuímos um grid que representa \n",
    "# um sistema físico em equilíbrio Nestes casos, encontramos um “padrão fundamental” que a matriz estudada possui, e observamos \n",
    "# que ela segue o mesmo desenho para todas as discretizações a partir dela, tendo em mente que o número de linhas da matriz deve \n",
    "# ser o mesmo número de colunas, sendo estes quadrados perfeitos."
   ]
  },
  {
   "cell_type": "code",
   "execution_count": 33,
   "id": "0038a8cd",
   "metadata": {},
   "outputs": [
    {
     "data": {
      "text/plain": [
       "criação_da_matriz (generic function with 1 method)"
      ]
     },
     "execution_count": 33,
     "metadata": {},
     "output_type": "execute_result"
    }
   ],
   "source": [
    "# Função que dado um n desejado cria uma matriz (nxn) no modelo do nosso \n",
    "# problema (funciona somente para n’s que são quadrados perfeitos)\n",
    "function criação_da_matriz(n)\n",
    "   #Cria uma matriz de zeros(nxn) \n",
    "    A=zeros(n,n)\n",
    "   \n",
    "    rq=Int(sqrt(n))\n",
    "  \n",
    "    #Passando os valores na primeira e última linha da matriz\n",
    "    A[1,1]=-4\n",
    "    A[1,2]=1\n",
    "    A[n,n-1]=1\n",
    "    A[n,n]=-4\n",
    "   \n",
    "    #tridiagonal\n",
    "    for i= 2:(n-1)\n",
    "        A[i,i]=-4\n",
    "        A[i,i+1]=1\n",
    "        A[i,i-1]=1\n",
    "       \n",
    "        if (i%rq == 0)\n",
    "            A[i,i+1] = 0\n",
    "        end\n",
    "    end\n",
    "   \n",
    "    # 1's de baixo\n",
    "    for i = (rq+1) : n\n",
    "        A[i, i-rq] = 1\n",
    "    end\n",
    "   \n",
    "    # 1's de cima\n",
    "    for i = 1 : n - rq\n",
    "        A[i, i+rq] = 1\n",
    "    end\n",
    "   \n",
    "    # passando 1 para 0 a cada rq\n",
    "    for i = rq : n-rq\n",
    "        if i % rq == 0\n",
    "            A[i+1,i] = 0\n",
    "        end\n",
    "    end\n",
    " \n",
    "    #Retorna a matriz criada\n",
    "    return A\n",
    "end\n"
   ]
  },
  {
   "cell_type": "code",
   "execution_count": 34,
   "id": "96284628",
   "metadata": {},
   "outputs": [
    {
     "data": {
      "text/plain": [
       "matriz_resultado (generic function with 1 method)"
      ]
     },
     "execution_count": 34,
     "metadata": {},
     "output_type": "execute_result"
    }
   ],
   "source": [
    "#Função que encontra a matriz b de (Ax=b) do problema modelado (só funciona para n’s que são quadrados perfeitos)\n",
    "function matriz_resultado(n)\n",
    "   #Cria uma matriz de zeros(nxn) \n",
    "    A=zeros(n,1)\n",
    "   \n",
    "    rq=Int(sqrt(n))\n",
    "   \n",
    "    #canto superior esquerdo\n",
    "    A[1,1]  = -45\n",
    "   \n",
    "    #canto superior direito\n",
    "    A[rq,1] = -40\n",
    "   \n",
    "    #canto inferior esquerdo\n",
    "    A[n-rq+1,1] = -55\n",
    "   \n",
    "    #canto inferior direito\n",
    "    A[n,1] = -50\n",
    "   \n",
    "    #cima\n",
    "    for i = 2:rq-1\n",
    "        A[i,1] = -20\n",
    "    end\n",
    "   \n",
    "    #lado esquerdo\n",
    "    for i = 1 : rq-2\n",
    "        A[(i*rq)+1,1] = -25\n",
    "    end\n",
    "   \n",
    "    #lado direito\n",
    "    for i = 2 : rq-1\n",
    "        A[(i*rq),1] = -20\n",
    "    end\n",
    "   \n",
    "    #baixo\n",
    "    for i = n-rq+2 : n-1\n",
    "        A[i,1] = -30\n",
    "    end\n",
    " \n",
    "    #Retorna a matriz criada\n",
    "    return A\n",
    "end"
   ]
  },
  {
   "cell_type": "code",
   "execution_count": 35,
   "id": "98953f84",
   "metadata": {},
   "outputs": [
    {
     "data": {
      "text/plain": [
       "25×1 Matrix{Float64}:\n",
       " 22.656565656565654\n",
       " 21.762286324786324\n",
       " 21.28651903651904\n",
       " 20.89359945609946\n",
       " 20.46969696969697\n",
       " 23.863976301476303\n",
       " 23.106060606060602\n",
       " 22.49019036519036\n",
       " 21.818181818181817\n",
       " 20.98518842268842\n",
       " 24.69327894327894\n",
       " 24.30778943278943\n",
       " 23.75\n",
       " 22.903749028749036\n",
       " 21.65287490287491\n",
       " 25.601350038850036\n",
       " 25.68181818181818\n",
       " 25.29827117327117\n",
       " 24.393939393939394\n",
       " 22.722562160062164\n",
       " 27.030303030303024\n",
       " 27.519862082362078\n",
       " 27.367327117327115\n",
       " 26.65117521367521\n",
       " 24.84343434343434"
      ]
     },
     "execution_count": 35,
     "metadata": {},
     "output_type": "execute_result"
    }
   ],
   "source": [
    "A = criação_da_matriz(25)\n",
    "b = matriz_resultado(25)\n",
    "sistema_denso(A,b)"
   ]
  },
  {
   "cell_type": "code",
   "execution_count": null,
   "id": "b6db836e",
   "metadata": {},
   "outputs": [],
   "source": [
    "# Dessa forma, podemos observar que encontramos os valores de x1 até xk para o nosso problema. \n",
    "# Sendo o primeiro número retornado o x1 e o x25 o último."
   ]
  },
  {
   "cell_type": "code",
   "execution_count": 71,
   "id": "9a11d075",
   "metadata": {},
   "outputs": [
    {
     "data": {
      "text/plain": [
       "8×8 Matrix{Float64}:\n",
       "  1.0   0.0   0.0   0.0   0.0   0.0   0.0  0.0\n",
       "  0.0   1.0   0.0   0.0   0.0   0.0   0.0  0.0\n",
       "  0.0   0.0   1.0   0.0   0.0   0.0   0.0  0.0\n",
       " -1.0   0.0   0.0   1.0   0.0   0.0   0.0  0.0\n",
       "  0.0   0.0  -1.0   0.0   1.0   0.0   0.0  0.0\n",
       "  0.0  -1.0   0.0  -1.0   0.0   1.0   0.0  0.0\n",
       "  0.0   0.0   0.0   0.0  -1.0   0.0   1.0  0.0\n",
       "  0.0   0.0   0.0   0.0   0.0  -1.0  -1.0  1.0"
      ]
     },
     "execution_count": 71,
     "metadata": {},
     "output_type": "execute_result"
    }
   ],
   "source": [
    "# 4 a)\n",
    "# Montando o sistema\n",
    "# x8 -x7 - x6 = 500\n",
    "# x7 - x5 = 3000\n",
    "# x6 - x2- x4 = 0 \n",
    "# x5  - x3 = 3000\n",
    "# x4 - x1 = 30000\n",
    "# x3 = 9000\n",
    "# x2 = 3500\n",
    "# x1 = 7000\n",
    "c =[1 0 0 0 0 0 0 0;\n",
    "    0 1 0 0 0 0 0 0; \n",
    "    0 0 1 0 0 0 0 0; \n",
    "    -1 0 0 1 0 0 0 0;\n",
    "    0 0 -1 0 1 0 0 0;\n",
    "    0 -1 0 -1 0 1 0 0;\n",
    "    0 0 0 0 -1 0 1 0;\n",
    "    0.0 0 0 0 0 -1 -1 1] "
   ]
  },
  {
   "cell_type": "code",
   "execution_count": 72,
   "id": "26a823c8",
   "metadata": {},
   "outputs": [
    {
     "data": {
      "text/plain": [
       "8-element Vector{Int64}:\n",
       "  7000\n",
       "  3500\n",
       "  9000\n",
       " 30000\n",
       "  3000\n",
       "     0\n",
       "  3000\n",
       "   500"
      ]
     },
     "execution_count": 72,
     "metadata": {},
     "output_type": "execute_result"
    }
   ],
   "source": [
    "p =[7000;3500;9000;30000;3000;0 ;3000;500]"
   ]
  },
  {
   "cell_type": "code",
   "execution_count": 73,
   "id": "332d8b40",
   "metadata": {},
   "outputs": [
    {
     "data": {
      "text/plain": [
       "8×1 Matrix{Float64}:\n",
       "  7000.0\n",
       "  3500.0\n",
       "  9000.0\n",
       " 37000.0\n",
       " 12000.0\n",
       " 40500.0\n",
       " 15000.0\n",
       " 56000.0"
      ]
     },
     "execution_count": 73,
     "metadata": {},
     "output_type": "execute_result"
    }
   ],
   "source": [
    "#Reslvendo atraves da decomposição LU\n",
    "sistema_denso(c,p)"
   ]
  },
  {
   "cell_type": "code",
   "execution_count": 66,
   "id": "2d8fab03",
   "metadata": {},
   "outputs": [],
   "source": [
    "# Resposta:\n",
    "# x1 = 7000\n",
    "# x2 = 3500\n",
    "# x3 = 9000\n",
    "# x4 = 37000\n",
    "# x5 = 12000\n",
    "# x6 = 40500\n",
    "# x7 = 15000\n",
    "# x8 = 56000"
   ]
  },
  {
   "cell_type": "code",
   "execution_count": 74,
   "id": "c5d9e35e",
   "metadata": {},
   "outputs": [
    {
     "data": {
      "text/plain": [
       "8×9 Matrix{Int64}:\n",
       "  1   0   0   0   0   0   0  0   0\n",
       "  0   1   0   0   0   0   0  0   0\n",
       "  0   0   1   0   0   0   0  0   0\n",
       " -1   0   0   1   0   0   0  0  -1\n",
       "  0   0  -1   0   1   0   0  0   1\n",
       "  0  -1   0  -1   0   1   0  0   0\n",
       "  0   0   0   0  -1   0   1  0   0\n",
       "  0   0   0   0   0  -1  -1  1   0"
      ]
     },
     "execution_count": 74,
     "metadata": {},
     "output_type": "execute_result"
    }
   ],
   "source": [
    "# b)\n",
    "# Montando o sistema\n",
    "# x8 -x7 - x6 = 500\n",
    "# x7 - x5 = 3000\n",
    "# x6 - x2- x4 = 0 \n",
    "# x5 + x9 - x3 = 3000\n",
    "# x4 - x1 -x9= 30000\n",
    "# x3 = 9000\n",
    "# x2 = 3500\n",
    "# x1 = 7000\n",
    "j = [1 0 0 0 0 0 0 0 0;\n",
    "    0 1 0 0 0 0 0 0 0;\n",
    "    0 0 1 0 0 0 0 0 0;\n",
    "    -1 0 0 1 0 0 0 0 -1;\n",
    "    0 0 -1 0 1 0 0 0 1;\n",
    "    0 -1 0 -1 0 1 0 0  0;\n",
    "    0 0 0 0 -1 0 1 0 0;\n",
    "    0 0 0 0 0 -1 -1 1 0;]\n"
   ]
  },
  {
   "cell_type": "code",
   "execution_count": 75,
   "id": "79fd8aad",
   "metadata": {},
   "outputs": [
    {
     "data": {
      "text/plain": [
       "8-element Vector{Int64}:\n",
       "  7000\n",
       "  3500\n",
       "  9000\n",
       " 30000\n",
       "  3000\n",
       "     0\n",
       "  3000\n",
       "   500"
      ]
     },
     "execution_count": 75,
     "metadata": {},
     "output_type": "execute_result"
    }
   ],
   "source": [
    "w = [7000;3500;9000;30000;3000;0 ;3000;500]"
   ]
  },
  {
   "cell_type": "code",
   "execution_count": 76,
   "id": "be553105",
   "metadata": {},
   "outputs": [
    {
     "data": {
      "text/plain": [
       "9-element Vector{Float64}:\n",
       "   6999.9999999999945\n",
       "   3500.0000000000036\n",
       "   8999.999999999989\n",
       "  26899.999999999967\n",
       "  22100.000000000015\n",
       "  30399.99999999998\n",
       "  25100.000000000022\n",
       "  55999.99999999999\n",
       " -10100.000000000027"
      ]
     },
     "execution_count": 76,
     "metadata": {},
     "output_type": "execute_result"
    }
   ],
   "source": [
    "#Não é possivel fazer a decomposição LU pois a matriz não é quadrada\n",
    "j\\w"
   ]
  },
  {
   "cell_type": "code",
   "execution_count": 9,
   "id": "073a32de",
   "metadata": {},
   "outputs": [],
   "source": [
    "#Resposta:\n",
    "#x1 = 7000\n",
    "#x2 = 3500\n",
    "#x3 = 9000\n",
    "#x4 = 26900\n",
    "#x5 = 22100\n",
    "#x6 = 30400\n",
    "#x7 = 25100\n",
    "#x8 = 56000\n",
    "#x9 = -10100\n",
    "# O fluxo no cano x9 é negativo porque o fluxo vai do ponto E para o D"
   ]
  }
 ],
 "metadata": {
  "kernelspec": {
   "display_name": "Julia 1.7.2",
   "language": "julia",
   "name": "julia-1.7"
  },
  "language_info": {
   "file_extension": ".jl",
   "mimetype": "application/julia",
   "name": "julia",
   "version": "1.7.2"
  }
 },
 "nbformat": 4,
 "nbformat_minor": 5
}
