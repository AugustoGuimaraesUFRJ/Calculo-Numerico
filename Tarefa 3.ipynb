{
 "cells": [
  {
   "cell_type": "code",
   "execution_count": 1,
   "id": "ef2bfd37",
   "metadata": {},
   "outputs": [
    {
     "data": {
      "text/plain": [
       "bi (generic function with 1 method)"
      ]
     },
     "execution_count": 1,
     "metadata": {},
     "output_type": "execute_result"
    }
   ],
   "source": [
    "#Exercício 1.1\n",
    "# Declaramos a função f(x)=x^2-10\n",
    "function f(x)\n",
    "    return x^2-10\n",
    "end\n",
    "# O algoritmo calcula, pelo metodo da bisseção, a solução para equação x^2 - 10 = 0, no Intervalo [0,20].\n",
    "# O parâmetro é o erro máximo\n",
    "function bi(erro)\n",
    "    menor = 0\n",
    "    maior = 20\n",
    "    x=0.0\n",
    "    k=0\n",
    "    while(abs(maior-menor)>erro)\n",
    "        x=(maior+menor)/\n",
    "        2\n",
    "        if(f(x)<0)\n",
    "            menor=x\n",
    "        else\n",
    "            maior=x\n",
    "        end\n",
    "        k+=1\n",
    "    end\n",
    "    return x, k\n",
    "end\n",
    "# Retorna o primeiro valor encontrado para um erro menor que o da entrada\n",
    "# e o número de iterações realizadas pela função"
   ]
  },
  {
   "cell_type": "code",
   "execution_count": 2,
   "id": "097b3386",
   "metadata": {},
   "outputs": [
    {
     "data": {
      "text/plain": [
       "(3.162277666851878, 31)"
      ]
     },
     "execution_count": 2,
     "metadata": {},
     "output_type": "execute_result"
    }
   ],
   "source": [
    "bi(10^-8)"
   ]
  },
  {
   "cell_type": "code",
   "execution_count": 3,
   "id": "6335ad2d",
   "metadata": {},
   "outputs": [
    {
     "data": {
      "text/plain": [
       "bissecao (generic function with 1 method)"
      ]
     },
     "execution_count": 3,
     "metadata": {},
     "output_type": "execute_result"
    }
   ],
   "source": [
    "#Exercicio 1.2\n",
    "#Definimos a função e sua derivada\n",
    "function f(x)\n",
    "    return x^5 - 3125\n",
    "end\n",
    "function df(x)\n",
    "    return 5x^4\n",
    "end\n",
    "# Utilizando o video do Abel como fonte, foi possivel montar o seguinte algoritmo.\n",
    "# Função que executa o metodo da bisseção\n",
    "# Recebe o erro como parametro e retorna um valor aproximado\n",
    "function bissecao(erro)\n",
    "    #Intervalo [-100,100]\n",
    "    menor = -100 \n",
    "    maior = 100 \n",
    "    x = 0.0\n",
    "    while(abs(f(x)) >= erro)\n",
    "        x = (menor + maior)/2\n",
    "        if(f(menor)*f(x) < 0)\n",
    "            maior= x\n",
    "        elseif(f(x)*f(maior) < 0)\n",
    "            menor = x\n",
    "        end\n",
    "    end\n",
    "    return x\n",
    "end"
   ]
  },
  {
   "cell_type": "code",
   "execution_count": 4,
   "id": "9fd886ea",
   "metadata": {},
   "outputs": [
    {
     "data": {
      "text/plain": [
       "newton (generic function with 1 method)"
      ]
     },
     "execution_count": 4,
     "metadata": {},
     "output_type": "execute_result"
    }
   ],
   "source": [
    "# Função que executa o metodo da Newton\n",
    "# Recebe como parametro o \"chute\" inicial e o numero maximo de iterações\n",
    "# Retorna uma raiz de função, caso não encontre a raiz a função retorna nada e faz um print que não achou o zero.\n",
    "function newton(aproximacao, max_iter)\n",
    "    aux = 10^-2 #Ajuda a achar a raiz\n",
    "    it = 0\n",
    "    for i in 1:max_iter\n",
    "        #Precisa checar se a dervida é zero ou proxima de zero ja que será usada para dividir f(x)\n",
    "        if(abs(df(aproximacao)) < 10^-2)\n",
    "            print(\"Derivada nula\\n\")\n",
    "            break\n",
    "        end\n",
    "        aux = aproximacao\n",
    "        #print(aux)\n",
    "        aproximacao = aproximacao - f(aproximacao)/df(aproximacao)\n",
    "        #print(aproximacao)\n",
    "        #Caso ja tenha encontrado a raiz encerra o loop\n",
    "        if(aproximacao == aux)\n",
    "            break\n",
    "        end\n",
    "    end\n",
    "    #Caso tenha feito todas as interações e não achou  a raiz printa a mensagem\n",
    "    if(aproximacao != aux)\n",
    "        print(\"Não achou o zero\\n\")\n",
    "        return \n",
    "    else\n",
    "        return aproximacao\n",
    "    end\n",
    "end"
   ]
  },
  {
   "cell_type": "code",
   "execution_count": 5,
   "id": "2e71deec",
   "metadata": {},
   "outputs": [
    {
     "name": "stdout",
     "output_type": "stream",
     "text": [
      "Não achou o zero\n"
     ]
    }
   ],
   "source": [
    "newton(bissecao(10^-2), 2)"
   ]
  },
  {
   "cell_type": "code",
   "execution_count": 6,
   "id": "1a078e63",
   "metadata": {},
   "outputs": [
    {
     "data": {
      "text/plain": [
       "5.0"
      ]
     },
     "execution_count": 6,
     "metadata": {},
     "output_type": "execute_result"
    }
   ],
   "source": [
    "newton(bissecao(10^-2), 5)"
   ]
  },
  {
   "cell_type": "code",
   "execution_count": 1,
   "id": "d7d5774b",
   "metadata": {},
   "outputs": [
    {
     "data": {
      "text/plain": [
       "interpolação (generic function with 1 method)"
      ]
     },
     "execution_count": 1,
     "metadata": {},
     "output_type": "execute_result"
    }
   ],
   "source": [
    "#Exercicio 1.3\n",
    "function interpolação(x,y)\n",
    "    #criar a matriz V\n",
    "    V=[x.^0 x.^1 x.^2]\n",
    "    #c=inv(V)*y #LENTO!!!!!!!!!!!!!!!!!!!!\n",
    "    c=V\\y #resolver o sistema linear Vc=y\n",
    "    return c #vetor de coeficientes\n",
    "end"
   ]
  },
  {
   "cell_type": "code",
   "execution_count": 12,
   "id": "42c9ffcd",
   "metadata": {},
   "outputs": [
    {
     "data": {
      "text/plain": [
       "3-element Vector{Float64}:\n",
       " -0.8149755905062174\n",
       "  0.9006910895694049\n",
       " -0.08571549906318753"
      ]
     },
     "execution_count": 12,
     "metadata": {},
     "output_type": "execute_result"
    }
   ],
   "source": [
    "x = [1,2.718281828,4.48168907]\n",
    "y = [0,1,3/2]\n",
    "interpolação(x,y)"
   ]
  },
  {
   "cell_type": "code",
   "execution_count": 14,
   "id": "3796ee94",
   "metadata": {},
   "outputs": [
    {
     "data": {
      "text/plain": [
       "1.1156581866333097"
      ]
     },
     "execution_count": 14,
     "metadata": {},
     "output_type": "execute_result"
    }
   ],
   "source": [
    "-0.8149755905062174 + 0.9006910895694049*3  -0.08571549906318753*9"
   ]
  },
  {
   "cell_type": "code",
   "execution_count": 16,
   "id": "de22217d",
   "metadata": {},
   "outputs": [
    {
     "data": {
      "text/plain": [
       "-0.1391395787575934"
      ]
     },
     "execution_count": 16,
     "metadata": {},
     "output_type": "execute_result"
    }
   ],
   "source": [
    "((3 - 1)*(3-2.718281828)*(3-4.48168907))/6"
   ]
  },
  {
   "cell_type": "code",
   "execution_count": 7,
   "id": "05d85b61",
   "metadata": {},
   "outputs": [
    {
     "data": {
      "text/plain": [
       "interpolação (generic function with 1 method)"
      ]
     },
     "execution_count": 7,
     "metadata": {},
     "output_type": "execute_result"
    }
   ],
   "source": [
    "#Exercicio 1.4\n",
    "function interpolação(x,y)\n",
    "    #criar a matriz V\n",
    "    V=[x.^0 x.^1 x.^2]\n",
    "    #c=inv(V)*y #LENTO!!!!!!!!!!!!!!!!!!!!\n",
    "    c=V\\y #resolver o sistema linear Vc=y\n",
    "    return c #vetor de coeficientes\n",
    "end"
   ]
  },
  {
   "cell_type": "code",
   "execution_count": 9,
   "id": "75c60788",
   "metadata": {},
   "outputs": [
    {
     "data": {
      "text/plain": [
       "3-element Vector{Float64}:\n",
       "  1.0392981732142508\n",
       " -0.14686140578658105\n",
       " -0.3515386511338111"
      ]
     },
     "execution_count": 9,
     "metadata": {},
     "output_type": "execute_result"
    }
   ],
   "source": [
    "x=[pi/6; pi/4; pi/3]\n",
    "y=[sqrt(3)/2; sqrt(2)/2; sqrt(1)/2]\n",
    "c=interpolação(x,y)"
   ]
  },
  {
   "cell_type": "code",
   "execution_count": 10,
   "id": "e591c322",
   "metadata": {},
   "outputs": [
    {
     "data": {
      "text/plain": [
       "0.7654337044271249"
      ]
     },
     "execution_count": 10,
     "metadata": {},
     "output_type": "execute_result"
    }
   ],
   "source": [
    "1.0392981732142508 + -0.14686140578658105(0.698132) + -0.3515386511338111(0.698132)^2"
   ]
  },
  {
   "cell_type": "code",
   "execution_count": 11,
   "id": "18a12b68",
   "metadata": {},
   "outputs": [
    {
     "data": {
      "text/plain": [
       "interpolação (generic function with 1 method)"
      ]
     },
     "execution_count": 11,
     "metadata": {},
     "output_type": "execute_result"
    }
   ],
   "source": [
    "#Exercicio 1.5\n",
    "function interpolação(x,y)\n",
    "    #criar a matriz V\n",
    "    V=[x.^0 x.^1 x.^2]\n",
    "    #c=inv(V)*y #LENTO!!!!!!!!!!!!!!!!!!!!\n",
    "    c=V\\y #resolver o sistema linear Vc=y\n",
    "    return c #vetor de coeficientes\n",
    "end"
   ]
  },
  {
   "cell_type": "code",
   "execution_count": 12,
   "id": "ce35f8af",
   "metadata": {},
   "outputs": [
    {
     "data": {
      "text/plain": [
       "3-element Vector{Float64}:\n",
       " 34.0\n",
       " -0.0211111111111111\n",
       " -0.0002592592592592593"
      ]
     },
     "execution_count": 12,
     "metadata": {},
     "output_type": "execute_result"
    }
   ],
   "source": [
    "tempo=[0; 90; 150]\n",
    "temperatura=[34; 30; 25]\n",
    "r=interpolação(tempo,temperatura)"
   ]
  },
  {
   "cell_type": "code",
   "execution_count": 13,
   "id": "303ea73f",
   "metadata": {},
   "outputs": [
    {
     "data": {
      "text/plain": [
       "p (generic function with 1 method)"
      ]
     },
     "execution_count": 13,
     "metadata": {},
     "output_type": "execute_result"
    }
   ],
   "source": [
    "p(x)=34-0.0211111111111111*x -0.0002592592592592593*x^2"
   ]
  },
  {
   "cell_type": "code",
   "execution_count": 14,
   "id": "3e3d9ca7",
   "metadata": {},
   "outputs": [
    {
     "data": {
      "text/plain": [
       "-0.0005185185185185186"
      ]
     },
     "execution_count": 14,
     "metadata": {},
     "output_type": "execute_result"
    }
   ],
   "source": [
    "-0.0002592592592592593*2"
   ]
  },
  {
   "cell_type": "code",
   "execution_count": 15,
   "id": "9fb427ac",
   "metadata": {},
   "outputs": [
    {
     "data": {
      "text/plain": [
       "-40.71428571428569"
      ]
     },
     "execution_count": 15,
     "metadata": {},
     "output_type": "execute_result"
    }
   ],
   "source": [
    "#f'(x)=0\n",
    "-0.0211111111111111/0.0005185185185185186"
   ]
  },
  {
   "cell_type": "code",
   "execution_count": 16,
   "id": "d52c6322",
   "metadata": {},
   "outputs": [
    {
     "data": {
      "text/plain": [
       "34.429761904761904"
      ]
     },
     "execution_count": 16,
     "metadata": {},
     "output_type": "execute_result"
    }
   ],
   "source": [
    "#Valor maximo\n",
    "p(-40.71428571428569)"
   ]
  },
  {
   "cell_type": "code",
   "execution_count": 17,
   "id": "7a365676",
   "metadata": {
    "scrolled": true
   },
   "outputs": [
    {
     "data": {
      "text/plain": [
       "interpolação (generic function with 1 method)"
      ]
     },
     "execution_count": 17,
     "metadata": {},
     "output_type": "execute_result"
    }
   ],
   "source": [
    "#Exercicio 1.7\n",
    "#Definimos os pontos\n",
    "x=[-1; 3; 5; 7; 8] # Precisa estar em ordem crescente\n",
    "y=[1; 7; 2; 5; 2]\n",
    "#Função recebe um conjunto de 5 pontos e retorna os 8 coeficientes para montarmos os polinomios  de grau 3\n",
    "function interpolação(x,y)\n",
    "    P=[x[1];x[2];x[3]]\n",
    "    Q=[x[3];x[4];x[5]]\n",
    "    Yp=[y[1];y[2];y[3];0]\n",
    "    Yq=[y[3];y[4];y[5];0]\n",
    "    #Para evitar \"picos\" no desenho definimos P'(x3) = 0\n",
    "    derivada_p=[0, 1, 2x[3],3x[3]^2]\n",
    "    d_p=derivada_p'\n",
    "    A=[P.^0 P.^1 P.^2 P.^3]\n",
    "    a=vcat(A,d_p)\n",
    "    #Para evitar \"picos\" no desenho definimos Q'(x3) = 0\n",
    "    derivada_q=[0, 1, 2x[3],3x[3]^2]\n",
    "    d_q=derivada_q'\n",
    "    B=[Q.^0 Q.^1 Q.^2 Q.^3]\n",
    "    b=vcat(B,d_q)\n",
    "    c=a\\Yp #resolver o sistema linear ac=Yp\n",
    "    d=b\\Yq #resolver o sistema linear bd=Yq\n",
    "    return c,d\n",
    "end"
   ]
  },
  {
   "cell_type": "code",
   "execution_count": 18,
   "id": "4679b731",
   "metadata": {},
   "outputs": [
    {
     "data": {
      "text/plain": [
       "Q (generic function with 1 method)"
      ]
     },
     "execution_count": 18,
     "metadata": {},
     "output_type": "execute_result"
    }
   ],
   "source": [
    "c,d=interpolação(x,y)\n",
    "P(x) = c[1]+c[2]x+c[3]x^2 + c[4]x^3\n",
    "Q(x) = d[1]+d[2]x+d[3]x^2 + d[4]x^3\n"
   ]
  },
  {
   "cell_type": "code",
   "execution_count": 19,
   "id": "03429cab",
   "metadata": {},
   "outputs": [
    {
     "data": {
      "image/svg+xml": [
       "<?xml version=\"1.0\" encoding=\"utf-8\"?>\n",
       "<svg xmlns=\"http://www.w3.org/2000/svg\" xmlns:xlink=\"http://www.w3.org/1999/xlink\" width=\"600\" height=\"400\" viewBox=\"0 0 2400 1600\">\n",
       "<defs>\n",
       "  <clipPath id=\"clip600\">\n",
       "    <rect x=\"0\" y=\"0\" width=\"2400\" height=\"1600\"/>\n",
       "  </clipPath>\n",
       "</defs>\n",
       "<path clip-path=\"url(#clip600)\" d=\"\n",
       "M0 1600 L2400 1600 L2400 0 L0 0  Z\n",
       "  \" fill=\"#ffffff\" fill-rule=\"evenodd\" fill-opacity=\"1\"/>\n",
       "<defs>\n",
       "  <clipPath id=\"clip601\">\n",
       "    <rect x=\"480\" y=\"0\" width=\"1681\" height=\"1600\"/>\n",
       "  </clipPath>\n",
       "</defs>\n",
       "<path clip-path=\"url(#clip600)\" d=\"\n",
       "M118.015 1474.74 L2352.76 1474.74 L2352.76 47.2441 L118.015 47.2441  Z\n",
       "  \" fill=\"#ffffff\" fill-rule=\"evenodd\" fill-opacity=\"1\"/>\n",
       "<defs>\n",
       "  <clipPath id=\"clip602\">\n",
       "    <rect x=\"118\" y=\"47\" width=\"2236\" height=\"1428\"/>\n",
       "  </clipPath>\n",
       "</defs>\n",
       "<polyline clip-path=\"url(#clip602)\" style=\"stroke:#000000; stroke-linecap:butt; stroke-linejoin:round; stroke-width:2; stroke-opacity:0.1; fill:none\" points=\"\n",
       "  181.263,1474.74 181.263,47.2441 \n",
       "  \"/>\n",
       "<polyline clip-path=\"url(#clip602)\" style=\"stroke:#000000; stroke-linecap:butt; stroke-linejoin:round; stroke-width:2; stroke-opacity:0.1; fill:none\" points=\"\n",
       "  1118.26,1474.74 1118.26,47.2441 \n",
       "  \"/>\n",
       "<polyline clip-path=\"url(#clip602)\" style=\"stroke:#000000; stroke-linecap:butt; stroke-linejoin:round; stroke-width:2; stroke-opacity:0.1; fill:none\" points=\"\n",
       "  1586.76,1474.74 1586.76,47.2441 \n",
       "  \"/>\n",
       "<polyline clip-path=\"url(#clip602)\" style=\"stroke:#000000; stroke-linecap:butt; stroke-linejoin:round; stroke-width:2; stroke-opacity:0.1; fill:none\" points=\"\n",
       "  2055.26,1474.74 2055.26,47.2441 \n",
       "  \"/>\n",
       "<polyline clip-path=\"url(#clip602)\" style=\"stroke:#000000; stroke-linecap:butt; stroke-linejoin:round; stroke-width:2; stroke-opacity:0.1; fill:none\" points=\"\n",
       "  2289.51,1474.74 2289.51,47.2441 \n",
       "  \"/>\n",
       "<polyline clip-path=\"url(#clip600)\" style=\"stroke:#000000; stroke-linecap:butt; stroke-linejoin:round; stroke-width:4; stroke-opacity:1; fill:none\" points=\"\n",
       "  118.015,1474.74 2352.76,1474.74 \n",
       "  \"/>\n",
       "<polyline clip-path=\"url(#clip600)\" style=\"stroke:#000000; stroke-linecap:butt; stroke-linejoin:round; stroke-width:4; stroke-opacity:1; fill:none\" points=\"\n",
       "  181.263,1474.74 181.263,1455.84 \n",
       "  \"/>\n",
       "<polyline clip-path=\"url(#clip600)\" style=\"stroke:#000000; stroke-linecap:butt; stroke-linejoin:round; stroke-width:4; stroke-opacity:1; fill:none\" points=\"\n",
       "  1118.26,1474.74 1118.26,1455.84 \n",
       "  \"/>\n",
       "<polyline clip-path=\"url(#clip600)\" style=\"stroke:#000000; stroke-linecap:butt; stroke-linejoin:round; stroke-width:4; stroke-opacity:1; fill:none\" points=\"\n",
       "  1586.76,1474.74 1586.76,1455.84 \n",
       "  \"/>\n",
       "<polyline clip-path=\"url(#clip600)\" style=\"stroke:#000000; stroke-linecap:butt; stroke-linejoin:round; stroke-width:4; stroke-opacity:1; fill:none\" points=\"\n",
       "  2055.26,1474.74 2055.26,1455.84 \n",
       "  \"/>\n",
       "<polyline clip-path=\"url(#clip600)\" style=\"stroke:#000000; stroke-linecap:butt; stroke-linejoin:round; stroke-width:4; stroke-opacity:1; fill:none\" points=\"\n",
       "  2289.51,1474.74 2289.51,1455.84 \n",
       "  \"/>\n",
       "<path clip-path=\"url(#clip600)\" d=\"M124.579 1539.41 L152.465 1529.26 L153.811 1532.96 L125.925 1543.11 L124.579 1539.41 Z\" fill=\"#000000\" fill-rule=\"evenodd\" fill-opacity=\"1\" /><path clip-path=\"url(#clip600)\" d=\"M167.12 1537.65 L174.298 1535.03 L165.281 1510.26 L158.042 1514.67 L156.585 1510.66 L163.781 1506.27 L168.174 1504.67 L178.649 1533.45 L185.827 1530.84 L187.173 1534.54 L168.466 1541.34 L167.12 1537.65 Z\" fill=\"#000000\" fill-rule=\"evenodd\" fill-opacity=\"1\" /><path clip-path=\"url(#clip600)\" d=\"M1111.1 1519.46 Q1114.5 1518.99 1117.04 1520.48 Q1119.59 1521.96 1120.73 1525.09 Q1122.48 1529.9 1120.14 1533.74 Q1117.79 1537.57 1111.7 1539.79 Q1109.65 1540.53 1107.33 1540.91 Q1105.03 1541.3 1102.43 1541.34 L1100.89 1537.1 Q1103.1 1537.5 1105.48 1537.25 Q1107.85 1537 1110.22 1536.14 Q1114.35 1534.64 1115.91 1532.22 Q1117.49 1529.8 1116.36 1526.69 Q1115.32 1523.81 1112.71 1522.94 Q1110.11 1522.04 1106.52 1523.34 L1102.74 1524.72 L1101.43 1521.11 L1105.38 1519.67 Q1108.63 1518.49 1109.88 1516.58 Q1111.12 1514.65 1110.23 1512.22 Q1109.32 1509.71 1107.06 1509.04 Q1104.8 1508.33 1101.5 1509.53 Q1099.69 1510.19 1097.77 1511.33 Q1095.84 1512.48 1093.67 1514.21 L1092.24 1510.29 Q1094.49 1508.68 1096.54 1507.54 Q1098.61 1506.4 1100.54 1505.69 Q1105.55 1503.87 1109.29 1505.09 Q1113.03 1506.3 1114.44 1510.17 Q1115.42 1512.86 1114.56 1515.3 Q1113.69 1517.71 1111.1 1519.46 Z\" fill=\"#000000\" fill-rule=\"evenodd\" fill-opacity=\"1\" /><path clip-path=\"url(#clip600)\" d=\"M1561.21 1509.21 L1578.46 1502.93 L1579.8 1506.63 L1566.58 1511.44 L1569.48 1519.4 Q1570.31 1518.73 1571.22 1518.23 Q1572.11 1517.71 1573.07 1517.36 Q1578.5 1515.38 1582.76 1517.2 Q1587.03 1519.03 1588.88 1524.12 Q1590.79 1529.36 1588.58 1533.46 Q1586.37 1537.54 1580.44 1539.7 Q1578.39 1540.45 1576.13 1540.87 Q1573.9 1541.29 1571.38 1541.42 L1569.77 1537.01 Q1572.12 1537.36 1574.4 1537.12 Q1576.68 1536.88 1579 1536.04 Q1582.77 1534.67 1584.24 1531.89 Q1585.72 1529.11 1584.48 1525.72 Q1583.25 1522.32 1580.33 1521.14 Q1577.41 1519.96 1573.65 1521.33 Q1571.89 1521.97 1570.27 1523.01 Q1568.67 1524.03 1567.15 1525.52 L1561.21 1509.21 Z\" fill=\"#000000\" fill-rule=\"evenodd\" fill-opacity=\"1\" /><path clip-path=\"url(#clip600)\" d=\"M2028.47 1509.66 L2049.35 1502.06 L2050.03 1503.93 L2049.38 1538.83 L2044.79 1540.5 L2045.41 1507.68 L2029.81 1513.36 L2028.47 1509.66 Z\" fill=\"#000000\" fill-rule=\"evenodd\" fill-opacity=\"1\" /><path clip-path=\"url(#clip600)\" d=\"M2278.67 1523.17 Q2275.54 1524.31 2274.34 1526.64 Q2273.17 1528.96 2274.24 1531.9 Q2275.3 1534.84 2277.7 1535.86 Q2280.11 1536.88 2283.24 1535.74 Q2286.38 1534.6 2287.57 1532.27 Q2288.76 1529.91 2287.7 1527 Q2286.63 1524.06 2284.22 1523.04 Q2281.82 1522.02 2278.67 1523.17 M2273.59 1522.9 Q2270.51 1523.23 2268.22 1521.87 Q2265.95 1520.5 2264.94 1517.72 Q2263.52 1513.83 2265.46 1510.56 Q2267.42 1507.28 2272.25 1505.53 Q2277.1 1503.76 2280.68 1505.02 Q2284.27 1506.27 2285.69 1510.17 Q2286.7 1512.95 2285.82 1515.47 Q2284.96 1517.97 2282.4 1519.69 Q2285.85 1519.27 2288.39 1520.78 Q2290.96 1522.29 2292.09 1525.4 Q2293.81 1530.12 2291.84 1533.7 Q2289.88 1537.26 2284.51 1539.22 Q2279.14 1541.18 2275.33 1539.7 Q2271.54 1538.23 2269.82 1533.51 Q2268.69 1530.4 2269.69 1527.59 Q2270.69 1524.79 2273.59 1522.9 M2269.46 1516.54 Q2270.38 1519.07 2272.46 1519.91 Q2274.56 1520.75 2277.41 1519.71 Q2280.24 1518.68 2281.31 1516.69 Q2282.41 1514.69 2281.49 1512.16 Q2280.57 1509.64 2278.44 1508.81 Q2276.34 1507.98 2273.51 1509.01 Q2270.66 1510.04 2269.59 1512.04 Q2268.54 1514.02 2269.46 1516.54 Z\" fill=\"#000000\" fill-rule=\"evenodd\" fill-opacity=\"1\" /><polyline clip-path=\"url(#clip602)\" style=\"stroke:#000000; stroke-linecap:butt; stroke-linejoin:round; stroke-width:2; stroke-opacity:0.1; fill:none\" points=\"\n",
       "  118.015,1434.34 2352.76,1434.34 \n",
       "  \"/>\n",
       "<polyline clip-path=\"url(#clip602)\" style=\"stroke:#000000; stroke-linecap:butt; stroke-linejoin:round; stroke-width:2; stroke-opacity:0.1; fill:none\" points=\"\n",
       "  118.015,685.055 2352.76,685.055 \n",
       "  \"/>\n",
       "<polyline clip-path=\"url(#clip602)\" style=\"stroke:#000000; stroke-linecap:butt; stroke-linejoin:round; stroke-width:2; stroke-opacity:0.1; fill:none\" points=\"\n",
       "  118.015,1309.46 2352.76,1309.46 \n",
       "  \"/>\n",
       "<polyline clip-path=\"url(#clip602)\" style=\"stroke:#000000; stroke-linecap:butt; stroke-linejoin:round; stroke-width:2; stroke-opacity:0.1; fill:none\" points=\"\n",
       "  118.015,934.816 2352.76,934.816 \n",
       "  \"/>\n",
       "<polyline clip-path=\"url(#clip602)\" style=\"stroke:#000000; stroke-linecap:butt; stroke-linejoin:round; stroke-width:2; stroke-opacity:0.1; fill:none\" points=\"\n",
       "  118.015,1309.46 2352.76,1309.46 \n",
       "  \"/>\n",
       "<polyline clip-path=\"url(#clip600)\" style=\"stroke:#000000; stroke-linecap:butt; stroke-linejoin:round; stroke-width:4; stroke-opacity:1; fill:none\" points=\"\n",
       "  118.015,1474.74 118.015,47.2441 \n",
       "  \"/>\n",
       "<polyline clip-path=\"url(#clip600)\" style=\"stroke:#000000; stroke-linecap:butt; stroke-linejoin:round; stroke-width:4; stroke-opacity:1; fill:none\" points=\"\n",
       "  118.015,1434.34 136.913,1434.34 \n",
       "  \"/>\n",
       "<polyline clip-path=\"url(#clip600)\" style=\"stroke:#000000; stroke-linecap:butt; stroke-linejoin:round; stroke-width:4; stroke-opacity:1; fill:none\" points=\"\n",
       "  118.015,685.055 136.913,685.055 \n",
       "  \"/>\n",
       "<polyline clip-path=\"url(#clip600)\" style=\"stroke:#000000; stroke-linecap:butt; stroke-linejoin:round; stroke-width:4; stroke-opacity:1; fill:none\" points=\"\n",
       "  118.015,1309.46 136.913,1309.46 \n",
       "  \"/>\n",
       "<polyline clip-path=\"url(#clip600)\" style=\"stroke:#000000; stroke-linecap:butt; stroke-linejoin:round; stroke-width:4; stroke-opacity:1; fill:none\" points=\"\n",
       "  118.015,934.816 136.913,934.816 \n",
       "  \"/>\n",
       "<polyline clip-path=\"url(#clip600)\" style=\"stroke:#000000; stroke-linecap:butt; stroke-linejoin:round; stroke-width:4; stroke-opacity:1; fill:none\" points=\"\n",
       "  118.015,1309.46 136.913,1309.46 \n",
       "  \"/>\n",
       "<path clip-path=\"url(#clip600)\" d=\"M60.2268 1450.94 L67.7496 1449.61 L63.1713 1423.65 L55.2768 1426.73 L54.5372 1422.54 L62.3861 1419.46 L66.9909 1418.65 L72.3089 1448.81 L79.8317 1447.48 L80.515 1451.36 L60.9101 1454.81 L60.2268 1450.94 Z\" fill=\"#000000\" fill-rule=\"evenodd\" fill-opacity=\"1\" /><path clip-path=\"url(#clip600)\" d=\"M52.6292 671.896 L74.5137 668.037 L74.8594 669.998 L68.1594 704.251 L63.3494 705.099 L69.6575 672.889 L53.3126 675.771 L52.6292 671.896 Z\" fill=\"#000000\" fill-rule=\"evenodd\" fill-opacity=\"1\" /><path clip-path=\"url(#clip600)\" d=\"M63.7602 1325.43 L79.8317 1322.6 L80.515 1326.48 L58.9041 1330.29 L58.2207 1326.41 Q60.364 1323.24 64.0737 1317.88 Q67.8023 1312.5 68.7317 1310.97 Q70.5048 1308.1 71.0696 1306.24 Q71.6532 1304.35 71.3598 1302.68 Q70.8814 1299.97 68.6651 1298.6 Q66.4715 1297.22 63.4168 1297.76 Q61.2511 1298.14 58.9674 1299.32 Q56.7064 1300.49 54.2402 1302.5 L53.4202 1297.85 Q56.0044 1296.25 58.3203 1295.25 Q60.6362 1294.25 62.6423 1293.9 Q67.931 1292.97 71.5432 1295.06 Q75.1554 1297.15 75.9352 1301.57 Q76.305 1303.67 75.8407 1305.7 Q75.3953 1307.71 73.771 1310.62 Q73.3177 1311.39 70.8217 1315.09 Q68.3217 1318.78 63.7602 1325.43 Z\" fill=\"#000000\" fill-rule=\"evenodd\" fill-opacity=\"1\" /><path clip-path=\"url(#clip600)\" d=\"M53.9286 921.429 L72.0061 918.241 L72.6895 922.116 L58.8293 924.56 L60.3005 932.904 Q61.2432 932.385 62.2181 932.049 Q63.189 931.689 64.192 931.513 Q69.8911 930.508 73.7701 933.044 Q77.649 935.58 78.5896 940.914 Q79.5583 946.408 76.6775 950.066 Q73.7927 953.701 67.5693 954.798 Q65.4264 955.176 63.128 955.205 Q60.8525 955.23 58.353 954.919 L57.5371 950.291 Q59.7857 951.047 62.0706 951.208 Q64.3555 951.369 66.7947 950.939 Q70.7385 950.244 72.6752 947.763 Q74.6118 945.283 73.9847 941.726 Q73.3577 938.17 70.6895 936.502 Q68.0213 934.833 64.0775 935.529 Q62.231 935.854 60.4568 936.59 Q58.7055 937.322 56.9433 938.526 L53.9286 921.429 Z\" fill=\"#000000\" fill-rule=\"evenodd\" fill-opacity=\"1\" /><path clip-path=\"url(#clip600)\" d=\"M63.7602 1325.43 L79.8317 1322.6 L80.515 1326.48 L58.9041 1330.29 L58.2207 1326.41 Q60.364 1323.24 64.0737 1317.88 Q67.8023 1312.5 68.7317 1310.97 Q70.5048 1308.1 71.0696 1306.24 Q71.6532 1304.35 71.3598 1302.68 Q70.8814 1299.97 68.6651 1298.6 Q66.4715 1297.22 63.4168 1297.76 Q61.2511 1298.14 58.9674 1299.32 Q56.7064 1300.49 54.2402 1302.5 L53.4202 1297.85 Q56.0044 1296.25 58.3203 1295.25 Q60.6362 1294.25 62.6423 1293.9 Q67.931 1292.97 71.5432 1295.06 Q75.1554 1297.15 75.9352 1301.57 Q76.305 1303.67 75.8407 1305.7 Q75.3953 1307.71 73.771 1310.62 Q73.3177 1311.39 70.8217 1315.09 Q68.3217 1318.78 63.7602 1325.43 Z\" fill=\"#000000\" fill-rule=\"evenodd\" fill-opacity=\"1\" /><polyline clip-path=\"url(#clip602)\" style=\"stroke:#0000ff; stroke-linecap:butt; stroke-linejoin:round; stroke-width:4; stroke-opacity:1; fill:none\" points=\"\n",
       "  181.263,1434.34 184.694,1412.8 188.126,1391.46 191.557,1370.33 194.989,1349.4 226.717,1165.45 258.446,998.351 290.175,847.493 321.904,712.286 340.971,638.313 \n",
       "  360.039,569.649 379.107,506.164 398.174,447.728 430.417,360.045 462.66,285.808 497.685,219.677 532.71,167.876 565,132.127 597.29,107.251 631.908,91.9453 \n",
       "  666.526,87.6449 706.634,95.4067 746.743,115.702 782.387,143.287 818.03,178.978 849.287,216.281 880.543,258.601 948.699,365.531 1017.26,488.474 1093.06,635.14 \n",
       "  1165.19,777.989 1240.18,922.298 1303.31,1034.75 1341.84,1097.19 1380.38,1153.64 1416.6,1200.28 1452.83,1239.8 1481.84,1265.73 1510.86,1286.05 1539.88,1300.33 \n",
       "  1568.9,1308.1 1573.36,1308.69 1577.83,1309.12 1582.29,1309.37 1586.76,1309.46 \n",
       "  \"/>\n",
       "<polyline clip-path=\"url(#clip602)\" style=\"stroke:#ffa500; stroke-linecap:butt; stroke-linejoin:round; stroke-width:4; stroke-opacity:1; fill:none\" points=\"\n",
       "  1586.76,1309.46 1588.48,1309.44 1590.19,1309.4 1591.91,1309.32 1593.62,1309.22 1609.49,1306.9 1625.35,1302.25 1641.22,1295.45 1657.08,1286.67 1666.61,1280.52 \n",
       "  1676.15,1273.75 1685.68,1266.4 1695.22,1258.52 1711.34,1244.08 1727.46,1228.39 1762.48,1190.88 1794.77,1153.48 1829.39,1112.09 1869.5,1064.8 1905.14,1025.56 \n",
       "  1936.4,994.922 1953.44,980.212 1970.48,967.182 1987.62,955.99 2004.76,946.937 2023.71,939.685 2042.66,935.615 2060.69,934.969 2078.72,937.729 2097.47,944.488 \n",
       "  2116.22,955.495 2132,968.265 2147.78,984.422 2157.42,996.023 2167.05,1008.99 2176.68,1023.36 2186.32,1039.17 2195.37,1055.39 2204.43,1072.95 2213.49,1091.88 \n",
       "  2222.54,1112.22 2237.05,1147.82 2251.56,1187.25 2266.07,1230.64 2280.58,1278.13 2282.81,1285.81 2285.04,1293.59 2287.28,1301.48 2289.51,1309.46 \n",
       "  \"/>\n",
       "<path clip-path=\"url(#clip600)\" d=\"\n",
       "M192.507 1427.16 L472.802 1427.16 L472.802 1271.64 L192.507 1271.64  Z\n",
       "  \" fill=\"#ffffff\" fill-rule=\"evenodd\" fill-opacity=\"1\"/>\n",
       "<polyline clip-path=\"url(#clip600)\" style=\"stroke:#000000; stroke-linecap:butt; stroke-linejoin:round; stroke-width:4; stroke-opacity:1; fill:none\" points=\"\n",
       "  192.507,1427.16 472.802,1427.16 472.802,1271.64 192.507,1271.64 192.507,1427.16 \n",
       "  \"/>\n",
       "<polyline clip-path=\"url(#clip600)\" style=\"stroke:#0000ff; stroke-linecap:butt; stroke-linejoin:round; stroke-width:4; stroke-opacity:1; fill:none\" points=\"\n",
       "  217.337,1323.48 366.32,1323.48 \n",
       "  \"/>\n",
       "<path clip-path=\"url(#clip600)\" d=\"M395.826 1310.04 L395.826 1323.03 L401.706 1323.03 Q404.97 1323.03 406.752 1321.34 Q408.534 1319.65 408.534 1316.52 Q408.534 1313.42 406.752 1311.73 Q404.97 1310.04 401.706 1310.04 L395.826 1310.04 M391.15 1306.2 L401.706 1306.2 Q407.516 1306.2 410.479 1308.84 Q413.465 1311.45 413.465 1316.52 Q413.465 1321.64 410.479 1324.25 Q407.516 1326.87 401.706 1326.87 L395.826 1326.87 L395.826 1340.76 L391.15 1340.76 L391.15 1306.2 Z\" fill=\"#000000\" fill-rule=\"evenodd\" fill-opacity=\"1\" /><polyline clip-path=\"url(#clip600)\" style=\"stroke:#ffa500; stroke-linecap:butt; stroke-linejoin:round; stroke-width:4; stroke-opacity:1; fill:none\" points=\"\n",
       "  217.337,1375.32 366.32,1375.32 \n",
       "  \"/>\n",
       "<path clip-path=\"url(#clip600)\" d=\"M407.169 1361.21 Q402.076 1361.21 399.067 1365 Q396.081 1368.8 396.081 1375.35 Q396.081 1381.88 399.067 1385.68 Q402.076 1389.47 407.169 1389.47 Q412.261 1389.47 415.224 1385.68 Q418.21 1381.88 418.21 1375.35 Q418.21 1368.8 415.224 1365 Q412.261 1361.21 407.169 1361.21 M413.72 1391.97 L419.877 1398.71 L414.229 1398.71 L409.113 1393.18 Q408.349 1393.22 407.933 1393.25 Q407.539 1393.27 407.169 1393.27 Q399.877 1393.27 395.502 1388.41 Q391.15 1383.52 391.15 1375.35 Q391.15 1367.16 395.502 1362.3 Q399.877 1357.41 407.169 1357.41 Q414.437 1357.41 418.789 1362.3 Q423.141 1367.16 423.141 1375.35 Q423.141 1381.37 420.71 1385.65 Q418.303 1389.94 413.72 1391.97 Z\" fill=\"#000000\" fill-rule=\"evenodd\" fill-opacity=\"1\" /></svg>\n"
      ]
     },
     "execution_count": 19,
     "metadata": {},
     "output_type": "execute_result"
    }
   ],
   "source": [
    "using Plots\n",
    "gr(size=(600,400))\n",
    "plot(P,x[1],x[3],label=\"P\", c=:blue,\n",
    "    grid=true,\n",
    "    xaxis=(0,20),\n",
    "    xticks=([x[1],x[2],x[3],x[4],x[5]]),\n",
    "    yaxis=(0,10),\n",
    "    yticks=([y[1],y[2],y[3],y[4],y[5]]))\n",
    "plot!(Q,x[3],x[5],label=\"Q\", c=:orange)\n",
    "plot!(legend=:bottomleft)"
   ]
  },
  {
   "cell_type": "raw",
   "id": "d2ecdad3",
   "metadata": {},
   "source": []
  }
 ],
 "metadata": {
  "kernelspec": {
   "display_name": "Julia 1.7.0",
   "language": "julia",
   "name": "julia-1.7"
  },
  "language_info": {
   "file_extension": ".jl",
   "mimetype": "application/julia",
   "name": "julia",
   "version": "1.7.0"
  }
 },
 "nbformat": 4,
 "nbformat_minor": 5
}
