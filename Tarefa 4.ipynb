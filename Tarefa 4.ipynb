{
 "cells": [
  {
   "cell_type": "code",
   "execution_count": 72,
   "id": "12d5e43f",
   "metadata": {},
   "outputs": [],
   "source": [
    "# Exercício 1.1\n",
    "# Para encontrarmos o valor de ln(3) usando o método da bisseção,\n",
    "# queremos uma função tal que f(ln(3)) = 0.\n",
    "# Como sabemos as propriedades de ln, temos que:\n",
    "# e^ln3 = 3\n",
    "# e^ln3 − 3 = 0\n",
    "# f(x)= e^𝑥 − 3\n"
   ]
  },
  {
   "cell_type": "code",
   "execution_count": 1,
   "id": "04bedb69",
   "metadata": {},
   "outputs": [
    {
     "data": {
      "text/plain": [
       "F (generic function with 1 method)"
      ]
     },
     "execution_count": 1,
     "metadata": {},
     "output_type": "execute_result"
    }
   ],
   "source": [
    "# Função cuja raiz é ln(3)\n",
    "function F(x)\n",
    "    return exp(x) - 3\n",
    "end"
   ]
  },
  {
   "cell_type": "code",
   "execution_count": 36,
   "id": "970da02a",
   "metadata": {},
   "outputs": [
    {
     "data": {
      "text/plain": [
       "bi (generic function with 1 method)"
      ]
     },
     "execution_count": 36,
     "metadata": {},
     "output_type": "execute_result"
    }
   ],
   "source": [
    "# Metodo de Bisseção com intervalo menor que 10^−3\n",
    "# Vamos adptar uma função já feita de outra lista para utilizar o metodo da bissecao na função F\n",
    "# O algoritmo calcula, pelo metodo da bisseção, a solução para F no intervalo [ 1.0985,1.0987].\n",
    "# O parâmetro é o erro máximo\n",
    "function bi(erro)\n",
    "    menor = 1.0985\n",
    "    maior = 1.0987 # Intevalo menor que 10^-3\n",
    "    x=0.0\n",
    "    k=0\n",
    "    while(abs(F(x))>erro)\n",
    "        x=(maior+menor)/2\n",
    "        if(F(x)<0)\n",
    "            menor=x\n",
    "        else\n",
    "            maior=x\n",
    "        end\n",
    "        k+=1\n",
    "    end\n",
    "    return x\n",
    "end"
   ]
  },
  {
   "cell_type": "code",
   "execution_count": 37,
   "id": "2d9cee9d",
   "metadata": {},
   "outputs": [
    {
     "data": {
      "text/plain": [
       "1.0986125000000002"
      ]
     },
     "execution_count": 37,
     "metadata": {},
     "output_type": "execute_result"
    }
   ],
   "source": [
    "bi(10^-5)"
   ]
  },
  {
   "cell_type": "code",
   "execution_count": 5,
   "id": "717e50d4",
   "metadata": {},
   "outputs": [
    {
     "data": {
      "text/plain": [
       "dF (generic function with 1 method)"
      ]
     },
     "execution_count": 5,
     "metadata": {},
     "output_type": "execute_result"
    }
   ],
   "source": [
    "#Precisamos da derivada de F(x) para o metodo de Newton\n",
    "function dF(x)\n",
    "    return exp(x)\n",
    "end"
   ]
  },
  {
   "cell_type": "code",
   "execution_count": 38,
   "id": "84107a68",
   "metadata": {},
   "outputs": [
    {
     "data": {
      "text/plain": [
       "newton (generic function with 1 method)"
      ]
     },
     "execution_count": 38,
     "metadata": {},
     "output_type": "execute_result"
    }
   ],
   "source": [
    "# O Metodo de Newton com 20 passos.\n",
    "# Vamos adptar uma função já feita de outra lista para utilizar  o metodo da Newton na função F\n",
    "# Recebe como parametro o \"chute\" inicial, o erro maximo e o numero maximo de iterações\n",
    "# Retorna uma raiz de F, caso não encontre a raiz a função retorna nada e faz um print que não achou o zero.\n",
    "function newton(chute, erro, casos)\n",
    "    aux = 0\n",
    "    while(abs(F(chute)) > erro && aux < casos)\n",
    "         #Precisa checar se a dervida é zero ou proxima de zero ja que será usada para dividir F(x)\n",
    "        if(abs(dF(chute)) < erro)\n",
    "            print(\"Derivada nula\\n\")\n",
    "            break\n",
    "        end\n",
    "        chute = chute - F(chute)/dF(chute)\n",
    "        aux = aux+1\n",
    "    end\n",
    "    if(aux == casos )\n",
    "        print(\"Não achou o zero\\n\")\n",
    "        return\n",
    "    end\n",
    "    return chute\n",
    "end"
   ]
  },
  {
   "cell_type": "code",
   "execution_count": 39,
   "id": "4c4f24ca",
   "metadata": {},
   "outputs": [
    {
     "data": {
      "text/plain": [
       "1.0986122887476075"
      ]
     },
     "execution_count": 39,
     "metadata": {},
     "output_type": "execute_result"
    }
   ],
   "source": [
    "newton(1,10^-5,20)"
   ]
  },
  {
   "cell_type": "code",
   "execution_count": 8,
   "id": "86f4c62c",
   "metadata": {},
   "outputs": [
    {
     "data": {
      "text/plain": [
       "interpolação (generic function with 1 method)"
      ]
     },
     "execution_count": 8,
     "metadata": {},
     "output_type": "execute_result"
    }
   ],
   "source": [
    "# A interpolacao polinomial de grau 1 e estime o erro maximo.\n",
    "# Vamos adptar uma função já feita de outra lista para utilizar o metodo de Interpolação\n",
    "function interpolação(x,y)\n",
    "    #criar a matriz V\n",
    "    V=[x.^0 x.^1]\n",
    "    #c=inv(V)*y #LENTO!!!!!!!!!!!!!!!!!!!!\n",
    "    c=V\\y #resolver o sistema linear Vc=y\n",
    "    return c #vetor de coeficientes\n",
    "end"
   ]
  },
  {
   "cell_type": "code",
   "execution_count": 9,
   "id": "985ee41d",
   "metadata": {},
   "outputs": [
    {
     "data": {
      "text/plain": [
       "2-element Vector{Float64}:\n",
       " -0.5819767070248036\n",
       "  0.5819767070248036"
      ]
     },
     "execution_count": 9,
     "metadata": {},
     "output_type": "execute_result"
    }
   ],
   "source": [
    "# Para montar um polinomio de grau 1, precisamos de 2 pontos\n",
    "# Sabendo calcular e^x para qualquer x e  todas as propriedades de ln, temos:\n",
    "X = [1,2.718281828]\n",
    "Y = [0,1]\n",
    "interpolação(X,Y)"
   ]
  },
  {
   "cell_type": "code",
   "execution_count": 10,
   "id": "6bfff5a6",
   "metadata": {},
   "outputs": [
    {
     "data": {
      "text/plain": [
       "P (generic function with 1 method)"
      ]
     },
     "execution_count": 10,
     "metadata": {},
     "output_type": "execute_result"
    }
   ],
   "source": [
    "P(x)=-0.5819767070248036+0.5819767070248036*x"
   ]
  },
  {
   "cell_type": "code",
   "execution_count": 11,
   "id": "a3133072",
   "metadata": {},
   "outputs": [
    {
     "data": {
      "text/plain": [
       "1.1639534140496073"
      ]
     },
     "execution_count": 11,
     "metadata": {},
     "output_type": "execute_result"
    }
   ],
   "source": [
    "#ln(3) aproximado\n",
    "P(3)"
   ]
  },
  {
   "cell_type": "code",
   "execution_count": 12,
   "id": "848a9b4b",
   "metadata": {},
   "outputs": [
    {
     "data": {
      "text/plain": [
       "0.28171817200000016"
      ]
     },
     "execution_count": 12,
     "metadata": {},
     "output_type": "execute_result"
    }
   ],
   "source": [
    "ErroM=((3 - 1)*(3-2.718281828))/2"
   ]
  },
  {
   "cell_type": "code",
   "execution_count": 13,
   "id": "023f39c3",
   "metadata": {},
   "outputs": [],
   "source": [
    "#Exercício 1.2. Usando o material da Aula15\n",
    "#1 - Gere aleatoriamente 30 pontos de um polinomio de grau 5.\n",
    "using Plots\n",
    "using Random\n",
    "using LinearAlgebra"
   ]
  },
  {
   "cell_type": "code",
   "execution_count": 14,
   "id": "814b2ac9",
   "metadata": {},
   "outputs": [
    {
     "data": {
      "text/plain": [
       "30-element Vector{Float64}:\n",
       "  1.3949006067370162\n",
       "  1.347334098556551\n",
       "  0.5327072039776934\n",
       "  0.4448115298356303\n",
       "  0.8057798331983874\n",
       "  1.1472153838685588\n",
       "  0.2467161089625849\n",
       " -0.09307583062156921\n",
       "  0.9547320293950488\n",
       "  0.7641418709622617\n",
       "  0.37566326375386444\n",
       "  1.1823403056969106\n",
       "  0.5134133411491145\n",
       "  ⋮\n",
       "  0.5109264626581352\n",
       "  0.7814211672546756\n",
       "  0.6532577530997478\n",
       " -0.18574922626172663\n",
       "  0.07715592522548705\n",
       " -0.4327042562817109\n",
       " -0.3573938822774911\n",
       " -0.05836530412667851\n",
       " -0.8079121036230752\n",
       " -1.503568172594806\n",
       " -1.9492953798069952\n",
       " -1.8181083719008844"
      ]
     },
     "execution_count": 14,
     "metadata": {},
     "output_type": "execute_result"
    }
   ],
   "source": [
    "n = 30\n",
    "x = range(0,1,length=n)\n",
    "y = -5*x.^5 +4*x.^4 -3*x.^3 +2*x.^2 - 1*x.^1 .+1  + randn(n)*0.3 #ruido"
   ]
  },
  {
   "cell_type": "code",
   "execution_count": 15,
   "id": "b11a5bfb",
   "metadata": {},
   "outputs": [
    {
     "data": {
      "text/plain": [
       "vandermonde (generic function with 1 method)"
      ]
     },
     "execution_count": 15,
     "metadata": {},
     "output_type": "execute_result"
    }
   ],
   "source": [
    "# 2 - Faca regressão polinomial com polinomios de grau 0 ate 29.\n",
    "function vandermonde(x,y,grau)\n",
    "    n,=size(y)\n",
    "    V=zeros(n,grau+1)\n",
    "    for i=1:n #linhas\n",
    "        for j=1:(grau+1)\n",
    "            V[i,j]=x[i]^(j-1)\n",
    "        end\n",
    "    end\n",
    "    return V\n",
    "end"
   ]
  },
  {
   "cell_type": "code",
   "execution_count": 16,
   "id": "d35b4da3",
   "metadata": {},
   "outputs": [
    {
     "data": {
      "text/plain": [
       "regressão (generic function with 1 method)"
      ]
     },
     "execution_count": 16,
     "metadata": {},
     "output_type": "execute_result"
    }
   ],
   "source": [
    "function regressão(x,y,grau)\n",
    "    V=vandermonde(x,y,grau)\n",
    "    c=V\\y #mínimos quadrados\n",
    "    return c\n",
    "end"
   ]
  },
  {
   "cell_type": "code",
   "execution_count": 17,
   "id": "6534b69f",
   "metadata": {},
   "outputs": [
    {
     "data": {
      "text/plain": [
       "polinomio (generic function with 1 method)"
      ]
     },
     "execution_count": 17,
     "metadata": {},
     "output_type": "execute_result"
    }
   ],
   "source": [
    "function polinomio(grau)\n",
    "    V = vandermonde(x,y,grau)\n",
    "    a = V\\y\n",
    "    f(x) =sum(a[i+1]*x^i for i in 0:grau)\n",
    "    return f\n",
    "end"
   ]
  },
  {
   "cell_type": "code",
   "execution_count": 18,
   "id": "0295d661",
   "metadata": {},
   "outputs": [
    {
     "data": {
      "text/plain": [
       "30-element Vector{var\"#f#2\"{Int64, Vector{Float64}}}:\n",
       " (::var\"#f#2\"{Int64, Vector{Float64}}) (generic function with 1 method)\n",
       " (::var\"#f#2\"{Int64, Vector{Float64}}) (generic function with 1 method)\n",
       " (::var\"#f#2\"{Int64, Vector{Float64}}) (generic function with 1 method)\n",
       " (::var\"#f#2\"{Int64, Vector{Float64}}) (generic function with 1 method)\n",
       " (::var\"#f#2\"{Int64, Vector{Float64}}) (generic function with 1 method)\n",
       " (::var\"#f#2\"{Int64, Vector{Float64}}) (generic function with 1 method)\n",
       " (::var\"#f#2\"{Int64, Vector{Float64}}) (generic function with 1 method)\n",
       " (::var\"#f#2\"{Int64, Vector{Float64}}) (generic function with 1 method)\n",
       " (::var\"#f#2\"{Int64, Vector{Float64}}) (generic function with 1 method)\n",
       " (::var\"#f#2\"{Int64, Vector{Float64}}) (generic function with 1 method)\n",
       " (::var\"#f#2\"{Int64, Vector{Float64}}) (generic function with 1 method)\n",
       " (::var\"#f#2\"{Int64, Vector{Float64}}) (generic function with 1 method)\n",
       " (::var\"#f#2\"{Int64, Vector{Float64}}) (generic function with 1 method)\n",
       " ⋮\n",
       " (::var\"#f#2\"{Int64, Vector{Float64}}) (generic function with 1 method)\n",
       " (::var\"#f#2\"{Int64, Vector{Float64}}) (generic function with 1 method)\n",
       " (::var\"#f#2\"{Int64, Vector{Float64}}) (generic function with 1 method)\n",
       " (::var\"#f#2\"{Int64, Vector{Float64}}) (generic function with 1 method)\n",
       " (::var\"#f#2\"{Int64, Vector{Float64}}) (generic function with 1 method)\n",
       " (::var\"#f#2\"{Int64, Vector{Float64}}) (generic function with 1 method)\n",
       " (::var\"#f#2\"{Int64, Vector{Float64}}) (generic function with 1 method)\n",
       " (::var\"#f#2\"{Int64, Vector{Float64}}) (generic function with 1 method)\n",
       " (::var\"#f#2\"{Int64, Vector{Float64}}) (generic function with 1 method)\n",
       " (::var\"#f#2\"{Int64, Vector{Float64}}) (generic function with 1 method)\n",
       " (::var\"#f#2\"{Int64, Vector{Float64}}) (generic function with 1 method)\n",
       " (::var\"#f#2\"{Int64, Vector{Float64}}) (generic function with 1 method)"
      ]
     },
     "execution_count": 18,
     "metadata": {},
     "output_type": "execute_result"
    }
   ],
   "source": [
    "polinomios = [polinomio(i) for i in 0:29]"
   ]
  },
  {
   "cell_type": "code",
   "execution_count": 19,
   "id": "6ae43bb3",
   "metadata": {},
   "outputs": [
    {
     "data": {
      "image/svg+xml": [
       "<?xml version=\"1.0\" encoding=\"utf-8\"?>\n",
       "<svg xmlns=\"http://www.w3.org/2000/svg\" xmlns:xlink=\"http://www.w3.org/1999/xlink\" width=\"600\" height=\"400\" viewBox=\"0 0 2400 1600\">\n",
       "<defs>\n",
       "  <clipPath id=\"clip360\">\n",
       "    <rect x=\"0\" y=\"0\" width=\"2400\" height=\"1600\"/>\n",
       "  </clipPath>\n",
       "</defs>\n",
       "<path clip-path=\"url(#clip360)\" d=\"\n",
       "M0 1600 L2400 1600 L2400 0 L0 0  Z\n",
       "  \" fill=\"#ffffff\" fill-rule=\"evenodd\" fill-opacity=\"1\"/>\n",
       "<defs>\n",
       "  <clipPath id=\"clip361\">\n",
       "    <rect x=\"480\" y=\"0\" width=\"1681\" height=\"1600\"/>\n",
       "  </clipPath>\n",
       "</defs>\n",
       "<path clip-path=\"url(#clip360)\" d=\"\n",
       "M147.478 1486.45 L2352.76 1486.45 L2352.76 47.2441 L147.478 47.2441  Z\n",
       "  \" fill=\"#ffffff\" fill-rule=\"evenodd\" fill-opacity=\"1\"/>\n",
       "<defs>\n",
       "  <clipPath id=\"clip362\">\n",
       "    <rect x=\"147\" y=\"47\" width=\"2206\" height=\"1440\"/>\n",
       "  </clipPath>\n",
       "</defs>\n",
       "<polyline clip-path=\"url(#clip362)\" style=\"stroke:#000000; stroke-linecap:butt; stroke-linejoin:round; stroke-width:2; stroke-opacity:0.1; fill:none\" points=\"\n",
       "  209.891,1486.45 209.891,47.2441 \n",
       "  \"/>\n",
       "<polyline clip-path=\"url(#clip362)\" style=\"stroke:#000000; stroke-linecap:butt; stroke-linejoin:round; stroke-width:2; stroke-opacity:0.1; fill:none\" points=\"\n",
       "  730.004,1486.45 730.004,47.2441 \n",
       "  \"/>\n",
       "<polyline clip-path=\"url(#clip362)\" style=\"stroke:#000000; stroke-linecap:butt; stroke-linejoin:round; stroke-width:2; stroke-opacity:0.1; fill:none\" points=\"\n",
       "  1250.12,1486.45 1250.12,47.2441 \n",
       "  \"/>\n",
       "<polyline clip-path=\"url(#clip362)\" style=\"stroke:#000000; stroke-linecap:butt; stroke-linejoin:round; stroke-width:2; stroke-opacity:0.1; fill:none\" points=\"\n",
       "  1770.23,1486.45 1770.23,47.2441 \n",
       "  \"/>\n",
       "<polyline clip-path=\"url(#clip362)\" style=\"stroke:#000000; stroke-linecap:butt; stroke-linejoin:round; stroke-width:2; stroke-opacity:0.1; fill:none\" points=\"\n",
       "  2290.34,1486.45 2290.34,47.2441 \n",
       "  \"/>\n",
       "<polyline clip-path=\"url(#clip360)\" style=\"stroke:#000000; stroke-linecap:butt; stroke-linejoin:round; stroke-width:4; stroke-opacity:1; fill:none\" points=\"\n",
       "  147.478,1486.45 2352.76,1486.45 \n",
       "  \"/>\n",
       "<polyline clip-path=\"url(#clip360)\" style=\"stroke:#000000; stroke-linecap:butt; stroke-linejoin:round; stroke-width:4; stroke-opacity:1; fill:none\" points=\"\n",
       "  209.891,1486.45 209.891,1467.55 \n",
       "  \"/>\n",
       "<polyline clip-path=\"url(#clip360)\" style=\"stroke:#000000; stroke-linecap:butt; stroke-linejoin:round; stroke-width:4; stroke-opacity:1; fill:none\" points=\"\n",
       "  730.004,1486.45 730.004,1467.55 \n",
       "  \"/>\n",
       "<polyline clip-path=\"url(#clip360)\" style=\"stroke:#000000; stroke-linecap:butt; stroke-linejoin:round; stroke-width:4; stroke-opacity:1; fill:none\" points=\"\n",
       "  1250.12,1486.45 1250.12,1467.55 \n",
       "  \"/>\n",
       "<polyline clip-path=\"url(#clip360)\" style=\"stroke:#000000; stroke-linecap:butt; stroke-linejoin:round; stroke-width:4; stroke-opacity:1; fill:none\" points=\"\n",
       "  1770.23,1486.45 1770.23,1467.55 \n",
       "  \"/>\n",
       "<polyline clip-path=\"url(#clip360)\" style=\"stroke:#000000; stroke-linecap:butt; stroke-linejoin:round; stroke-width:4; stroke-opacity:1; fill:none\" points=\"\n",
       "  2290.34,1486.45 2290.34,1467.55 \n",
       "  \"/>\n",
       "<path clip-path=\"url(#clip360)\" d=\"M172.195 1517.37 Q168.584 1517.37 166.755 1520.93 Q164.95 1524.47 164.95 1531.6 Q164.95 1538.71 166.755 1542.27 Q168.584 1545.82 172.195 1545.82 Q175.829 1545.82 177.635 1542.27 Q179.463 1538.71 179.463 1531.6 Q179.463 1524.47 177.635 1520.93 Q175.829 1517.37 172.195 1517.37 M172.195 1513.66 Q178.005 1513.66 181.061 1518.27 Q184.139 1522.85 184.139 1531.6 Q184.139 1540.33 181.061 1544.94 Q178.005 1549.52 172.195 1549.52 Q166.385 1549.52 163.306 1544.94 Q160.251 1540.33 160.251 1531.6 Q160.251 1522.85 163.306 1518.27 Q166.385 1513.66 172.195 1513.66 Z\" fill=\"#000000\" fill-rule=\"evenodd\" fill-opacity=\"1\" /><path clip-path=\"url(#clip360)\" d=\"M192.357 1542.97 L197.241 1542.97 L197.241 1548.85 L192.357 1548.85 L192.357 1542.97 Z\" fill=\"#000000\" fill-rule=\"evenodd\" fill-opacity=\"1\" /><path clip-path=\"url(#clip360)\" d=\"M217.426 1517.37 Q213.815 1517.37 211.986 1520.93 Q210.181 1524.47 210.181 1531.6 Q210.181 1538.71 211.986 1542.27 Q213.815 1545.82 217.426 1545.82 Q221.06 1545.82 222.866 1542.27 Q224.695 1538.71 224.695 1531.6 Q224.695 1524.47 222.866 1520.93 Q221.06 1517.37 217.426 1517.37 M217.426 1513.66 Q223.236 1513.66 226.292 1518.27 Q229.371 1522.85 229.371 1531.6 Q229.371 1540.33 226.292 1544.94 Q223.236 1549.52 217.426 1549.52 Q211.616 1549.52 208.537 1544.94 Q205.482 1540.33 205.482 1531.6 Q205.482 1522.85 208.537 1518.27 Q211.616 1513.66 217.426 1513.66 Z\" fill=\"#000000\" fill-rule=\"evenodd\" fill-opacity=\"1\" /><path clip-path=\"url(#clip360)\" d=\"M247.588 1517.37 Q243.977 1517.37 242.148 1520.93 Q240.343 1524.47 240.343 1531.6 Q240.343 1538.71 242.148 1542.27 Q243.977 1545.82 247.588 1545.82 Q251.222 1545.82 253.028 1542.27 Q254.856 1538.71 254.856 1531.6 Q254.856 1524.47 253.028 1520.93 Q251.222 1517.37 247.588 1517.37 M247.588 1513.66 Q253.398 1513.66 256.454 1518.27 Q259.532 1522.85 259.532 1531.6 Q259.532 1540.33 256.454 1544.94 Q253.398 1549.52 247.588 1549.52 Q241.778 1549.52 238.699 1544.94 Q235.644 1540.33 235.644 1531.6 Q235.644 1522.85 238.699 1518.27 Q241.778 1513.66 247.588 1513.66 Z\" fill=\"#000000\" fill-rule=\"evenodd\" fill-opacity=\"1\" /><path clip-path=\"url(#clip360)\" d=\"M692.805 1517.37 Q689.194 1517.37 687.366 1520.93 Q685.56 1524.47 685.56 1531.6 Q685.56 1538.71 687.366 1542.27 Q689.194 1545.82 692.805 1545.82 Q696.44 1545.82 698.245 1542.27 Q700.074 1538.71 700.074 1531.6 Q700.074 1524.47 698.245 1520.93 Q696.44 1517.37 692.805 1517.37 M692.805 1513.66 Q698.615 1513.66 701.671 1518.27 Q704.75 1522.85 704.75 1531.6 Q704.75 1540.33 701.671 1544.94 Q698.615 1549.52 692.805 1549.52 Q686.995 1549.52 683.916 1544.94 Q680.861 1540.33 680.861 1531.6 Q680.861 1522.85 683.916 1518.27 Q686.995 1513.66 692.805 1513.66 Z\" fill=\"#000000\" fill-rule=\"evenodd\" fill-opacity=\"1\" /><path clip-path=\"url(#clip360)\" d=\"M712.967 1542.97 L717.851 1542.97 L717.851 1548.85 L712.967 1548.85 L712.967 1542.97 Z\" fill=\"#000000\" fill-rule=\"evenodd\" fill-opacity=\"1\" /><path clip-path=\"url(#clip360)\" d=\"M732.064 1544.91 L748.384 1544.91 L748.384 1548.85 L726.439 1548.85 L726.439 1544.91 Q729.101 1542.16 733.685 1537.53 Q738.291 1532.88 739.472 1531.53 Q741.717 1529.01 742.597 1527.27 Q743.499 1525.51 743.499 1523.82 Q743.499 1521.07 741.555 1519.33 Q739.634 1517.6 736.532 1517.6 Q734.333 1517.6 731.879 1518.36 Q729.449 1519.13 726.671 1520.68 L726.671 1515.95 Q729.495 1514.82 731.949 1514.24 Q734.402 1513.66 736.439 1513.66 Q741.81 1513.66 745.004 1516.35 Q748.199 1519.03 748.199 1523.52 Q748.199 1525.65 747.388 1527.57 Q746.601 1529.47 744.495 1532.07 Q743.916 1532.74 740.814 1535.95 Q737.712 1539.15 732.064 1544.91 Z\" fill=\"#000000\" fill-rule=\"evenodd\" fill-opacity=\"1\" /><path clip-path=\"url(#clip360)\" d=\"M758.245 1514.29 L776.601 1514.29 L776.601 1518.22 L762.527 1518.22 L762.527 1526.7 Q763.546 1526.35 764.564 1526.19 Q765.583 1526 766.601 1526 Q772.388 1526 775.768 1529.17 Q779.147 1532.34 779.147 1537.76 Q779.147 1543.34 775.675 1546.44 Q772.203 1549.52 765.884 1549.52 Q763.708 1549.52 761.439 1549.15 Q759.194 1548.78 756.786 1548.04 L756.786 1543.34 Q758.87 1544.47 761.092 1545.03 Q763.314 1545.58 765.791 1545.58 Q769.796 1545.58 772.134 1543.48 Q774.472 1541.37 774.472 1537.76 Q774.472 1534.15 772.134 1532.04 Q769.796 1529.94 765.791 1529.94 Q763.916 1529.94 762.041 1530.35 Q760.189 1530.77 758.245 1531.65 L758.245 1514.29 Z\" fill=\"#000000\" fill-rule=\"evenodd\" fill-opacity=\"1\" /><path clip-path=\"url(#clip360)\" d=\"M1212.42 1517.37 Q1208.81 1517.37 1206.98 1520.93 Q1205.18 1524.47 1205.18 1531.6 Q1205.18 1538.71 1206.98 1542.27 Q1208.81 1545.82 1212.42 1545.82 Q1216.05 1545.82 1217.86 1542.27 Q1219.69 1538.71 1219.69 1531.6 Q1219.69 1524.47 1217.86 1520.93 Q1216.05 1517.37 1212.42 1517.37 M1212.42 1513.66 Q1218.23 1513.66 1221.29 1518.27 Q1224.36 1522.85 1224.36 1531.6 Q1224.36 1540.33 1221.29 1544.94 Q1218.23 1549.52 1212.42 1549.52 Q1206.61 1549.52 1203.53 1544.94 Q1200.48 1540.33 1200.48 1531.6 Q1200.48 1522.85 1203.53 1518.27 Q1206.61 1513.66 1212.42 1513.66 Z\" fill=\"#000000\" fill-rule=\"evenodd\" fill-opacity=\"1\" /><path clip-path=\"url(#clip360)\" d=\"M1232.58 1542.97 L1237.47 1542.97 L1237.47 1548.85 L1232.58 1548.85 L1232.58 1542.97 Z\" fill=\"#000000\" fill-rule=\"evenodd\" fill-opacity=\"1\" /><path clip-path=\"url(#clip360)\" d=\"M1247.7 1514.29 L1266.05 1514.29 L1266.05 1518.22 L1251.98 1518.22 L1251.98 1526.7 Q1253 1526.35 1254.02 1526.19 Q1255.04 1526 1256.05 1526 Q1261.84 1526 1265.22 1529.17 Q1268.6 1532.34 1268.6 1537.76 Q1268.6 1543.34 1265.13 1546.44 Q1261.66 1549.52 1255.34 1549.52 Q1253.16 1549.52 1250.89 1549.15 Q1248.65 1548.78 1246.24 1548.04 L1246.24 1543.34 Q1248.32 1544.47 1250.55 1545.03 Q1252.77 1545.58 1255.24 1545.58 Q1259.25 1545.58 1261.59 1543.48 Q1263.92 1541.37 1263.92 1537.76 Q1263.92 1534.15 1261.59 1532.04 Q1259.25 1529.94 1255.24 1529.94 Q1253.37 1529.94 1251.49 1530.35 Q1249.64 1530.77 1247.7 1531.65 L1247.7 1514.29 Z\" fill=\"#000000\" fill-rule=\"evenodd\" fill-opacity=\"1\" /><path clip-path=\"url(#clip360)\" d=\"M1287.81 1517.37 Q1284.2 1517.37 1282.37 1520.93 Q1280.57 1524.47 1280.57 1531.6 Q1280.57 1538.71 1282.37 1542.27 Q1284.2 1545.82 1287.81 1545.82 Q1291.45 1545.82 1293.25 1542.27 Q1295.08 1538.71 1295.08 1531.6 Q1295.08 1524.47 1293.25 1520.93 Q1291.45 1517.37 1287.81 1517.37 M1287.81 1513.66 Q1293.62 1513.66 1296.68 1518.27 Q1299.76 1522.85 1299.76 1531.6 Q1299.76 1540.33 1296.68 1544.94 Q1293.62 1549.52 1287.81 1549.52 Q1282 1549.52 1278.92 1544.94 Q1275.87 1540.33 1275.87 1531.6 Q1275.87 1522.85 1278.92 1518.27 Q1282 1513.66 1287.81 1513.66 Z\" fill=\"#000000\" fill-rule=\"evenodd\" fill-opacity=\"1\" /><path clip-path=\"url(#clip360)\" d=\"M1733.03 1517.37 Q1729.42 1517.37 1727.59 1520.93 Q1725.79 1524.47 1725.79 1531.6 Q1725.79 1538.71 1727.59 1542.27 Q1729.42 1545.82 1733.03 1545.82 Q1736.67 1545.82 1738.47 1542.27 Q1740.3 1538.71 1740.3 1531.6 Q1740.3 1524.47 1738.47 1520.93 Q1736.67 1517.37 1733.03 1517.37 M1733.03 1513.66 Q1738.84 1513.66 1741.9 1518.27 Q1744.98 1522.85 1744.98 1531.6 Q1744.98 1540.33 1741.9 1544.94 Q1738.84 1549.52 1733.03 1549.52 Q1727.22 1549.52 1724.14 1544.94 Q1721.09 1540.33 1721.09 1531.6 Q1721.09 1522.85 1724.14 1518.27 Q1727.22 1513.66 1733.03 1513.66 Z\" fill=\"#000000\" fill-rule=\"evenodd\" fill-opacity=\"1\" /><path clip-path=\"url(#clip360)\" d=\"M1753.19 1542.97 L1758.08 1542.97 L1758.08 1548.85 L1753.19 1548.85 L1753.19 1542.97 Z\" fill=\"#000000\" fill-rule=\"evenodd\" fill-opacity=\"1\" /><path clip-path=\"url(#clip360)\" d=\"M1767.08 1514.29 L1789.3 1514.29 L1789.3 1516.28 L1776.76 1548.85 L1771.87 1548.85 L1783.68 1518.22 L1767.08 1518.22 L1767.08 1514.29 Z\" fill=\"#000000\" fill-rule=\"evenodd\" fill-opacity=\"1\" /><path clip-path=\"url(#clip360)\" d=\"M1798.47 1514.29 L1816.83 1514.29 L1816.83 1518.22 L1802.75 1518.22 L1802.75 1526.7 Q1803.77 1526.35 1804.79 1526.19 Q1805.81 1526 1806.83 1526 Q1812.61 1526 1815.99 1529.17 Q1819.37 1532.34 1819.37 1537.76 Q1819.37 1543.34 1815.9 1546.44 Q1812.43 1549.52 1806.11 1549.52 Q1803.93 1549.52 1801.66 1549.15 Q1799.42 1548.78 1797.01 1548.04 L1797.01 1543.34 Q1799.1 1544.47 1801.32 1545.03 Q1803.54 1545.58 1806.02 1545.58 Q1810.02 1545.58 1812.36 1543.48 Q1814.7 1541.37 1814.7 1537.76 Q1814.7 1534.15 1812.36 1532.04 Q1810.02 1529.94 1806.02 1529.94 Q1804.14 1529.94 1802.27 1530.35 Q1800.41 1530.77 1798.47 1531.65 L1798.47 1514.29 Z\" fill=\"#000000\" fill-rule=\"evenodd\" fill-opacity=\"1\" /><path clip-path=\"url(#clip360)\" d=\"M2242.41 1544.91 L2250.05 1544.91 L2250.05 1518.55 L2241.74 1520.21 L2241.74 1515.95 L2250.01 1514.29 L2254.68 1514.29 L2254.68 1544.91 L2262.32 1544.91 L2262.32 1548.85 L2242.41 1548.85 L2242.41 1544.91 Z\" fill=\"#000000\" fill-rule=\"evenodd\" fill-opacity=\"1\" /><path clip-path=\"url(#clip360)\" d=\"M2271.77 1542.97 L2276.65 1542.97 L2276.65 1548.85 L2271.77 1548.85 L2271.77 1542.97 Z\" fill=\"#000000\" fill-rule=\"evenodd\" fill-opacity=\"1\" /><path clip-path=\"url(#clip360)\" d=\"M2296.84 1517.37 Q2293.22 1517.37 2291.4 1520.93 Q2289.59 1524.47 2289.59 1531.6 Q2289.59 1538.71 2291.4 1542.27 Q2293.22 1545.82 2296.84 1545.82 Q2300.47 1545.82 2302.28 1542.27 Q2304.1 1538.71 2304.1 1531.6 Q2304.1 1524.47 2302.28 1520.93 Q2300.47 1517.37 2296.84 1517.37 M2296.84 1513.66 Q2302.65 1513.66 2305.7 1518.27 Q2308.78 1522.85 2308.78 1531.6 Q2308.78 1540.33 2305.7 1544.94 Q2302.65 1549.52 2296.84 1549.52 Q2291.03 1549.52 2287.95 1544.94 Q2284.89 1540.33 2284.89 1531.6 Q2284.89 1522.85 2287.95 1518.27 Q2291.03 1513.66 2296.84 1513.66 Z\" fill=\"#000000\" fill-rule=\"evenodd\" fill-opacity=\"1\" /><path clip-path=\"url(#clip360)\" d=\"M2327 1517.37 Q2323.39 1517.37 2321.56 1520.93 Q2319.75 1524.47 2319.75 1531.6 Q2319.75 1538.71 2321.56 1542.27 Q2323.39 1545.82 2327 1545.82 Q2330.63 1545.82 2332.44 1542.27 Q2334.27 1538.71 2334.27 1531.6 Q2334.27 1524.47 2332.44 1520.93 Q2330.63 1517.37 2327 1517.37 M2327 1513.66 Q2332.81 1513.66 2335.86 1518.27 Q2338.94 1522.85 2338.94 1531.6 Q2338.94 1540.33 2335.86 1544.94 Q2332.81 1549.52 2327 1549.52 Q2321.19 1549.52 2318.11 1544.94 Q2315.05 1540.33 2315.05 1531.6 Q2315.05 1522.85 2318.11 1518.27 Q2321.19 1513.66 2327 1513.66 Z\" fill=\"#000000\" fill-rule=\"evenodd\" fill-opacity=\"1\" /><polyline clip-path=\"url(#clip362)\" style=\"stroke:#000000; stroke-linecap:butt; stroke-linejoin:round; stroke-width:2; stroke-opacity:0.1; fill:none\" points=\"\n",
       "  147.478,1445.72 2352.76,1445.72 \n",
       "  \"/>\n",
       "<polyline clip-path=\"url(#clip362)\" style=\"stroke:#000000; stroke-linecap:butt; stroke-linejoin:round; stroke-width:2; stroke-opacity:0.1; fill:none\" points=\"\n",
       "  147.478,1106.28 2352.76,1106.28 \n",
       "  \"/>\n",
       "<polyline clip-path=\"url(#clip362)\" style=\"stroke:#000000; stroke-linecap:butt; stroke-linejoin:round; stroke-width:2; stroke-opacity:0.1; fill:none\" points=\"\n",
       "  147.478,766.846 2352.76,766.846 \n",
       "  \"/>\n",
       "<polyline clip-path=\"url(#clip362)\" style=\"stroke:#000000; stroke-linecap:butt; stroke-linejoin:round; stroke-width:2; stroke-opacity:0.1; fill:none\" points=\"\n",
       "  147.478,427.411 2352.76,427.411 \n",
       "  \"/>\n",
       "<polyline clip-path=\"url(#clip362)\" style=\"stroke:#000000; stroke-linecap:butt; stroke-linejoin:round; stroke-width:2; stroke-opacity:0.1; fill:none\" points=\"\n",
       "  147.478,87.9763 2352.76,87.9763 \n",
       "  \"/>\n",
       "<polyline clip-path=\"url(#clip360)\" style=\"stroke:#000000; stroke-linecap:butt; stroke-linejoin:round; stroke-width:4; stroke-opacity:1; fill:none\" points=\"\n",
       "  147.478,1486.45 147.478,47.2441 \n",
       "  \"/>\n",
       "<polyline clip-path=\"url(#clip360)\" style=\"stroke:#000000; stroke-linecap:butt; stroke-linejoin:round; stroke-width:4; stroke-opacity:1; fill:none\" points=\"\n",
       "  147.478,1445.72 166.376,1445.72 \n",
       "  \"/>\n",
       "<polyline clip-path=\"url(#clip360)\" style=\"stroke:#000000; stroke-linecap:butt; stroke-linejoin:round; stroke-width:4; stroke-opacity:1; fill:none\" points=\"\n",
       "  147.478,1106.28 166.376,1106.28 \n",
       "  \"/>\n",
       "<polyline clip-path=\"url(#clip360)\" style=\"stroke:#000000; stroke-linecap:butt; stroke-linejoin:round; stroke-width:4; stroke-opacity:1; fill:none\" points=\"\n",
       "  147.478,766.846 166.376,766.846 \n",
       "  \"/>\n",
       "<polyline clip-path=\"url(#clip360)\" style=\"stroke:#000000; stroke-linecap:butt; stroke-linejoin:round; stroke-width:4; stroke-opacity:1; fill:none\" points=\"\n",
       "  147.478,427.411 166.376,427.411 \n",
       "  \"/>\n",
       "<polyline clip-path=\"url(#clip360)\" style=\"stroke:#000000; stroke-linecap:butt; stroke-linejoin:round; stroke-width:4; stroke-opacity:1; fill:none\" points=\"\n",
       "  147.478,87.9763 166.376,87.9763 \n",
       "  \"/>\n",
       "<path clip-path=\"url(#clip360)\" d=\"M51.3625 1446.17 L81.0383 1446.17 L81.0383 1450.1 L51.3625 1450.1 L51.3625 1446.17 Z\" fill=\"#000000\" fill-rule=\"evenodd\" fill-opacity=\"1\" /><path clip-path=\"url(#clip360)\" d=\"M95.1586 1459.06 L111.478 1459.06 L111.478 1463 L89.5336 1463 L89.5336 1459.06 Q92.1956 1456.31 96.7789 1451.68 Q101.385 1447.02 102.566 1445.68 Q104.811 1443.16 105.691 1441.42 Q106.594 1439.66 106.594 1437.97 Q106.594 1435.22 104.649 1433.48 Q102.728 1431.75 99.6261 1431.75 Q97.4271 1431.75 94.9734 1432.51 Q92.5428 1433.27 89.7651 1434.82 L89.7651 1430.1 Q92.5891 1428.97 95.0428 1428.39 Q97.4965 1427.81 99.5335 1427.81 Q104.904 1427.81 108.098 1430.5 Q111.293 1433.18 111.293 1437.67 Q111.293 1439.8 110.483 1441.72 Q109.696 1443.62 107.589 1446.21 Q107.01 1446.88 103.909 1450.1 Q100.807 1453.3 95.1586 1459.06 Z\" fill=\"#000000\" fill-rule=\"evenodd\" fill-opacity=\"1\" /><path clip-path=\"url(#clip360)\" d=\"M50.9921 1106.73 L80.6679 1106.73 L80.6679 1110.67 L50.9921 1110.67 L50.9921 1106.73 Z\" fill=\"#000000\" fill-rule=\"evenodd\" fill-opacity=\"1\" /><path clip-path=\"url(#clip360)\" d=\"M91.5706 1119.63 L99.2095 1119.63 L99.2095 1093.26 L90.8993 1094.93 L90.8993 1090.67 L99.1632 1089 L103.839 1089 L103.839 1119.63 L111.478 1119.63 L111.478 1123.56 L91.5706 1123.56 L91.5706 1119.63 Z\" fill=\"#000000\" fill-rule=\"evenodd\" fill-opacity=\"1\" /><path clip-path=\"url(#clip360)\" d=\"M99.5335 752.645 Q95.9224 752.645 94.0937 756.209 Q92.2882 759.751 92.2882 766.881 Q92.2882 773.987 94.0937 777.552 Q95.9224 781.094 99.5335 781.094 Q103.168 781.094 104.973 777.552 Q106.802 773.987 106.802 766.881 Q106.802 759.751 104.973 756.209 Q103.168 752.645 99.5335 752.645 M99.5335 748.941 Q105.344 748.941 108.399 753.547 Q111.478 758.131 111.478 766.881 Q111.478 775.608 108.399 780.214 Q105.344 784.797 99.5335 784.797 Q93.7234 784.797 90.6447 780.214 Q87.5892 775.608 87.5892 766.881 Q87.5892 758.131 90.6447 753.547 Q93.7234 748.941 99.5335 748.941 Z\" fill=\"#000000\" fill-rule=\"evenodd\" fill-opacity=\"1\" /><path clip-path=\"url(#clip360)\" d=\"M91.5706 440.756 L99.2095 440.756 L99.2095 414.39 L90.8993 416.057 L90.8993 411.798 L99.1632 410.131 L103.839 410.131 L103.839 440.756 L111.478 440.756 L111.478 444.691 L91.5706 444.691 L91.5706 440.756 Z\" fill=\"#000000\" fill-rule=\"evenodd\" fill-opacity=\"1\" /><path clip-path=\"url(#clip360)\" d=\"M95.1586 101.321 L111.478 101.321 L111.478 105.256 L89.5336 105.256 L89.5336 101.321 Q92.1956 98.5665 96.7789 93.9369 Q101.385 89.2841 102.566 87.9416 Q104.811 85.4184 105.691 83.6823 Q106.594 81.9231 106.594 80.2333 Q106.594 77.4786 104.649 75.7425 Q102.728 74.0064 99.6261 74.0064 Q97.4271 74.0064 94.9734 74.7703 Q92.5428 75.5342 89.7651 77.0851 L89.7651 72.3629 Q92.5891 71.2287 95.0428 70.65 Q97.4965 70.0713 99.5335 70.0713 Q104.904 70.0713 108.098 72.7565 Q111.293 75.4416 111.293 79.9323 Q111.293 82.062 110.483 83.9832 Q109.696 85.8814 107.589 88.474 Q107.01 89.1453 103.909 92.3628 Q100.807 95.5573 95.1586 101.321 Z\" fill=\"#000000\" fill-rule=\"evenodd\" fill-opacity=\"1\" /><circle clip-path=\"url(#clip362)\" cx=\"209.891\" cy=\"293.368\" r=\"14\" fill=\"#009af9\" fill-rule=\"evenodd\" fill-opacity=\"1\" stroke=\"#000000\" stroke-opacity=\"1\" stroke-width=\"3.2\"/>\n",
       "<circle clip-path=\"url(#clip362)\" cx=\"281.631\" cy=\"309.514\" r=\"14\" fill=\"#009af9\" fill-rule=\"evenodd\" fill-opacity=\"1\" stroke=\"#000000\" stroke-opacity=\"1\" stroke-width=\"3.2\"/>\n",
       "<circle clip-path=\"url(#clip362)\" cx=\"353.371\" cy=\"586.027\" r=\"14\" fill=\"#009af9\" fill-rule=\"evenodd\" fill-opacity=\"1\" stroke=\"#000000\" stroke-opacity=\"1\" stroke-width=\"3.2\"/>\n",
       "<circle clip-path=\"url(#clip362)\" cx=\"425.111\" cy=\"615.861\" r=\"14\" fill=\"#009af9\" fill-rule=\"evenodd\" fill-opacity=\"1\" stroke=\"#000000\" stroke-opacity=\"1\" stroke-width=\"3.2\"/>\n",
       "<circle clip-path=\"url(#clip362)\" cx=\"496.85\" cy=\"493.336\" r=\"14\" fill=\"#009af9\" fill-rule=\"evenodd\" fill-opacity=\"1\" stroke=\"#000000\" stroke-opacity=\"1\" stroke-width=\"3.2\"/>\n",
       "<circle clip-path=\"url(#clip362)\" cx=\"568.59\" cy=\"377.441\" r=\"14\" fill=\"#009af9\" fill-rule=\"evenodd\" fill-opacity=\"1\" stroke=\"#000000\" stroke-opacity=\"1\" stroke-width=\"3.2\"/>\n",
       "<circle clip-path=\"url(#clip362)\" cx=\"640.33\" cy=\"683.102\" r=\"14\" fill=\"#009af9\" fill-rule=\"evenodd\" fill-opacity=\"1\" stroke=\"#000000\" stroke-opacity=\"1\" stroke-width=\"3.2\"/>\n",
       "<circle clip-path=\"url(#clip362)\" cx=\"712.069\" cy=\"798.439\" r=\"14\" fill=\"#009af9\" fill-rule=\"evenodd\" fill-opacity=\"1\" stroke=\"#000000\" stroke-opacity=\"1\" stroke-width=\"3.2\"/>\n",
       "<circle clip-path=\"url(#clip362)\" cx=\"783.809\" cy=\"442.777\" r=\"14\" fill=\"#009af9\" fill-rule=\"evenodd\" fill-opacity=\"1\" stroke=\"#000000\" stroke-opacity=\"1\" stroke-width=\"3.2\"/>\n",
       "<circle clip-path=\"url(#clip362)\" cx=\"855.549\" cy=\"507.47\" r=\"14\" fill=\"#009af9\" fill-rule=\"evenodd\" fill-opacity=\"1\" stroke=\"#000000\" stroke-opacity=\"1\" stroke-width=\"3.2\"/>\n",
       "<circle clip-path=\"url(#clip362)\" cx=\"927.288\" cy=\"639.333\" r=\"14\" fill=\"#009af9\" fill-rule=\"evenodd\" fill-opacity=\"1\" stroke=\"#000000\" stroke-opacity=\"1\" stroke-width=\"3.2\"/>\n",
       "<circle clip-path=\"url(#clip362)\" cx=\"999.028\" cy=\"365.518\" r=\"14\" fill=\"#009af9\" fill-rule=\"evenodd\" fill-opacity=\"1\" stroke=\"#000000\" stroke-opacity=\"1\" stroke-width=\"3.2\"/>\n",
       "<circle clip-path=\"url(#clip362)\" cx=\"1070.77\" cy=\"592.576\" r=\"14\" fill=\"#009af9\" fill-rule=\"evenodd\" fill-opacity=\"1\" stroke=\"#000000\" stroke-opacity=\"1\" stroke-width=\"3.2\"/>\n",
       "<circle clip-path=\"url(#clip362)\" cx=\"1142.51\" cy=\"433.628\" r=\"14\" fill=\"#009af9\" fill-rule=\"evenodd\" fill-opacity=\"1\" stroke=\"#000000\" stroke-opacity=\"1\" stroke-width=\"3.2\"/>\n",
       "<circle clip-path=\"url(#clip362)\" cx=\"1214.25\" cy=\"656.131\" r=\"14\" fill=\"#009af9\" fill-rule=\"evenodd\" fill-opacity=\"1\" stroke=\"#000000\" stroke-opacity=\"1\" stroke-width=\"3.2\"/>\n",
       "<circle clip-path=\"url(#clip362)\" cx=\"1285.99\" cy=\"601.881\" r=\"14\" fill=\"#009af9\" fill-rule=\"evenodd\" fill-opacity=\"1\" stroke=\"#000000\" stroke-opacity=\"1\" stroke-width=\"3.2\"/>\n",
       "<circle clip-path=\"url(#clip362)\" cx=\"1357.73\" cy=\"441.212\" r=\"14\" fill=\"#009af9\" fill-rule=\"evenodd\" fill-opacity=\"1\" stroke=\"#000000\" stroke-opacity=\"1\" stroke-width=\"3.2\"/>\n",
       "<circle clip-path=\"url(#clip362)\" cx=\"1429.47\" cy=\"593.474\" r=\"14\" fill=\"#009af9\" fill-rule=\"evenodd\" fill-opacity=\"1\" stroke=\"#000000\" stroke-opacity=\"1\" stroke-width=\"3.2\"/>\n",
       "<circle clip-path=\"url(#clip362)\" cx=\"1501.21\" cy=\"593.42\" r=\"14\" fill=\"#009af9\" fill-rule=\"evenodd\" fill-opacity=\"1\" stroke=\"#000000\" stroke-opacity=\"1\" stroke-width=\"3.2\"/>\n",
       "<circle clip-path=\"url(#clip362)\" cx=\"1572.95\" cy=\"501.604\" r=\"14\" fill=\"#009af9\" fill-rule=\"evenodd\" fill-opacity=\"1\" stroke=\"#000000\" stroke-opacity=\"1\" stroke-width=\"3.2\"/>\n",
       "<circle clip-path=\"url(#clip362)\" cx=\"1644.69\" cy=\"545.108\" r=\"14\" fill=\"#009af9\" fill-rule=\"evenodd\" fill-opacity=\"1\" stroke=\"#000000\" stroke-opacity=\"1\" stroke-width=\"3.2\"/>\n",
       "<circle clip-path=\"url(#clip362)\" cx=\"1716.42\" cy=\"829.896\" r=\"14\" fill=\"#009af9\" fill-rule=\"evenodd\" fill-opacity=\"1\" stroke=\"#000000\" stroke-opacity=\"1\" stroke-width=\"3.2\"/>\n",
       "<circle clip-path=\"url(#clip362)\" cx=\"1788.16\" cy=\"740.657\" r=\"14\" fill=\"#009af9\" fill-rule=\"evenodd\" fill-opacity=\"1\" stroke=\"#000000\" stroke-opacity=\"1\" stroke-width=\"3.2\"/>\n",
       "<circle clip-path=\"url(#clip362)\" cx=\"1859.9\" cy=\"913.721\" r=\"14\" fill=\"#009af9\" fill-rule=\"evenodd\" fill-opacity=\"1\" stroke=\"#000000\" stroke-opacity=\"1\" stroke-width=\"3.2\"/>\n",
       "<circle clip-path=\"url(#clip362)\" cx=\"1931.64\" cy=\"888.158\" r=\"14\" fill=\"#009af9\" fill-rule=\"evenodd\" fill-opacity=\"1\" stroke=\"#000000\" stroke-opacity=\"1\" stroke-width=\"3.2\"/>\n",
       "<circle clip-path=\"url(#clip362)\" cx=\"2003.38\" cy=\"786.657\" r=\"14\" fill=\"#009af9\" fill-rule=\"evenodd\" fill-opacity=\"1\" stroke=\"#000000\" stroke-opacity=\"1\" stroke-width=\"3.2\"/>\n",
       "<circle clip-path=\"url(#clip362)\" cx=\"2075.12\" cy=\"1041.08\" r=\"14\" fill=\"#009af9\" fill-rule=\"evenodd\" fill-opacity=\"1\" stroke=\"#000000\" stroke-opacity=\"1\" stroke-width=\"3.2\"/>\n",
       "<circle clip-path=\"url(#clip362)\" cx=\"2146.86\" cy=\"1277.21\" r=\"14\" fill=\"#009af9\" fill-rule=\"evenodd\" fill-opacity=\"1\" stroke=\"#000000\" stroke-opacity=\"1\" stroke-width=\"3.2\"/>\n",
       "<circle clip-path=\"url(#clip362)\" cx=\"2218.6\" cy=\"1428.5\" r=\"14\" fill=\"#009af9\" fill-rule=\"evenodd\" fill-opacity=\"1\" stroke=\"#000000\" stroke-opacity=\"1\" stroke-width=\"3.2\"/>\n",
       "<circle clip-path=\"url(#clip362)\" cx=\"2290.34\" cy=\"1383.98\" r=\"14\" fill=\"#009af9\" fill-rule=\"evenodd\" fill-opacity=\"1\" stroke=\"#000000\" stroke-opacity=\"1\" stroke-width=\"3.2\"/>\n",
       "<polyline clip-path=\"url(#clip362)\" style=\"stroke:#ff0000; stroke-linecap:butt; stroke-linejoin:round; stroke-width:4; stroke-opacity:1; fill:none\" points=\"\n",
       "  209.891,678.703 230.209,678.703 418.072,678.703 530.969,678.703 626.423,678.703 730.112,678.703 825.705,678.703 928.19,678.703 1046.93,678.703 1152.45,678.703 \n",
       "  1244.98,678.703 1345.87,678.703 1447.35,678.703 1559.56,678.703 1666.32,678.703 1777.32,678.703 1870.77,678.703 1984.85,678.703 2092.09,678.703 2263.9,678.703 \n",
       "  2290.34,678.703 \n",
       "  \"/>\n",
       "<polyline clip-path=\"url(#clip362)\" style=\"stroke:#000000; stroke-linecap:butt; stroke-linejoin:round; stroke-width:4; stroke-opacity:1; fill:none\" points=\"\n",
       "  209.891,555.959 230.209,548.472 418.072,492.925 530.969,471.423 626.423,460.202 730.112,455.236 825.705,457.324 928.19,466.664 1046.93,486.676 1152.45,512.74 \n",
       "  1244.98,542.007 1345.87,580.743 1447.35,626.895 1559.56,686.31 1666.32,751.021 1777.32,826.763 1870.77,897.206 1984.85,991.491 2092.09,1088.43 2263.9,1260.5 \n",
       "  2290.34,1288.81 \n",
       "  \"/>\n",
       "<polyline clip-path=\"url(#clip362)\" style=\"stroke:#008000; stroke-linecap:butt; stroke-linejoin:round; stroke-width:4; stroke-opacity:1; fill:none\" points=\"\n",
       "  209.891,305.198 214.971,312.458 220.05,319.594 225.129,326.608 230.209,333.5 277.174,391.676 324.14,440.421 371.106,480.558 418.072,512.888 474.52,542.504 \n",
       "  530.969,563.253 578.696,574.798 626.423,581.615 730.112,583.422 825.705,573.962 928.19,557.561 1046.93,537.301 1152.45,523.815 1244.98,519.206 1295.43,520.537 \n",
       "  1345.87,525.069 1396.61,533.203 1447.35,545.234 1503.46,563.407 1559.56,587.012 1612.94,614.767 1666.32,647.884 1721.82,688.167 1777.32,734.535 1824.05,778.339 \n",
       "  1870.77,826.525 1927.81,891.281 1984.85,962.49 2038.47,1035.21 2092.09,1113.38 2178,1249.5 2263.9,1398.13 2277.12,1422.04 2290.34,1446.2 \n",
       "  \"/>\n",
       "</svg>\n"
      ]
     },
     "execution_count": 19,
     "metadata": {},
     "output_type": "execute_result"
    }
   ],
   "source": [
    "scatter(x,y,leg=false)\n",
    "plot!(polinomios[1], c=:red)\n",
    "plot!(polinomios[3], c=:black)\n",
    "plot!(polinomios[5], c=:green,   \n",
    "    xaxis=([0,1]),\n",
    "    yaxis=([-2,2]))"
   ]
  },
  {
   "cell_type": "code",
   "execution_count": 21,
   "id": "1d0e307d",
   "metadata": {},
   "outputs": [
    {
     "data": {
      "text/plain": [
       "grau_100 (generic function with 1 method)"
      ]
     },
     "execution_count": 21,
     "metadata": {},
     "output_type": "execute_result"
    }
   ],
   "source": [
    "# 3 - É possıvel fazer a regressao com um polinomio de grau maior que 29? O  ́que acontece com o Julia?\n",
    "grau_30(x) = polinomio(30)(x)\n",
    "grau_40(x) = polinomio(40)(x)\n",
    "grau_50(x) = polinomio(50)(x)\n",
    "grau_100(x) = polinomio(100)(x)"
   ]
  },
  {
   "cell_type": "code",
   "execution_count": 25,
   "id": "4b132597",
   "metadata": {},
   "outputs": [
    {
     "data": {
      "text/plain": [
       "erro_total (generic function with 1 method)"
      ]
     },
     "execution_count": 25,
     "metadata": {},
     "output_type": "execute_result"
    }
   ],
   "source": [
    "function erro_total(x,y,modelo)\n",
    "    n,=size(y)\n",
    "    S=0\n",
    "    for i=1:n\n",
    "        S=S+(y[i]-modelo(x[i]))^2\n",
    "    end\n",
    "    return sqrt(S)  \n",
    "end"
   ]
  },
  {
   "cell_type": "code",
   "execution_count": 130,
   "id": "6a612f08",
   "metadata": {},
   "outputs": [
    {
     "data": {
      "text/plain": [
       "0.6809415680102896"
      ]
     },
     "execution_count": 130,
     "metadata": {},
     "output_type": "execute_result"
    }
   ],
   "source": [
    "erro_total(x,y,grau_30)"
   ]
  },
  {
   "cell_type": "code",
   "execution_count": 131,
   "id": "e6e36078",
   "metadata": {},
   "outputs": [
    {
     "data": {
      "text/plain": [
       "0.6331350672438102"
      ]
     },
     "execution_count": 131,
     "metadata": {},
     "output_type": "execute_result"
    }
   ],
   "source": [
    "erro_total(x,y,grau_40)"
   ]
  },
  {
   "cell_type": "code",
   "execution_count": 133,
   "id": "60764218",
   "metadata": {},
   "outputs": [
    {
     "data": {
      "text/plain": [
       "0.6217924269018729"
      ]
     },
     "execution_count": 133,
     "metadata": {},
     "output_type": "execute_result"
    }
   ],
   "source": [
    "erro_total(x,y,grau_50)"
   ]
  },
  {
   "cell_type": "code",
   "execution_count": 134,
   "id": "442e3bba",
   "metadata": {},
   "outputs": [
    {
     "data": {
      "text/plain": [
       "0.5526024380765486"
      ]
     },
     "execution_count": 134,
     "metadata": {},
     "output_type": "execute_result"
    }
   ],
   "source": [
    "erro_total(x,y,grau_100)"
   ]
  },
  {
   "cell_type": "code",
   "execution_count": 23,
   "id": "79c14c68",
   "metadata": {},
   "outputs": [
    {
     "data": {
      "image/svg+xml": [
       "<?xml version=\"1.0\" encoding=\"utf-8\"?>\n",
       "<svg xmlns=\"http://www.w3.org/2000/svg\" xmlns:xlink=\"http://www.w3.org/1999/xlink\" width=\"600\" height=\"400\" viewBox=\"0 0 2400 1600\">\n",
       "<defs>\n",
       "  <clipPath id=\"clip440\">\n",
       "    <rect x=\"0\" y=\"0\" width=\"2400\" height=\"1600\"/>\n",
       "  </clipPath>\n",
       "</defs>\n",
       "<path clip-path=\"url(#clip440)\" d=\"\n",
       "M0 1600 L2400 1600 L2400 0 L0 0  Z\n",
       "  \" fill=\"#ffffff\" fill-rule=\"evenodd\" fill-opacity=\"1\"/>\n",
       "<defs>\n",
       "  <clipPath id=\"clip441\">\n",
       "    <rect x=\"480\" y=\"0\" width=\"1681\" height=\"1600\"/>\n",
       "  </clipPath>\n",
       "</defs>\n",
       "<path clip-path=\"url(#clip440)\" d=\"\n",
       "M178.867 1486.45 L2352.76 1486.45 L2352.76 47.2441 L178.867 47.2441  Z\n",
       "  \" fill=\"#ffffff\" fill-rule=\"evenodd\" fill-opacity=\"1\"/>\n",
       "<defs>\n",
       "  <clipPath id=\"clip442\">\n",
       "    <rect x=\"178\" y=\"47\" width=\"2175\" height=\"1440\"/>\n",
       "  </clipPath>\n",
       "</defs>\n",
       "<polyline clip-path=\"url(#clip442)\" style=\"stroke:#000000; stroke-linecap:butt; stroke-linejoin:round; stroke-width:2; stroke-opacity:0.1; fill:none\" points=\"\n",
       "  240.392,1486.45 240.392,47.2441 \n",
       "  \"/>\n",
       "<polyline clip-path=\"url(#clip442)\" style=\"stroke:#000000; stroke-linecap:butt; stroke-linejoin:round; stroke-width:2; stroke-opacity:0.1; fill:none\" points=\"\n",
       "  753.102,1486.45 753.102,47.2441 \n",
       "  \"/>\n",
       "<polyline clip-path=\"url(#clip442)\" style=\"stroke:#000000; stroke-linecap:butt; stroke-linejoin:round; stroke-width:2; stroke-opacity:0.1; fill:none\" points=\"\n",
       "  1265.81,1486.45 1265.81,47.2441 \n",
       "  \"/>\n",
       "<polyline clip-path=\"url(#clip442)\" style=\"stroke:#000000; stroke-linecap:butt; stroke-linejoin:round; stroke-width:2; stroke-opacity:0.1; fill:none\" points=\"\n",
       "  1778.52,1486.45 1778.52,47.2441 \n",
       "  \"/>\n",
       "<polyline clip-path=\"url(#clip442)\" style=\"stroke:#000000; stroke-linecap:butt; stroke-linejoin:round; stroke-width:2; stroke-opacity:0.1; fill:none\" points=\"\n",
       "  2291.23,1486.45 2291.23,47.2441 \n",
       "  \"/>\n",
       "<polyline clip-path=\"url(#clip440)\" style=\"stroke:#000000; stroke-linecap:butt; stroke-linejoin:round; stroke-width:4; stroke-opacity:1; fill:none\" points=\"\n",
       "  178.867,1486.45 2352.76,1486.45 \n",
       "  \"/>\n",
       "<polyline clip-path=\"url(#clip440)\" style=\"stroke:#000000; stroke-linecap:butt; stroke-linejoin:round; stroke-width:4; stroke-opacity:1; fill:none\" points=\"\n",
       "  240.392,1486.45 240.392,1467.55 \n",
       "  \"/>\n",
       "<polyline clip-path=\"url(#clip440)\" style=\"stroke:#000000; stroke-linecap:butt; stroke-linejoin:round; stroke-width:4; stroke-opacity:1; fill:none\" points=\"\n",
       "  753.102,1486.45 753.102,1467.55 \n",
       "  \"/>\n",
       "<polyline clip-path=\"url(#clip440)\" style=\"stroke:#000000; stroke-linecap:butt; stroke-linejoin:round; stroke-width:4; stroke-opacity:1; fill:none\" points=\"\n",
       "  1265.81,1486.45 1265.81,1467.55 \n",
       "  \"/>\n",
       "<polyline clip-path=\"url(#clip440)\" style=\"stroke:#000000; stroke-linecap:butt; stroke-linejoin:round; stroke-width:4; stroke-opacity:1; fill:none\" points=\"\n",
       "  1778.52,1486.45 1778.52,1467.55 \n",
       "  \"/>\n",
       "<polyline clip-path=\"url(#clip440)\" style=\"stroke:#000000; stroke-linecap:butt; stroke-linejoin:round; stroke-width:4; stroke-opacity:1; fill:none\" points=\"\n",
       "  2291.23,1486.45 2291.23,1467.55 \n",
       "  \"/>\n",
       "<path clip-path=\"url(#clip440)\" d=\"M202.695 1517.37 Q199.084 1517.37 197.255 1520.93 Q195.45 1524.47 195.45 1531.6 Q195.45 1538.71 197.255 1542.27 Q199.084 1545.82 202.695 1545.82 Q206.329 1545.82 208.135 1542.27 Q209.964 1538.71 209.964 1531.6 Q209.964 1524.47 208.135 1520.93 Q206.329 1517.37 202.695 1517.37 M202.695 1513.66 Q208.505 1513.66 211.561 1518.27 Q214.64 1522.85 214.64 1531.6 Q214.64 1540.33 211.561 1544.94 Q208.505 1549.52 202.695 1549.52 Q196.885 1549.52 193.806 1544.94 Q190.751 1540.33 190.751 1531.6 Q190.751 1522.85 193.806 1518.27 Q196.885 1513.66 202.695 1513.66 Z\" fill=\"#000000\" fill-rule=\"evenodd\" fill-opacity=\"1\" /><path clip-path=\"url(#clip440)\" d=\"M222.857 1542.97 L227.741 1542.97 L227.741 1548.85 L222.857 1548.85 L222.857 1542.97 Z\" fill=\"#000000\" fill-rule=\"evenodd\" fill-opacity=\"1\" /><path clip-path=\"url(#clip440)\" d=\"M247.926 1517.37 Q244.315 1517.37 242.487 1520.93 Q240.681 1524.47 240.681 1531.6 Q240.681 1538.71 242.487 1542.27 Q244.315 1545.82 247.926 1545.82 Q251.561 1545.82 253.366 1542.27 Q255.195 1538.71 255.195 1531.6 Q255.195 1524.47 253.366 1520.93 Q251.561 1517.37 247.926 1517.37 M247.926 1513.66 Q253.737 1513.66 256.792 1518.27 Q259.871 1522.85 259.871 1531.6 Q259.871 1540.33 256.792 1544.94 Q253.737 1549.52 247.926 1549.52 Q242.116 1549.52 239.038 1544.94 Q235.982 1540.33 235.982 1531.6 Q235.982 1522.85 239.038 1518.27 Q242.116 1513.66 247.926 1513.66 Z\" fill=\"#000000\" fill-rule=\"evenodd\" fill-opacity=\"1\" /><path clip-path=\"url(#clip440)\" d=\"M278.088 1517.37 Q274.477 1517.37 272.649 1520.93 Q270.843 1524.47 270.843 1531.6 Q270.843 1538.71 272.649 1542.27 Q274.477 1545.82 278.088 1545.82 Q281.723 1545.82 283.528 1542.27 Q285.357 1538.71 285.357 1531.6 Q285.357 1524.47 283.528 1520.93 Q281.723 1517.37 278.088 1517.37 M278.088 1513.66 Q283.899 1513.66 286.954 1518.27 Q290.033 1522.85 290.033 1531.6 Q290.033 1540.33 286.954 1544.94 Q283.899 1549.52 278.088 1549.52 Q272.278 1549.52 269.2 1544.94 Q266.144 1540.33 266.144 1531.6 Q266.144 1522.85 269.2 1518.27 Q272.278 1513.66 278.088 1513.66 Z\" fill=\"#000000\" fill-rule=\"evenodd\" fill-opacity=\"1\" /><path clip-path=\"url(#clip440)\" d=\"M715.903 1517.37 Q712.292 1517.37 710.463 1520.93 Q708.657 1524.47 708.657 1531.6 Q708.657 1538.71 710.463 1542.27 Q712.292 1545.82 715.903 1545.82 Q719.537 1545.82 721.342 1542.27 Q723.171 1538.71 723.171 1531.6 Q723.171 1524.47 721.342 1520.93 Q719.537 1517.37 715.903 1517.37 M715.903 1513.66 Q721.713 1513.66 724.768 1518.27 Q727.847 1522.85 727.847 1531.6 Q727.847 1540.33 724.768 1544.94 Q721.713 1549.52 715.903 1549.52 Q710.093 1549.52 707.014 1544.94 Q703.958 1540.33 703.958 1531.6 Q703.958 1522.85 707.014 1518.27 Q710.093 1513.66 715.903 1513.66 Z\" fill=\"#000000\" fill-rule=\"evenodd\" fill-opacity=\"1\" /><path clip-path=\"url(#clip440)\" d=\"M736.065 1542.97 L740.949 1542.97 L740.949 1548.85 L736.065 1548.85 L736.065 1542.97 Z\" fill=\"#000000\" fill-rule=\"evenodd\" fill-opacity=\"1\" /><path clip-path=\"url(#clip440)\" d=\"M755.162 1544.91 L771.481 1544.91 L771.481 1548.85 L749.537 1548.85 L749.537 1544.91 Q752.199 1542.16 756.782 1537.53 Q761.389 1532.88 762.569 1531.53 Q764.814 1529.01 765.694 1527.27 Q766.597 1525.51 766.597 1523.82 Q766.597 1521.07 764.652 1519.33 Q762.731 1517.6 759.629 1517.6 Q757.43 1517.6 754.977 1518.36 Q752.546 1519.13 749.768 1520.68 L749.768 1515.95 Q752.592 1514.82 755.046 1514.24 Q757.5 1513.66 759.537 1513.66 Q764.907 1513.66 768.101 1516.35 Q771.296 1519.03 771.296 1523.52 Q771.296 1525.65 770.486 1527.57 Q769.699 1529.47 767.592 1532.07 Q767.013 1532.74 763.912 1535.95 Q760.81 1539.15 755.162 1544.91 Z\" fill=\"#000000\" fill-rule=\"evenodd\" fill-opacity=\"1\" /><path clip-path=\"url(#clip440)\" d=\"M781.342 1514.29 L799.699 1514.29 L799.699 1518.22 L785.625 1518.22 L785.625 1526.7 Q786.643 1526.35 787.662 1526.19 Q788.68 1526 789.699 1526 Q795.486 1526 798.865 1529.17 Q802.245 1532.34 802.245 1537.76 Q802.245 1543.34 798.773 1546.44 Q795.3 1549.52 788.981 1549.52 Q786.805 1549.52 784.537 1549.15 Q782.291 1548.78 779.884 1548.04 L779.884 1543.34 Q781.967 1544.47 784.189 1545.03 Q786.412 1545.58 788.888 1545.58 Q792.893 1545.58 795.231 1543.48 Q797.569 1541.37 797.569 1537.76 Q797.569 1534.15 795.231 1532.04 Q792.893 1529.94 788.888 1529.94 Q787.013 1529.94 785.138 1530.35 Q783.287 1530.77 781.342 1531.65 L781.342 1514.29 Z\" fill=\"#000000\" fill-rule=\"evenodd\" fill-opacity=\"1\" /><path clip-path=\"url(#clip440)\" d=\"M1228.11 1517.37 Q1224.5 1517.37 1222.67 1520.93 Q1220.87 1524.47 1220.87 1531.6 Q1220.87 1538.71 1222.67 1542.27 Q1224.5 1545.82 1228.11 1545.82 Q1231.75 1545.82 1233.55 1542.27 Q1235.38 1538.71 1235.38 1531.6 Q1235.38 1524.47 1233.55 1520.93 Q1231.75 1517.37 1228.11 1517.37 M1228.11 1513.66 Q1233.92 1513.66 1236.98 1518.27 Q1240.06 1522.85 1240.06 1531.6 Q1240.06 1540.33 1236.98 1544.94 Q1233.92 1549.52 1228.11 1549.52 Q1222.3 1549.52 1219.23 1544.94 Q1216.17 1540.33 1216.17 1531.6 Q1216.17 1522.85 1219.23 1518.27 Q1222.3 1513.66 1228.11 1513.66 Z\" fill=\"#000000\" fill-rule=\"evenodd\" fill-opacity=\"1\" /><path clip-path=\"url(#clip440)\" d=\"M1248.28 1542.97 L1253.16 1542.97 L1253.16 1548.85 L1248.28 1548.85 L1248.28 1542.97 Z\" fill=\"#000000\" fill-rule=\"evenodd\" fill-opacity=\"1\" /><path clip-path=\"url(#clip440)\" d=\"M1263.39 1514.29 L1281.75 1514.29 L1281.75 1518.22 L1267.67 1518.22 L1267.67 1526.7 Q1268.69 1526.35 1269.71 1526.19 Q1270.73 1526 1271.75 1526 Q1277.54 1526 1280.92 1529.17 Q1284.29 1532.34 1284.29 1537.76 Q1284.29 1543.34 1280.82 1546.44 Q1277.35 1549.52 1271.03 1549.52 Q1268.86 1549.52 1266.59 1549.15 Q1264.34 1548.78 1261.93 1548.04 L1261.93 1543.34 Q1264.02 1544.47 1266.24 1545.03 Q1268.46 1545.58 1270.94 1545.58 Q1274.94 1545.58 1277.28 1543.48 Q1279.62 1541.37 1279.62 1537.76 Q1279.62 1534.15 1277.28 1532.04 Q1274.94 1529.94 1270.94 1529.94 Q1269.06 1529.94 1267.19 1530.35 Q1265.34 1530.77 1263.39 1531.65 L1263.39 1514.29 Z\" fill=\"#000000\" fill-rule=\"evenodd\" fill-opacity=\"1\" /><path clip-path=\"url(#clip440)\" d=\"M1303.51 1517.37 Q1299.9 1517.37 1298.07 1520.93 Q1296.26 1524.47 1296.26 1531.6 Q1296.26 1538.71 1298.07 1542.27 Q1299.9 1545.82 1303.51 1545.82 Q1307.14 1545.82 1308.95 1542.27 Q1310.78 1538.71 1310.78 1531.6 Q1310.78 1524.47 1308.95 1520.93 Q1307.14 1517.37 1303.51 1517.37 M1303.51 1513.66 Q1309.32 1513.66 1312.37 1518.27 Q1315.45 1522.85 1315.45 1531.6 Q1315.45 1540.33 1312.37 1544.94 Q1309.32 1549.52 1303.51 1549.52 Q1297.7 1549.52 1294.62 1544.94 Q1291.56 1540.33 1291.56 1531.6 Q1291.56 1522.85 1294.62 1518.27 Q1297.7 1513.66 1303.51 1513.66 Z\" fill=\"#000000\" fill-rule=\"evenodd\" fill-opacity=\"1\" /><path clip-path=\"url(#clip440)\" d=\"M1741.32 1517.37 Q1737.71 1517.37 1735.88 1520.93 Q1734.08 1524.47 1734.08 1531.6 Q1734.08 1538.71 1735.88 1542.27 Q1737.71 1545.82 1741.32 1545.82 Q1744.96 1545.82 1746.76 1542.27 Q1748.59 1538.71 1748.59 1531.6 Q1748.59 1524.47 1746.76 1520.93 Q1744.96 1517.37 1741.32 1517.37 M1741.32 1513.66 Q1747.13 1513.66 1750.19 1518.27 Q1753.27 1522.85 1753.27 1531.6 Q1753.27 1540.33 1750.19 1544.94 Q1747.13 1549.52 1741.32 1549.52 Q1735.51 1549.52 1732.43 1544.94 Q1729.38 1540.33 1729.38 1531.6 Q1729.38 1522.85 1732.43 1518.27 Q1735.51 1513.66 1741.32 1513.66 Z\" fill=\"#000000\" fill-rule=\"evenodd\" fill-opacity=\"1\" /><path clip-path=\"url(#clip440)\" d=\"M1761.48 1542.97 L1766.37 1542.97 L1766.37 1548.85 L1761.48 1548.85 L1761.48 1542.97 Z\" fill=\"#000000\" fill-rule=\"evenodd\" fill-opacity=\"1\" /><path clip-path=\"url(#clip440)\" d=\"M1775.37 1514.29 L1797.59 1514.29 L1797.59 1516.28 L1785.05 1548.85 L1780.16 1548.85 L1791.97 1518.22 L1775.37 1518.22 L1775.37 1514.29 Z\" fill=\"#000000\" fill-rule=\"evenodd\" fill-opacity=\"1\" /><path clip-path=\"url(#clip440)\" d=\"M1806.76 1514.29 L1825.12 1514.29 L1825.12 1518.22 L1811.04 1518.22 L1811.04 1526.7 Q1812.06 1526.35 1813.08 1526.19 Q1814.1 1526 1815.12 1526 Q1820.91 1526 1824.28 1529.17 Q1827.66 1532.34 1827.66 1537.76 Q1827.66 1543.34 1824.19 1546.44 Q1820.72 1549.52 1814.4 1549.52 Q1812.22 1549.52 1809.96 1549.15 Q1807.71 1548.78 1805.3 1548.04 L1805.3 1543.34 Q1807.39 1544.47 1809.61 1545.03 Q1811.83 1545.58 1814.31 1545.58 Q1818.31 1545.58 1820.65 1543.48 Q1822.99 1541.37 1822.99 1537.76 Q1822.99 1534.15 1820.65 1532.04 Q1818.31 1529.94 1814.31 1529.94 Q1812.43 1529.94 1810.56 1530.35 Q1808.71 1530.77 1806.76 1531.65 L1806.76 1514.29 Z\" fill=\"#000000\" fill-rule=\"evenodd\" fill-opacity=\"1\" /><path clip-path=\"url(#clip440)\" d=\"M2243.3 1544.91 L2250.94 1544.91 L2250.94 1518.55 L2242.63 1520.21 L2242.63 1515.95 L2250.9 1514.29 L2255.57 1514.29 L2255.57 1544.91 L2263.21 1544.91 L2263.21 1548.85 L2243.3 1548.85 L2243.3 1544.91 Z\" fill=\"#000000\" fill-rule=\"evenodd\" fill-opacity=\"1\" /><path clip-path=\"url(#clip440)\" d=\"M2272.65 1542.97 L2277.54 1542.97 L2277.54 1548.85 L2272.65 1548.85 L2272.65 1542.97 Z\" fill=\"#000000\" fill-rule=\"evenodd\" fill-opacity=\"1\" /><path clip-path=\"url(#clip440)\" d=\"M2297.72 1517.37 Q2294.11 1517.37 2292.28 1520.93 Q2290.48 1524.47 2290.48 1531.6 Q2290.48 1538.71 2292.28 1542.27 Q2294.11 1545.82 2297.72 1545.82 Q2301.36 1545.82 2303.16 1542.27 Q2304.99 1538.71 2304.99 1531.6 Q2304.99 1524.47 2303.16 1520.93 Q2301.36 1517.37 2297.72 1517.37 M2297.72 1513.66 Q2303.53 1513.66 2306.59 1518.27 Q2309.67 1522.85 2309.67 1531.6 Q2309.67 1540.33 2306.59 1544.94 Q2303.53 1549.52 2297.72 1549.52 Q2291.91 1549.52 2288.83 1544.94 Q2285.78 1540.33 2285.78 1531.6 Q2285.78 1522.85 2288.83 1518.27 Q2291.91 1513.66 2297.72 1513.66 Z\" fill=\"#000000\" fill-rule=\"evenodd\" fill-opacity=\"1\" /><path clip-path=\"url(#clip440)\" d=\"M2327.89 1517.37 Q2324.27 1517.37 2322.45 1520.93 Q2320.64 1524.47 2320.64 1531.6 Q2320.64 1538.71 2322.45 1542.27 Q2324.27 1545.82 2327.89 1545.82 Q2331.52 1545.82 2333.33 1542.27 Q2335.15 1538.71 2335.15 1531.6 Q2335.15 1524.47 2333.33 1520.93 Q2331.52 1517.37 2327.89 1517.37 M2327.89 1513.66 Q2333.7 1513.66 2336.75 1518.27 Q2339.83 1522.85 2339.83 1531.6 Q2339.83 1540.33 2336.75 1544.94 Q2333.7 1549.52 2327.89 1549.52 Q2322.08 1549.52 2319 1544.94 Q2315.94 1540.33 2315.94 1531.6 Q2315.94 1522.85 2319 1518.27 Q2322.08 1513.66 2327.89 1513.66 Z\" fill=\"#000000\" fill-rule=\"evenodd\" fill-opacity=\"1\" /><polyline clip-path=\"url(#clip442)\" style=\"stroke:#000000; stroke-linecap:butt; stroke-linejoin:round; stroke-width:2; stroke-opacity:0.1; fill:none\" points=\"\n",
       "  178.867,1445.72 2352.76,1445.72 \n",
       "  \"/>\n",
       "<polyline clip-path=\"url(#clip442)\" style=\"stroke:#000000; stroke-linecap:butt; stroke-linejoin:round; stroke-width:2; stroke-opacity:0.1; fill:none\" points=\"\n",
       "  178.867,1106.28 2352.76,1106.28 \n",
       "  \"/>\n",
       "<polyline clip-path=\"url(#clip442)\" style=\"stroke:#000000; stroke-linecap:butt; stroke-linejoin:round; stroke-width:2; stroke-opacity:0.1; fill:none\" points=\"\n",
       "  178.867,766.846 2352.76,766.846 \n",
       "  \"/>\n",
       "<polyline clip-path=\"url(#clip442)\" style=\"stroke:#000000; stroke-linecap:butt; stroke-linejoin:round; stroke-width:2; stroke-opacity:0.1; fill:none\" points=\"\n",
       "  178.867,427.411 2352.76,427.411 \n",
       "  \"/>\n",
       "<polyline clip-path=\"url(#clip442)\" style=\"stroke:#000000; stroke-linecap:butt; stroke-linejoin:round; stroke-width:2; stroke-opacity:0.1; fill:none\" points=\"\n",
       "  178.867,87.9763 2352.76,87.9763 \n",
       "  \"/>\n",
       "<polyline clip-path=\"url(#clip440)\" style=\"stroke:#000000; stroke-linecap:butt; stroke-linejoin:round; stroke-width:4; stroke-opacity:1; fill:none\" points=\"\n",
       "  178.867,1486.45 178.867,47.2441 \n",
       "  \"/>\n",
       "<polyline clip-path=\"url(#clip440)\" style=\"stroke:#000000; stroke-linecap:butt; stroke-linejoin:round; stroke-width:4; stroke-opacity:1; fill:none\" points=\"\n",
       "  178.867,1445.72 197.764,1445.72 \n",
       "  \"/>\n",
       "<polyline clip-path=\"url(#clip440)\" style=\"stroke:#000000; stroke-linecap:butt; stroke-linejoin:round; stroke-width:4; stroke-opacity:1; fill:none\" points=\"\n",
       "  178.867,1106.28 197.764,1106.28 \n",
       "  \"/>\n",
       "<polyline clip-path=\"url(#clip440)\" style=\"stroke:#000000; stroke-linecap:butt; stroke-linejoin:round; stroke-width:4; stroke-opacity:1; fill:none\" points=\"\n",
       "  178.867,766.846 197.764,766.846 \n",
       "  \"/>\n",
       "<polyline clip-path=\"url(#clip440)\" style=\"stroke:#000000; stroke-linecap:butt; stroke-linejoin:round; stroke-width:4; stroke-opacity:1; fill:none\" points=\"\n",
       "  178.867,427.411 197.764,427.411 \n",
       "  \"/>\n",
       "<polyline clip-path=\"url(#clip440)\" style=\"stroke:#000000; stroke-linecap:butt; stroke-linejoin:round; stroke-width:4; stroke-opacity:1; fill:none\" points=\"\n",
       "  178.867,87.9763 197.764,87.9763 \n",
       "  \"/>\n",
       "<path clip-path=\"url(#clip440)\" d=\"M50.9921 1446.17 L80.6679 1446.17 L80.6679 1450.1 L50.9921 1450.1 L50.9921 1446.17 Z\" fill=\"#000000\" fill-rule=\"evenodd\" fill-opacity=\"1\" /><path clip-path=\"url(#clip440)\" d=\"M94.7882 1459.06 L111.108 1459.06 L111.108 1463 L89.1632 1463 L89.1632 1459.06 Q91.8252 1456.31 96.4085 1451.68 Q101.015 1447.02 102.196 1445.68 Q104.441 1443.16 105.321 1441.42 Q106.223 1439.66 106.223 1437.97 Q106.223 1435.22 104.279 1433.48 Q102.358 1431.75 99.2558 1431.75 Q97.0567 1431.75 94.603 1432.51 Q92.1725 1433.27 89.3947 1434.82 L89.3947 1430.1 Q92.2188 1428.97 94.6724 1428.39 Q97.1261 1427.81 99.1632 1427.81 Q104.534 1427.81 107.728 1430.5 Q110.922 1433.18 110.922 1437.67 Q110.922 1439.8 110.112 1441.72 Q109.325 1443.62 107.219 1446.21 Q106.64 1446.88 103.538 1450.1 Q100.436 1453.3 94.7882 1459.06 Z\" fill=\"#000000\" fill-rule=\"evenodd\" fill-opacity=\"1\" /><path clip-path=\"url(#clip440)\" d=\"M130.922 1431.51 Q127.311 1431.51 125.482 1435.08 Q123.677 1438.62 123.677 1445.75 Q123.677 1452.86 125.482 1456.42 Q127.311 1459.96 130.922 1459.96 Q134.556 1459.96 136.362 1456.42 Q138.191 1452.86 138.191 1445.75 Q138.191 1438.62 136.362 1435.08 Q134.556 1431.51 130.922 1431.51 M130.922 1427.81 Q136.732 1427.81 139.788 1432.42 Q142.867 1437 142.867 1445.75 Q142.867 1454.48 139.788 1459.08 Q136.732 1463.67 130.922 1463.67 Q125.112 1463.67 122.033 1459.08 Q118.978 1454.48 118.978 1445.75 Q118.978 1437 122.033 1432.42 Q125.112 1427.81 130.922 1427.81 Z\" fill=\"#000000\" fill-rule=\"evenodd\" fill-opacity=\"1\" /><path clip-path=\"url(#clip440)\" d=\"M50.9921 1106.73 L80.6679 1106.73 L80.6679 1110.67 L50.9921 1110.67 L50.9921 1106.73 Z\" fill=\"#000000\" fill-rule=\"evenodd\" fill-opacity=\"1\" /><path clip-path=\"url(#clip440)\" d=\"M91.5706 1119.63 L99.2095 1119.63 L99.2095 1093.26 L90.8993 1094.93 L90.8993 1090.67 L99.1632 1089 L103.839 1089 L103.839 1119.63 L111.478 1119.63 L111.478 1123.56 L91.5706 1123.56 L91.5706 1119.63 Z\" fill=\"#000000\" fill-rule=\"evenodd\" fill-opacity=\"1\" /><path clip-path=\"url(#clip440)\" d=\"M130.922 1092.08 Q127.311 1092.08 125.482 1095.64 Q123.677 1099.19 123.677 1106.32 Q123.677 1113.42 125.482 1116.99 Q127.311 1120.53 130.922 1120.53 Q134.556 1120.53 136.362 1116.99 Q138.191 1113.42 138.191 1106.32 Q138.191 1099.19 136.362 1095.64 Q134.556 1092.08 130.922 1092.08 M130.922 1088.38 Q136.732 1088.38 139.788 1092.98 Q142.867 1097.57 142.867 1106.32 Q142.867 1115.04 139.788 1119.65 Q136.732 1124.23 130.922 1124.23 Q125.112 1124.23 122.033 1119.65 Q118.978 1115.04 118.978 1106.32 Q118.978 1097.57 122.033 1092.98 Q125.112 1088.38 130.922 1088.38 Z\" fill=\"#000000\" fill-rule=\"evenodd\" fill-opacity=\"1\" /><path clip-path=\"url(#clip440)\" d=\"M130.922 752.645 Q127.311 752.645 125.482 756.209 Q123.677 759.751 123.677 766.881 Q123.677 773.987 125.482 777.552 Q127.311 781.094 130.922 781.094 Q134.556 781.094 136.362 777.552 Q138.191 773.987 138.191 766.881 Q138.191 759.751 136.362 756.209 Q134.556 752.645 130.922 752.645 M130.922 748.941 Q136.732 748.941 139.788 753.547 Q142.867 758.131 142.867 766.881 Q142.867 775.608 139.788 780.214 Q136.732 784.797 130.922 784.797 Q125.112 784.797 122.033 780.214 Q118.978 775.608 118.978 766.881 Q118.978 758.131 122.033 753.547 Q125.112 748.941 130.922 748.941 Z\" fill=\"#000000\" fill-rule=\"evenodd\" fill-opacity=\"1\" /><path clip-path=\"url(#clip440)\" d=\"M91.5706 440.756 L99.2095 440.756 L99.2095 414.39 L90.8993 416.057 L90.8993 411.798 L99.1632 410.131 L103.839 410.131 L103.839 440.756 L111.478 440.756 L111.478 444.691 L91.5706 444.691 L91.5706 440.756 Z\" fill=\"#000000\" fill-rule=\"evenodd\" fill-opacity=\"1\" /><path clip-path=\"url(#clip440)\" d=\"M130.922 413.21 Q127.311 413.21 125.482 416.775 Q123.677 420.316 123.677 427.446 Q123.677 434.552 125.482 438.117 Q127.311 441.659 130.922 441.659 Q134.556 441.659 136.362 438.117 Q138.191 434.552 138.191 427.446 Q138.191 420.316 136.362 416.775 Q134.556 413.21 130.922 413.21 M130.922 409.506 Q136.732 409.506 139.788 414.113 Q142.867 418.696 142.867 427.446 Q142.867 436.173 139.788 440.779 Q136.732 445.362 130.922 445.362 Q125.112 445.362 122.033 440.779 Q118.978 436.173 118.978 427.446 Q118.978 418.696 122.033 414.113 Q125.112 409.506 130.922 409.506 Z\" fill=\"#000000\" fill-rule=\"evenodd\" fill-opacity=\"1\" /><path clip-path=\"url(#clip440)\" d=\"M94.7882 101.321 L111.108 101.321 L111.108 105.256 L89.1632 105.256 L89.1632 101.321 Q91.8252 98.5665 96.4085 93.9369 Q101.015 89.2841 102.196 87.9416 Q104.441 85.4184 105.321 83.6823 Q106.223 81.9231 106.223 80.2333 Q106.223 77.4786 104.279 75.7425 Q102.358 74.0064 99.2558 74.0064 Q97.0567 74.0064 94.603 74.7703 Q92.1725 75.5342 89.3947 77.0851 L89.3947 72.3629 Q92.2188 71.2287 94.6724 70.65 Q97.1261 70.0713 99.1632 70.0713 Q104.534 70.0713 107.728 72.7565 Q110.922 75.4416 110.922 79.9323 Q110.922 82.062 110.112 83.9832 Q109.325 85.8814 107.219 88.474 Q106.64 89.1453 103.538 92.3628 Q100.436 95.5573 94.7882 101.321 Z\" fill=\"#000000\" fill-rule=\"evenodd\" fill-opacity=\"1\" /><path clip-path=\"url(#clip440)\" d=\"M130.922 73.775 Q127.311 73.775 125.482 77.3398 Q123.677 80.8814 123.677 88.011 Q123.677 95.1174 125.482 98.6822 Q127.311 102.224 130.922 102.224 Q134.556 102.224 136.362 98.6822 Q138.191 95.1174 138.191 88.011 Q138.191 80.8814 136.362 77.3398 Q134.556 73.775 130.922 73.775 M130.922 70.0713 Q136.732 70.0713 139.788 74.6777 Q142.867 79.261 142.867 88.011 Q142.867 96.7378 139.788 101.344 Q136.732 105.928 130.922 105.928 Q125.112 105.928 122.033 101.344 Q118.978 96.7378 118.978 88.011 Q118.978 79.261 122.033 74.6777 Q125.112 70.0713 130.922 70.0713 Z\" fill=\"#000000\" fill-rule=\"evenodd\" fill-opacity=\"1\" /><circle clip-path=\"url(#clip442)\" cx=\"240.392\" cy=\"719.498\" r=\"14\" fill=\"#009af9\" fill-rule=\"evenodd\" fill-opacity=\"1\" stroke=\"#000000\" stroke-opacity=\"1\" stroke-width=\"3.2\"/>\n",
       "<circle clip-path=\"url(#clip442)\" cx=\"311.11\" cy=\"721.113\" r=\"14\" fill=\"#009af9\" fill-rule=\"evenodd\" fill-opacity=\"1\" stroke=\"#000000\" stroke-opacity=\"1\" stroke-width=\"3.2\"/>\n",
       "<circle clip-path=\"url(#clip442)\" cx=\"381.829\" cy=\"748.764\" r=\"14\" fill=\"#009af9\" fill-rule=\"evenodd\" fill-opacity=\"1\" stroke=\"#000000\" stroke-opacity=\"1\" stroke-width=\"3.2\"/>\n",
       "<circle clip-path=\"url(#clip442)\" cx=\"452.548\" cy=\"751.748\" r=\"14\" fill=\"#009af9\" fill-rule=\"evenodd\" fill-opacity=\"1\" stroke=\"#000000\" stroke-opacity=\"1\" stroke-width=\"3.2\"/>\n",
       "<circle clip-path=\"url(#clip442)\" cx=\"523.266\" cy=\"739.495\" r=\"14\" fill=\"#009af9\" fill-rule=\"evenodd\" fill-opacity=\"1\" stroke=\"#000000\" stroke-opacity=\"1\" stroke-width=\"3.2\"/>\n",
       "<circle clip-path=\"url(#clip442)\" cx=\"593.985\" cy=\"727.905\" r=\"14\" fill=\"#009af9\" fill-rule=\"evenodd\" fill-opacity=\"1\" stroke=\"#000000\" stroke-opacity=\"1\" stroke-width=\"3.2\"/>\n",
       "<circle clip-path=\"url(#clip442)\" cx=\"664.703\" cy=\"758.472\" r=\"14\" fill=\"#009af9\" fill-rule=\"evenodd\" fill-opacity=\"1\" stroke=\"#000000\" stroke-opacity=\"1\" stroke-width=\"3.2\"/>\n",
       "<circle clip-path=\"url(#clip442)\" cx=\"735.422\" cy=\"770.005\" r=\"14\" fill=\"#009af9\" fill-rule=\"evenodd\" fill-opacity=\"1\" stroke=\"#000000\" stroke-opacity=\"1\" stroke-width=\"3.2\"/>\n",
       "<circle clip-path=\"url(#clip442)\" cx=\"806.14\" cy=\"734.439\" r=\"14\" fill=\"#009af9\" fill-rule=\"evenodd\" fill-opacity=\"1\" stroke=\"#000000\" stroke-opacity=\"1\" stroke-width=\"3.2\"/>\n",
       "<circle clip-path=\"url(#clip442)\" cx=\"876.859\" cy=\"740.908\" r=\"14\" fill=\"#009af9\" fill-rule=\"evenodd\" fill-opacity=\"1\" stroke=\"#000000\" stroke-opacity=\"1\" stroke-width=\"3.2\"/>\n",
       "<circle clip-path=\"url(#clip442)\" cx=\"947.578\" cy=\"754.095\" r=\"14\" fill=\"#009af9\" fill-rule=\"evenodd\" fill-opacity=\"1\" stroke=\"#000000\" stroke-opacity=\"1\" stroke-width=\"3.2\"/>\n",
       "<circle clip-path=\"url(#clip442)\" cx=\"1018.3\" cy=\"726.713\" r=\"14\" fill=\"#009af9\" fill-rule=\"evenodd\" fill-opacity=\"1\" stroke=\"#000000\" stroke-opacity=\"1\" stroke-width=\"3.2\"/>\n",
       "<circle clip-path=\"url(#clip442)\" cx=\"1089.01\" cy=\"749.419\" r=\"14\" fill=\"#009af9\" fill-rule=\"evenodd\" fill-opacity=\"1\" stroke=\"#000000\" stroke-opacity=\"1\" stroke-width=\"3.2\"/>\n",
       "<circle clip-path=\"url(#clip442)\" cx=\"1159.73\" cy=\"733.524\" r=\"14\" fill=\"#009af9\" fill-rule=\"evenodd\" fill-opacity=\"1\" stroke=\"#000000\" stroke-opacity=\"1\" stroke-width=\"3.2\"/>\n",
       "<circle clip-path=\"url(#clip442)\" cx=\"1230.45\" cy=\"755.774\" r=\"14\" fill=\"#009af9\" fill-rule=\"evenodd\" fill-opacity=\"1\" stroke=\"#000000\" stroke-opacity=\"1\" stroke-width=\"3.2\"/>\n",
       "<circle clip-path=\"url(#clip442)\" cx=\"1301.17\" cy=\"750.349\" r=\"14\" fill=\"#009af9\" fill-rule=\"evenodd\" fill-opacity=\"1\" stroke=\"#000000\" stroke-opacity=\"1\" stroke-width=\"3.2\"/>\n",
       "<circle clip-path=\"url(#clip442)\" cx=\"1371.89\" cy=\"734.283\" r=\"14\" fill=\"#009af9\" fill-rule=\"evenodd\" fill-opacity=\"1\" stroke=\"#000000\" stroke-opacity=\"1\" stroke-width=\"3.2\"/>\n",
       "<circle clip-path=\"url(#clip442)\" cx=\"1442.61\" cy=\"749.509\" r=\"14\" fill=\"#009af9\" fill-rule=\"evenodd\" fill-opacity=\"1\" stroke=\"#000000\" stroke-opacity=\"1\" stroke-width=\"3.2\"/>\n",
       "<circle clip-path=\"url(#clip442)\" cx=\"1513.33\" cy=\"749.503\" r=\"14\" fill=\"#009af9\" fill-rule=\"evenodd\" fill-opacity=\"1\" stroke=\"#000000\" stroke-opacity=\"1\" stroke-width=\"3.2\"/>\n",
       "<circle clip-path=\"url(#clip442)\" cx=\"1584.04\" cy=\"740.322\" r=\"14\" fill=\"#009af9\" fill-rule=\"evenodd\" fill-opacity=\"1\" stroke=\"#000000\" stroke-opacity=\"1\" stroke-width=\"3.2\"/>\n",
       "<circle clip-path=\"url(#clip442)\" cx=\"1654.76\" cy=\"744.672\" r=\"14\" fill=\"#009af9\" fill-rule=\"evenodd\" fill-opacity=\"1\" stroke=\"#000000\" stroke-opacity=\"1\" stroke-width=\"3.2\"/>\n",
       "<circle clip-path=\"url(#clip442)\" cx=\"1725.48\" cy=\"773.151\" r=\"14\" fill=\"#009af9\" fill-rule=\"evenodd\" fill-opacity=\"1\" stroke=\"#000000\" stroke-opacity=\"1\" stroke-width=\"3.2\"/>\n",
       "<circle clip-path=\"url(#clip442)\" cx=\"1796.2\" cy=\"764.227\" r=\"14\" fill=\"#009af9\" fill-rule=\"evenodd\" fill-opacity=\"1\" stroke=\"#000000\" stroke-opacity=\"1\" stroke-width=\"3.2\"/>\n",
       "<circle clip-path=\"url(#clip442)\" cx=\"1866.92\" cy=\"781.533\" r=\"14\" fill=\"#009af9\" fill-rule=\"evenodd\" fill-opacity=\"1\" stroke=\"#000000\" stroke-opacity=\"1\" stroke-width=\"3.2\"/>\n",
       "<circle clip-path=\"url(#clip442)\" cx=\"1937.64\" cy=\"778.977\" r=\"14\" fill=\"#009af9\" fill-rule=\"evenodd\" fill-opacity=\"1\" stroke=\"#000000\" stroke-opacity=\"1\" stroke-width=\"3.2\"/>\n",
       "<circle clip-path=\"url(#clip442)\" cx=\"2008.36\" cy=\"768.827\" r=\"14\" fill=\"#009af9\" fill-rule=\"evenodd\" fill-opacity=\"1\" stroke=\"#000000\" stroke-opacity=\"1\" stroke-width=\"3.2\"/>\n",
       "<circle clip-path=\"url(#clip442)\" cx=\"2079.07\" cy=\"794.269\" r=\"14\" fill=\"#009af9\" fill-rule=\"evenodd\" fill-opacity=\"1\" stroke=\"#000000\" stroke-opacity=\"1\" stroke-width=\"3.2\"/>\n",
       "<circle clip-path=\"url(#clip442)\" cx=\"2149.79\" cy=\"817.882\" r=\"14\" fill=\"#009af9\" fill-rule=\"evenodd\" fill-opacity=\"1\" stroke=\"#000000\" stroke-opacity=\"1\" stroke-width=\"3.2\"/>\n",
       "<circle clip-path=\"url(#clip442)\" cx=\"2220.51\" cy=\"833.012\" r=\"14\" fill=\"#009af9\" fill-rule=\"evenodd\" fill-opacity=\"1\" stroke=\"#000000\" stroke-opacity=\"1\" stroke-width=\"3.2\"/>\n",
       "<circle clip-path=\"url(#clip442)\" cx=\"2291.23\" cy=\"828.559\" r=\"14\" fill=\"#009af9\" fill-rule=\"evenodd\" fill-opacity=\"1\" stroke=\"#000000\" stroke-opacity=\"1\" stroke-width=\"3.2\"/>\n",
       "<polyline clip-path=\"url(#clip442)\" style=\"stroke:#ff0000; stroke-linecap:butt; stroke-linejoin:round; stroke-width:4; stroke-opacity:1; fill:none\" points=\"\n",
       "  240.392,719.486 260.42,711.193 445.609,756.515 556.9,729.257 650.995,753.758 753.208,757.822 847.44,740.511 948.466,742.304 1065.52,739.315 1169.53,742.856 \n",
       "  1260.75,750.833 1360.2,743.763 1460.24,744.078 1570.85,746.346 1676.09,749.61 1785.51,776.042 1877.63,772.78 1933.86,782.984 1990.09,776.956 2016.52,762.637 \n",
       "  2042.94,756.052 2069.37,777.57 2095.8,832.386 2116.97,874.618 2138.14,864.841 2148.73,823.561 2159.31,753.48 2169.9,659.046 2180.48,555.646 2185.78,509.425 \n",
       "  2191.07,473.769 2196.36,455.376 2201.65,462.142 2206.95,503.039 2212.24,587.915 2214.89,650.045 2217.53,727.029 2220.18,820.106 2222.83,930.453 2225.47,1059.15 \n",
       "  2228.12,1207.11 2230.76,1375.07 2233.41,1563.47 2236.06,1772.44 2238.7,2001.7 2241.35,2250.47 2244,2517.36 2249.29,3096.13 2254.58,3709.89 2259.87,4311.4 \n",
       "  2265.17,4827.87 2265.98,4893.54 2266.8,4954.29 2267.61,5009.61 2268.42,5058.99 2270.05,5137.69 2271.68,5185.63 2273.31,5197.56 2274.94,5167.71 2276.57,5089.73 \n",
       "  2278.2,4956.65 2279.01,4867.09 2279.83,4760.84 2280.64,4636.83 2281.46,4493.94 2282.27,4331.02 2283.09,4146.84 2283.9,3940.16 2284.71,3709.62 2285.53,3453.88 \n",
       "  2286.34,3171.46 2287.16,2860.88 2287.97,2520.59 2288.79,2148.94 2289.6,1744.24 2290.42,1304.73 2291.23,828.568 \n",
       "  \"/>\n",
       "<polyline clip-path=\"url(#clip442)\" style=\"stroke:#000000; stroke-linecap:butt; stroke-linejoin:round; stroke-width:4; stroke-opacity:1; fill:none\" points=\"\n",
       "  240.392,719.495 260.42,498.306 445.609,751.621 556.9,728.174 650.995,753.012 753.208,760.304 847.44,735.518 948.466,747.551 1065.52,734.578 1169.53,744.777 \n",
       "  1260.75,754.557 1360.2,737.1 1460.24,751.049 1570.85,739.46 1676.09,756.361 1785.51,766.541 1877.63,785.293 1933.86,781.328 1990.09,757.335 2016.52,777.978 \n",
       "  2042.94,812.413 2069.37,812.939 2095.8,738.207 2116.97,662.294 2138.14,695.571 2148.73,802.849 2159.31,988.196 2169.9,1244.12 2180.48,1531.95 2185.78,1664 \n",
       "  2191.07,1768.94 2196.36,1827.99 2201.65,1818.88 2206.95,1716.27 2212.24,1492.6 2214.89,1326.46 2217.53,1119.37 2220.18,867.995 2222.83,569.167 2225.47,220.117 \n",
       "  2228.12,-181.474 2230.76,-637.264 2233.41,-1148.17 2236.06,-1714.04 2238.7,-2333.59 2241.35,-3004.01 2244,-3720.85 2249.29,-5265.29 2254.58,-6884.23 2257.23,-7682.42 \n",
       "  2259.87,-8444.68 2262.52,-9144.08 2265.17,-9748.61 2265.98,-9909.92 2266.8,-10057.5 2267.61,-10190 2268.42,-10306.2 2270.05,-10484 2271.68,-10578.6 2273.31,-10577.2 \n",
       "  2274.94,-10465.4 2276.57,-10227.8 2278.2,-9847.6 2279.01,-9598.39 2279.83,-9306.61 2280.64,-8969.78 2281.46,-8585.31 2282.27,-8150.47 2283.09,-7662.51 2283.9,-7118.55 \n",
       "  2284.71,-6515.55 2285.53,-5850.46 2286.34,-5120.03 2287.16,-4320.96 2287.97,-3449.81 2288.79,-2503.01 2289.6,-1476.89 2290.42,-367.682 2291.23,828.587 \n",
       "  \"/>\n",
       "<polyline clip-path=\"url(#clip442)\" style=\"stroke:#008000; stroke-linecap:butt; stroke-linejoin:round; stroke-width:4; stroke-opacity:1; fill:none\" points=\"\n",
       "  240.392,719.497 260.42,432.754 445.609,750.816 556.9,727.438 650.995,753.624 753.208,759.795 847.44,735.433 948.466,748.19 1065.52,733.784 1169.53,746.16 \n",
       "  1260.75,752.604 1360.2,739.177 1460.24,748.884 1570.85,742.677 1676.09,751.747 1785.51,769.153 1877.63,796.416 1933.86,790.839 1990.09,629.42 2042.94,1421.22 \n",
       "  2095.8,-992.045 2116.97,-4129.44 2138.14,-3974.63 2159.31,8883.86 2180.48,41631 2191.07,60573.3 2201.65,69951.3 2206.95,65809.6 2212.24,51781.7 2217.53,24072.5 \n",
       "  2222.83,-21684.3 2225.47,-52810.1 2228.12,-90246.8 2230.76,-134594 2233.41,-186420 2236.06,-246238 2238.7,-314471 2241.35,-391418 2244,-477203 2246.64,-571719 \n",
       "  2249.29,-674564 2251.93,-784953 2254.58,-901624 2259.87,-1.14569e+006 2265.17,-1.38227e+006 2266.8,-1.4477e+006 2268.42,-1.50701e+006 2270.05,-1.55831e+006 2271.68,-1.59948e+006 2273.31,-1.62805e+006 \n",
       "  2274.94,-1.64125e+006 2275.76,-1.64112e+006 2276.57,-1.63594e+006 2277.38,-1.62525e+006 2278.2,-1.60857e+006 2279.01,-1.58538e+006 2279.83,-1.55514e+006 2280.64,-1.51727e+006 2281.46,-1.47116e+006 2282.27,-1.41616e+006 \n",
       "  2283.09,-1.3516e+006 2283.9,-1.27675e+006 2284.71,-1.19084e+006 2285.53,-1.09308e+006 2286.34,-982609 2287.16,-858534 2287.97,-719910 2288.79,-565740 2289.6,-394974 2290.42,-206506 \n",
       "  2291.23,828.601 \n",
       "  \"/>\n",
       "</svg>\n"
      ]
     },
     "execution_count": 23,
     "metadata": {},
     "output_type": "execute_result"
    }
   ],
   "source": [
    "scatter(x,y,leg=false)\n",
    "plot!(grau_30, c=:red)\n",
    "plot!(grau_40, c=:black)\n",
    "plot!(grau_50, c=:green,   \n",
    "    xaxis=([0,1]),\n",
    "    yaxis=([-20,20]))"
   ]
  },
  {
   "cell_type": "code",
   "execution_count": 138,
   "id": "cc1c15ad",
   "metadata": {},
   "outputs": [],
   "source": [
    "#Sim é possivel. O julia gerou  polinomios com erros bastante baixos nos pontos. \n",
    "#Contudo, as curvas entre os pontos  vão se acentuando. "
   ]
  },
  {
   "cell_type": "code",
   "execution_count": 40,
   "id": "cf80bdeb",
   "metadata": {},
   "outputs": [
    {
     "data": {
      "image/svg+xml": [
       "<?xml version=\"1.0\" encoding=\"utf-8\"?>\n",
       "<svg xmlns=\"http://www.w3.org/2000/svg\" xmlns:xlink=\"http://www.w3.org/1999/xlink\" width=\"600\" height=\"400\" viewBox=\"0 0 2400 1600\">\n",
       "<defs>\n",
       "  <clipPath id=\"clip760\">\n",
       "    <rect x=\"0\" y=\"0\" width=\"2400\" height=\"1600\"/>\n",
       "  </clipPath>\n",
       "</defs>\n",
       "<path clip-path=\"url(#clip760)\" d=\"\n",
       "M0 1600 L2400 1600 L2400 0 L0 0  Z\n",
       "  \" fill=\"#ffffff\" fill-rule=\"evenodd\" fill-opacity=\"1\"/>\n",
       "<defs>\n",
       "  <clipPath id=\"clip761\">\n",
       "    <rect x=\"480\" y=\"0\" width=\"1681\" height=\"1600\"/>\n",
       "  </clipPath>\n",
       "</defs>\n",
       "<path clip-path=\"url(#clip760)\" d=\"\n",
       "M184.191 1486.45 L2352.76 1486.45 L2352.76 47.2441 L184.191 47.2441  Z\n",
       "  \" fill=\"#ffffff\" fill-rule=\"evenodd\" fill-opacity=\"1\"/>\n",
       "<defs>\n",
       "  <clipPath id=\"clip762\">\n",
       "    <rect x=\"184\" y=\"47\" width=\"2170\" height=\"1440\"/>\n",
       "  </clipPath>\n",
       "</defs>\n",
       "<polyline clip-path=\"url(#clip762)\" style=\"stroke:#000000; stroke-linecap:butt; stroke-linejoin:round; stroke-width:2; stroke-opacity:0.1; fill:none\" points=\"\n",
       "  245.565,1486.45 245.565,47.2441 \n",
       "  \"/>\n",
       "<polyline clip-path=\"url(#clip762)\" style=\"stroke:#000000; stroke-linecap:butt; stroke-linejoin:round; stroke-width:2; stroke-opacity:0.1; fill:none\" points=\"\n",
       "  598.292,1486.45 598.292,47.2441 \n",
       "  \"/>\n",
       "<polyline clip-path=\"url(#clip762)\" style=\"stroke:#000000; stroke-linecap:butt; stroke-linejoin:round; stroke-width:2; stroke-opacity:0.1; fill:none\" points=\"\n",
       "  951.019,1486.45 951.019,47.2441 \n",
       "  \"/>\n",
       "<polyline clip-path=\"url(#clip762)\" style=\"stroke:#000000; stroke-linecap:butt; stroke-linejoin:round; stroke-width:2; stroke-opacity:0.1; fill:none\" points=\"\n",
       "  1303.75,1486.45 1303.75,47.2441 \n",
       "  \"/>\n",
       "<polyline clip-path=\"url(#clip762)\" style=\"stroke:#000000; stroke-linecap:butt; stroke-linejoin:round; stroke-width:2; stroke-opacity:0.1; fill:none\" points=\"\n",
       "  1656.47,1486.45 1656.47,47.2441 \n",
       "  \"/>\n",
       "<polyline clip-path=\"url(#clip762)\" style=\"stroke:#000000; stroke-linecap:butt; stroke-linejoin:round; stroke-width:2; stroke-opacity:0.1; fill:none\" points=\"\n",
       "  2009.2,1486.45 2009.2,47.2441 \n",
       "  \"/>\n",
       "<polyline clip-path=\"url(#clip760)\" style=\"stroke:#000000; stroke-linecap:butt; stroke-linejoin:round; stroke-width:4; stroke-opacity:1; fill:none\" points=\"\n",
       "  184.191,1486.45 2352.76,1486.45 \n",
       "  \"/>\n",
       "<polyline clip-path=\"url(#clip760)\" style=\"stroke:#000000; stroke-linecap:butt; stroke-linejoin:round; stroke-width:4; stroke-opacity:1; fill:none\" points=\"\n",
       "  245.565,1486.45 245.565,1467.55 \n",
       "  \"/>\n",
       "<polyline clip-path=\"url(#clip760)\" style=\"stroke:#000000; stroke-linecap:butt; stroke-linejoin:round; stroke-width:4; stroke-opacity:1; fill:none\" points=\"\n",
       "  598.292,1486.45 598.292,1467.55 \n",
       "  \"/>\n",
       "<polyline clip-path=\"url(#clip760)\" style=\"stroke:#000000; stroke-linecap:butt; stroke-linejoin:round; stroke-width:4; stroke-opacity:1; fill:none\" points=\"\n",
       "  951.019,1486.45 951.019,1467.55 \n",
       "  \"/>\n",
       "<polyline clip-path=\"url(#clip760)\" style=\"stroke:#000000; stroke-linecap:butt; stroke-linejoin:round; stroke-width:4; stroke-opacity:1; fill:none\" points=\"\n",
       "  1303.75,1486.45 1303.75,1467.55 \n",
       "  \"/>\n",
       "<polyline clip-path=\"url(#clip760)\" style=\"stroke:#000000; stroke-linecap:butt; stroke-linejoin:round; stroke-width:4; stroke-opacity:1; fill:none\" points=\"\n",
       "  1656.47,1486.45 1656.47,1467.55 \n",
       "  \"/>\n",
       "<polyline clip-path=\"url(#clip760)\" style=\"stroke:#000000; stroke-linecap:butt; stroke-linejoin:round; stroke-width:4; stroke-opacity:1; fill:none\" points=\"\n",
       "  2009.2,1486.45 2009.2,1467.55 \n",
       "  \"/>\n",
       "<path clip-path=\"url(#clip760)\" d=\"M245.565 1517.37 Q241.954 1517.37 240.125 1520.93 Q238.32 1524.47 238.32 1531.6 Q238.32 1538.71 240.125 1542.27 Q241.954 1545.82 245.565 1545.82 Q249.199 1545.82 251.005 1542.27 Q252.834 1538.71 252.834 1531.6 Q252.834 1524.47 251.005 1520.93 Q249.199 1517.37 245.565 1517.37 M245.565 1513.66 Q251.375 1513.66 254.431 1518.27 Q257.51 1522.85 257.51 1531.6 Q257.51 1540.33 254.431 1544.94 Q251.375 1549.52 245.565 1549.52 Q239.755 1549.52 236.676 1544.94 Q233.621 1540.33 233.621 1531.6 Q233.621 1522.85 236.676 1518.27 Q239.755 1513.66 245.565 1513.66 Z\" fill=\"#000000\" fill-rule=\"evenodd\" fill-opacity=\"1\" /><path clip-path=\"url(#clip760)\" d=\"M588.57 1514.29 L606.926 1514.29 L606.926 1518.22 L592.852 1518.22 L592.852 1526.7 Q593.871 1526.35 594.889 1526.19 Q595.908 1526 596.926 1526 Q602.713 1526 606.093 1529.17 Q609.473 1532.34 609.473 1537.76 Q609.473 1543.34 606 1546.44 Q602.528 1549.52 596.209 1549.52 Q594.033 1549.52 591.764 1549.15 Q589.519 1548.78 587.112 1548.04 L587.112 1543.34 Q589.195 1544.47 591.417 1545.03 Q593.639 1545.58 596.116 1545.58 Q600.121 1545.58 602.459 1543.48 Q604.797 1541.37 604.797 1537.76 Q604.797 1534.15 602.459 1532.04 Q600.121 1529.94 596.116 1529.94 Q594.241 1529.94 592.366 1530.35 Q590.514 1530.77 588.57 1531.65 L588.57 1514.29 Z\" fill=\"#000000\" fill-rule=\"evenodd\" fill-opacity=\"1\" /><path clip-path=\"url(#clip760)\" d=\"M925.707 1544.91 L933.346 1544.91 L933.346 1518.55 L925.035 1520.21 L925.035 1515.95 L933.299 1514.29 L937.975 1514.29 L937.975 1544.91 L945.614 1544.91 L945.614 1548.85 L925.707 1548.85 L925.707 1544.91 Z\" fill=\"#000000\" fill-rule=\"evenodd\" fill-opacity=\"1\" /><path clip-path=\"url(#clip760)\" d=\"M965.058 1517.37 Q961.447 1517.37 959.619 1520.93 Q957.813 1524.47 957.813 1531.6 Q957.813 1538.71 959.619 1542.27 Q961.447 1545.82 965.058 1545.82 Q968.693 1545.82 970.498 1542.27 Q972.327 1538.71 972.327 1531.6 Q972.327 1524.47 970.498 1520.93 Q968.693 1517.37 965.058 1517.37 M965.058 1513.66 Q970.868 1513.66 973.924 1518.27 Q977.003 1522.85 977.003 1531.6 Q977.003 1540.33 973.924 1544.94 Q970.868 1549.52 965.058 1549.52 Q959.248 1549.52 956.169 1544.94 Q953.114 1540.33 953.114 1531.6 Q953.114 1522.85 956.169 1518.27 Q959.248 1513.66 965.058 1513.66 Z\" fill=\"#000000\" fill-rule=\"evenodd\" fill-opacity=\"1\" /><path clip-path=\"url(#clip760)\" d=\"M1278.93 1544.91 L1286.57 1544.91 L1286.57 1518.55 L1278.26 1520.21 L1278.26 1515.95 L1286.52 1514.29 L1291.2 1514.29 L1291.2 1544.91 L1298.84 1544.91 L1298.84 1548.85 L1278.93 1548.85 L1278.93 1544.91 Z\" fill=\"#000000\" fill-rule=\"evenodd\" fill-opacity=\"1\" /><path clip-path=\"url(#clip760)\" d=\"M1308.33 1514.29 L1326.69 1514.29 L1326.69 1518.22 L1312.61 1518.22 L1312.61 1526.7 Q1313.63 1526.35 1314.65 1526.19 Q1315.67 1526 1316.69 1526 Q1322.47 1526 1325.85 1529.17 Q1329.23 1532.34 1329.23 1537.76 Q1329.23 1543.34 1325.76 1546.44 Q1322.29 1549.52 1315.97 1549.52 Q1313.79 1549.52 1311.52 1549.15 Q1309.28 1548.78 1306.87 1548.04 L1306.87 1543.34 Q1308.95 1544.47 1311.18 1545.03 Q1313.4 1545.58 1315.88 1545.58 Q1319.88 1545.58 1322.22 1543.48 Q1324.56 1541.37 1324.56 1537.76 Q1324.56 1534.15 1322.22 1532.04 Q1319.88 1529.94 1315.88 1529.94 Q1314 1529.94 1312.13 1530.35 Q1310.27 1530.77 1308.33 1531.65 L1308.33 1514.29 Z\" fill=\"#000000\" fill-rule=\"evenodd\" fill-opacity=\"1\" /><path clip-path=\"url(#clip760)\" d=\"M1635.25 1544.91 L1651.57 1544.91 L1651.57 1548.85 L1629.62 1548.85 L1629.62 1544.91 Q1632.28 1542.16 1636.87 1537.53 Q1641.47 1532.88 1642.65 1531.53 Q1644.9 1529.01 1645.78 1527.27 Q1646.68 1525.51 1646.68 1523.82 Q1646.68 1521.07 1644.74 1519.33 Q1642.82 1517.6 1639.71 1517.6 Q1637.51 1517.6 1635.06 1518.36 Q1632.63 1519.13 1629.85 1520.68 L1629.85 1515.95 Q1632.68 1514.82 1635.13 1514.24 Q1637.58 1513.66 1639.62 1513.66 Q1644.99 1513.66 1648.19 1516.35 Q1651.38 1519.03 1651.38 1523.52 Q1651.38 1525.65 1650.57 1527.57 Q1649.78 1529.47 1647.68 1532.07 Q1647.1 1532.74 1644 1535.95 Q1640.89 1539.15 1635.25 1544.91 Z\" fill=\"#000000\" fill-rule=\"evenodd\" fill-opacity=\"1\" /><path clip-path=\"url(#clip760)\" d=\"M1671.38 1517.37 Q1667.77 1517.37 1665.94 1520.93 Q1664.13 1524.47 1664.13 1531.6 Q1664.13 1538.71 1665.94 1542.27 Q1667.77 1545.82 1671.38 1545.82 Q1675.01 1545.82 1676.82 1542.27 Q1678.65 1538.71 1678.65 1531.6 Q1678.65 1524.47 1676.82 1520.93 Q1675.01 1517.37 1671.38 1517.37 M1671.38 1513.66 Q1677.19 1513.66 1680.25 1518.27 Q1683.32 1522.85 1683.32 1531.6 Q1683.32 1540.33 1680.25 1544.94 Q1677.19 1549.52 1671.38 1549.52 Q1665.57 1549.52 1662.49 1544.94 Q1659.44 1540.33 1659.44 1531.6 Q1659.44 1522.85 1662.49 1518.27 Q1665.57 1513.66 1671.38 1513.66 Z\" fill=\"#000000\" fill-rule=\"evenodd\" fill-opacity=\"1\" /><path clip-path=\"url(#clip760)\" d=\"M1988.47 1544.91 L2004.79 1544.91 L2004.79 1548.85 L1982.85 1548.85 L1982.85 1544.91 Q1985.51 1542.16 1990.09 1537.53 Q1994.7 1532.88 1995.88 1531.53 Q1998.12 1529.01 1999 1527.27 Q1999.91 1525.51 1999.91 1523.82 Q1999.91 1521.07 1997.96 1519.33 Q1996.04 1517.6 1992.94 1517.6 Q1990.74 1517.6 1988.29 1518.36 Q1985.86 1519.13 1983.08 1520.68 L1983.08 1515.95 Q1985.9 1514.82 1988.36 1514.24 Q1990.81 1513.66 1992.85 1513.66 Q1998.22 1513.66 2001.41 1516.35 Q2004.6 1519.03 2004.6 1523.52 Q2004.6 1525.65 2003.79 1527.57 Q2003.01 1529.47 2000.9 1532.07 Q2000.32 1532.74 1997.22 1535.95 Q1994.12 1539.15 1988.47 1544.91 Z\" fill=\"#000000\" fill-rule=\"evenodd\" fill-opacity=\"1\" /><path clip-path=\"url(#clip760)\" d=\"M2014.65 1514.29 L2033.01 1514.29 L2033.01 1518.22 L2018.93 1518.22 L2018.93 1526.7 Q2019.95 1526.35 2020.97 1526.19 Q2021.99 1526 2023.01 1526 Q2028.79 1526 2032.17 1529.17 Q2035.55 1532.34 2035.55 1537.76 Q2035.55 1543.34 2032.08 1546.44 Q2028.61 1549.52 2022.29 1549.52 Q2020.11 1549.52 2017.85 1549.15 Q2015.6 1548.78 2013.19 1548.04 L2013.19 1543.34 Q2015.28 1544.47 2017.5 1545.03 Q2019.72 1545.58 2022.2 1545.58 Q2026.2 1545.58 2028.54 1543.48 Q2030.88 1541.37 2030.88 1537.76 Q2030.88 1534.15 2028.54 1532.04 Q2026.2 1529.94 2022.2 1529.94 Q2020.32 1529.94 2018.45 1530.35 Q2016.6 1530.77 2014.65 1531.65 L2014.65 1514.29 Z\" fill=\"#000000\" fill-rule=\"evenodd\" fill-opacity=\"1\" /><polyline clip-path=\"url(#clip762)\" style=\"stroke:#000000; stroke-linecap:butt; stroke-linejoin:round; stroke-width:2; stroke-opacity:0.1; fill:none\" points=\"\n",
       "  184.191,1260.27 2352.76,1260.27 \n",
       "  \"/>\n",
       "<polyline clip-path=\"url(#clip762)\" style=\"stroke:#000000; stroke-linecap:butt; stroke-linejoin:round; stroke-width:2; stroke-opacity:0.1; fill:none\" points=\"\n",
       "  184.191,942.106 2352.76,942.106 \n",
       "  \"/>\n",
       "<polyline clip-path=\"url(#clip762)\" style=\"stroke:#000000; stroke-linecap:butt; stroke-linejoin:round; stroke-width:2; stroke-opacity:0.1; fill:none\" points=\"\n",
       "  184.191,623.946 2352.76,623.946 \n",
       "  \"/>\n",
       "<polyline clip-path=\"url(#clip762)\" style=\"stroke:#000000; stroke-linecap:butt; stroke-linejoin:round; stroke-width:2; stroke-opacity:0.1; fill:none\" points=\"\n",
       "  184.191,305.786 2352.76,305.786 \n",
       "  \"/>\n",
       "<polyline clip-path=\"url(#clip760)\" style=\"stroke:#000000; stroke-linecap:butt; stroke-linejoin:round; stroke-width:4; stroke-opacity:1; fill:none\" points=\"\n",
       "  184.191,1486.45 184.191,47.2441 \n",
       "  \"/>\n",
       "<polyline clip-path=\"url(#clip760)\" style=\"stroke:#000000; stroke-linecap:butt; stroke-linejoin:round; stroke-width:4; stroke-opacity:1; fill:none\" points=\"\n",
       "  184.191,1260.27 203.088,1260.27 \n",
       "  \"/>\n",
       "<polyline clip-path=\"url(#clip760)\" style=\"stroke:#000000; stroke-linecap:butt; stroke-linejoin:round; stroke-width:4; stroke-opacity:1; fill:none\" points=\"\n",
       "  184.191,942.106 203.088,942.106 \n",
       "  \"/>\n",
       "<polyline clip-path=\"url(#clip760)\" style=\"stroke:#000000; stroke-linecap:butt; stroke-linejoin:round; stroke-width:4; stroke-opacity:1; fill:none\" points=\"\n",
       "  184.191,623.946 203.088,623.946 \n",
       "  \"/>\n",
       "<polyline clip-path=\"url(#clip760)\" style=\"stroke:#000000; stroke-linecap:butt; stroke-linejoin:round; stroke-width:4; stroke-opacity:1; fill:none\" points=\"\n",
       "  184.191,305.786 203.088,305.786 \n",
       "  \"/>\n",
       "<path clip-path=\"url(#clip760)\" d=\"M86.0382 1273.61 L102.358 1273.61 L102.358 1277.55 L80.4133 1277.55 L80.4133 1273.61 Q83.0753 1270.86 87.6586 1266.23 Q92.2651 1261.57 93.4456 1260.23 Q95.691 1257.71 96.5706 1255.97 Q97.4734 1254.21 97.4734 1252.52 Q97.4734 1249.77 95.5289 1248.03 Q93.6076 1246.3 90.5058 1246.3 Q88.3067 1246.3 85.8531 1247.06 Q83.4225 1247.82 80.6447 1249.37 L80.6447 1244.65 Q83.4688 1243.52 85.9225 1242.94 Q88.3762 1242.36 90.4132 1242.36 Q95.7836 1242.36 98.978 1245.05 Q102.172 1247.73 102.172 1252.22 Q102.172 1254.35 101.362 1256.27 Q100.575 1258.17 98.4687 1260.76 Q97.89 1261.43 94.7882 1264.65 Q91.6864 1267.85 86.0382 1273.61 Z\" fill=\"#000000\" fill-rule=\"evenodd\" fill-opacity=\"1\" /><path clip-path=\"url(#clip760)\" d=\"M112.172 1271.67 L117.057 1271.67 L117.057 1277.55 L112.172 1277.55 L112.172 1271.67 Z\" fill=\"#000000\" fill-rule=\"evenodd\" fill-opacity=\"1\" /><path clip-path=\"url(#clip760)\" d=\"M127.288 1242.99 L145.644 1242.99 L145.644 1246.92 L131.57 1246.92 L131.57 1255.39 Q132.589 1255.05 133.607 1254.88 Q134.626 1254.7 135.644 1254.7 Q141.431 1254.7 144.811 1257.87 Q148.191 1261.04 148.191 1266.46 Q148.191 1272.04 144.718 1275.14 Q141.246 1278.22 134.927 1278.22 Q132.751 1278.22 130.482 1277.85 Q128.237 1277.48 125.83 1276.74 L125.83 1272.04 Q127.913 1273.17 130.135 1273.73 Q132.357 1274.28 134.834 1274.28 Q138.839 1274.28 141.177 1272.17 Q143.515 1270.07 143.515 1266.46 Q143.515 1262.85 141.177 1260.74 Q138.839 1258.63 134.834 1258.63 Q132.959 1258.63 131.084 1259.05 Q129.232 1259.47 127.288 1260.35 L127.288 1242.99 Z\" fill=\"#000000\" fill-rule=\"evenodd\" fill-opacity=\"1\" /><path clip-path=\"url(#clip760)\" d=\"M81.0614 924.826 L99.4178 924.826 L99.4178 928.761 L85.3438 928.761 L85.3438 937.233 Q86.3623 936.886 87.3808 936.724 Q88.3993 936.539 89.4178 936.539 Q95.2049 936.539 98.5845 939.71 Q101.964 942.881 101.964 948.298 Q101.964 953.876 98.4919 956.978 Q95.0197 960.057 88.7003 960.057 Q86.5243 960.057 84.2558 959.687 Q82.0105 959.316 79.6031 958.576 L79.6031 953.876 Q81.6864 955.011 83.9086 955.566 Q86.1308 956.122 88.6077 956.122 Q92.6123 956.122 94.9502 954.015 Q97.2882 951.909 97.2882 948.298 Q97.2882 944.687 94.9502 942.58 Q92.6123 940.474 88.6077 940.474 Q86.7327 940.474 84.8577 940.89 Q83.0058 941.307 81.0614 942.187 L81.0614 924.826 Z\" fill=\"#000000\" fill-rule=\"evenodd\" fill-opacity=\"1\" /><path clip-path=\"url(#clip760)\" d=\"M111.177 953.506 L116.061 953.506 L116.061 959.386 L111.177 959.386 L111.177 953.506 Z\" fill=\"#000000\" fill-rule=\"evenodd\" fill-opacity=\"1\" /><path clip-path=\"url(#clip760)\" d=\"M136.246 927.904 Q132.635 927.904 130.807 931.469 Q129.001 935.011 129.001 942.14 Q129.001 949.247 130.807 952.812 Q132.635 956.353 136.246 956.353 Q139.881 956.353 141.686 952.812 Q143.515 949.247 143.515 942.14 Q143.515 935.011 141.686 931.469 Q139.881 927.904 136.246 927.904 M136.246 924.201 Q142.056 924.201 145.112 928.807 Q148.191 933.39 148.191 942.14 Q148.191 950.867 145.112 955.474 Q142.056 960.057 136.246 960.057 Q130.436 960.057 127.357 955.474 Q124.302 950.867 124.302 942.14 Q124.302 933.39 127.357 928.807 Q130.436 924.201 136.246 924.201 Z\" fill=\"#000000\" fill-rule=\"evenodd\" fill-opacity=\"1\" /><path clip-path=\"url(#clip760)\" d=\"M80.8299 606.666 L103.052 606.666 L103.052 608.657 L90.5058 641.226 L85.6216 641.226 L97.4271 610.601 L80.8299 610.601 L80.8299 606.666 Z\" fill=\"#000000\" fill-rule=\"evenodd\" fill-opacity=\"1\" /><path clip-path=\"url(#clip760)\" d=\"M112.172 635.346 L117.057 635.346 L117.057 641.226 L112.172 641.226 L112.172 635.346 Z\" fill=\"#000000\" fill-rule=\"evenodd\" fill-opacity=\"1\" /><path clip-path=\"url(#clip760)\" d=\"M127.288 606.666 L145.644 606.666 L145.644 610.601 L131.57 610.601 L131.57 619.073 Q132.589 618.726 133.607 618.564 Q134.626 618.379 135.644 618.379 Q141.431 618.379 144.811 621.55 Q148.191 624.722 148.191 630.138 Q148.191 635.717 144.718 638.819 Q141.246 641.897 134.927 641.897 Q132.751 641.897 130.482 641.527 Q128.237 641.157 125.83 640.416 L125.83 635.717 Q127.913 636.851 130.135 637.407 Q132.357 637.962 134.834 637.962 Q138.839 637.962 141.177 635.856 Q143.515 633.749 143.515 630.138 Q143.515 626.527 141.177 624.421 Q138.839 622.314 134.834 622.314 Q132.959 622.314 131.084 622.731 Q129.232 623.147 127.288 624.027 L127.288 606.666 Z\" fill=\"#000000\" fill-rule=\"evenodd\" fill-opacity=\"1\" /><path clip-path=\"url(#clip760)\" d=\"M51.6634 319.131 L59.3023 319.131 L59.3023 292.766 L50.9921 294.432 L50.9921 290.173 L59.256 288.506 L63.9319 288.506 L63.9319 319.131 L71.5707 319.131 L71.5707 323.066 L51.6634 323.066 L51.6634 319.131 Z\" fill=\"#000000\" fill-rule=\"evenodd\" fill-opacity=\"1\" /><path clip-path=\"url(#clip760)\" d=\"M91.0151 291.585 Q87.404 291.585 85.5753 295.15 Q83.7697 298.692 83.7697 305.821 Q83.7697 312.928 85.5753 316.492 Q87.404 320.034 91.0151 320.034 Q94.6493 320.034 96.4548 316.492 Q98.2835 312.928 98.2835 305.821 Q98.2835 298.692 96.4548 295.15 Q94.6493 291.585 91.0151 291.585 M91.0151 287.881 Q96.8252 287.881 99.8808 292.488 Q102.959 297.071 102.959 305.821 Q102.959 314.548 99.8808 319.154 Q96.8252 323.738 91.0151 323.738 Q85.2049 323.738 82.1262 319.154 Q79.0707 314.548 79.0707 305.821 Q79.0707 297.071 82.1262 292.488 Q85.2049 287.881 91.0151 287.881 Z\" fill=\"#000000\" fill-rule=\"evenodd\" fill-opacity=\"1\" /><path clip-path=\"url(#clip760)\" d=\"M111.177 317.187 L116.061 317.187 L116.061 323.066 L111.177 323.066 L111.177 317.187 Z\" fill=\"#000000\" fill-rule=\"evenodd\" fill-opacity=\"1\" /><path clip-path=\"url(#clip760)\" d=\"M136.246 291.585 Q132.635 291.585 130.807 295.15 Q129.001 298.692 129.001 305.821 Q129.001 312.928 130.807 316.492 Q132.635 320.034 136.246 320.034 Q139.881 320.034 141.686 316.492 Q143.515 312.928 143.515 305.821 Q143.515 298.692 141.686 295.15 Q139.881 291.585 136.246 291.585 M136.246 287.881 Q142.056 287.881 145.112 292.488 Q148.191 297.071 148.191 305.821 Q148.191 314.548 145.112 319.154 Q142.056 323.738 136.246 323.738 Q130.436 323.738 127.357 319.154 Q124.302 314.548 124.302 305.821 Q124.302 297.071 127.357 292.488 Q130.436 287.881 136.246 287.881 Z\" fill=\"#000000\" fill-rule=\"evenodd\" fill-opacity=\"1\" /><polyline clip-path=\"url(#clip762)\" style=\"stroke:#009af9; stroke-linecap:butt; stroke-linejoin:round; stroke-width:4; stroke-opacity:1; fill:none\" points=\"\n",
       "  245.565,985.368 316.111,1191.18 386.656,1280.48 457.201,1351.92 527.747,1356.36 598.292,1357.31 668.837,1358.2 739.383,1358.83 809.928,1360.94 880.474,1365.18 \n",
       "  951.019,1372.81 1021.56,1379.16 1092.11,1403.33 1162.66,1404.07 1233.2,1409.3 1303.75,1410.2 1374.29,1415.87 1444.84,1417.87 1515.38,1422.76 1585.93,1423.26 \n",
       "  1656.47,1423.32 1727.02,1423.37 1797.56,1423.46 1868.11,1423.25 1938.65,1423.57 2009.2,1424.77 2079.75,1426.24 2150.29,1445.72 2220.84,1441.54 2291.38,87.9763 \n",
       "  \n",
       "  \"/>\n",
       "<path clip-path=\"url(#clip760)\" d=\"\n",
       "M1987.09 198.898 L2280.47 198.898 L2280.47 95.2176 L1987.09 95.2176  Z\n",
       "  \" fill=\"#ffffff\" fill-rule=\"evenodd\" fill-opacity=\"1\"/>\n",
       "<polyline clip-path=\"url(#clip760)\" style=\"stroke:#000000; stroke-linecap:butt; stroke-linejoin:round; stroke-width:4; stroke-opacity:1; fill:none\" points=\"\n",
       "  1987.09,198.898 2280.47,198.898 2280.47,95.2176 1987.09,95.2176 1987.09,198.898 \n",
       "  \"/>\n",
       "<polyline clip-path=\"url(#clip760)\" style=\"stroke:#009af9; stroke-linecap:butt; stroke-linejoin:round; stroke-width:4; stroke-opacity:1; fill:none\" points=\"\n",
       "  2011.18,147.058 2155.75,147.058 \n",
       "  \"/>\n",
       "<path clip-path=\"url(#clip760)\" d=\"M2193.69 166.745 Q2191.89 171.375 2190.17 172.787 Q2188.46 174.199 2185.59 174.199 L2182.19 174.199 L2182.19 170.634 L2184.69 170.634 Q2186.45 170.634 2187.42 169.8 Q2188.39 168.967 2189.57 165.865 L2190.34 163.921 L2179.85 138.412 L2184.36 138.412 L2192.47 158.689 L2200.57 138.412 L2205.08 138.412 L2193.69 166.745 Z\" fill=\"#000000\" fill-rule=\"evenodd\" fill-opacity=\"1\" /><path clip-path=\"url(#clip760)\" d=\"M2212.37 160.402 L2220.01 160.402 L2220.01 134.037 L2211.7 135.703 L2211.7 131.444 L2219.97 129.778 L2224.64 129.778 L2224.64 160.402 L2232.28 160.402 L2232.28 164.338 L2212.37 164.338 L2212.37 160.402 Z\" fill=\"#000000\" fill-rule=\"evenodd\" fill-opacity=\"1\" /></svg>\n"
      ]
     },
     "execution_count": 40,
     "metadata": {},
     "output_type": "execute_result"
    }
   ],
   "source": [
    "# 4 - Faca o plot do Erro total (eixo y) por grau (eixo x). O que se pode dizer\n",
    "# desse grafico conforme o grau aumenta? Era o que voce esperava? Por que?\n",
    "y_erros  =[erro_total(x,y,polinomios[i]) for i in 1:30]\n",
    "x_erros  =[i for i in 0:29]\n",
    "plot(x_erros,y_erros)"
   ]
  },
  {
   "cell_type": "code",
   "execution_count": 28,
   "id": "303a9451",
   "metadata": {},
   "outputs": [],
   "source": [
    "#Como esperado, a medida que aumentamos o grau diminuimos o erro total. Contudo, inesperadamente, no polinomio de grau 29, que \n",
    "#em teoria deveria ter erro 0, apresentou um erro maior do que o anterior."
   ]
  },
  {
   "cell_type": "code",
   "execution_count": 41,
   "id": "7bb1a2f0",
   "metadata": {},
   "outputs": [
    {
     "data": {
      "text/plain": [
       "15×9 Matrix{Int64}:\n",
       " 1  -1   0   0  0   0   0   0  0\n",
       " 0   0   1  -1  0   0   0   0  0\n",
       " 0   0   0   0  1  -1   0   0  0\n",
       " 0   0   0   0  0   0   1  -1  0\n",
       " 0   0   0   0  0  -1   0   0  1\n",
       " 0  -1   0   0  0   0   0   1  0\n",
       " 1   0  -1   0  0   0   0   0  0\n",
       " 0   0   0   0  1   0   0  -1  0\n",
       " 0   0   0   1  0  -1   0   0  0\n",
       " 0   0   1   0  0  -1   0   0  0\n",
       " 0  -1   0   0  0   0   0   0  1\n",
       " 0   0   0   0  1   0  -1   0  0\n",
       " 1   0   0   0  0   0  -1   0  0\n",
       " 0   0   0  -1  1   0   0   0  0\n",
       " 0   1   0   0  0   0   0   0  0"
      ]
     },
     "execution_count": 41,
     "metadata": {},
     "output_type": "execute_result"
    }
   ],
   "source": [
    "#Exercício 1.3\n",
    "#Como na aula 14, vamos criar as matrizes para determinar qual o filme mais votado. A ordem dos filmes na matriz A é:\n",
    "# Toy Story, Rocky, De Volta pro Futuro, Curtindo a vida, Incriveis, Duna, Batman, Harry Potter, Sherek\n",
    "# Atribuimos o valor 10 para o filme Rocky\n",
    "A=[1 -1 0 0 0 0 0 0 0; 0 0 1 -1 0 0 0 0 0; 0 0 0 0 1 -1 0 0 0; 0 0 0 0 0 0 1 -1 0; 0 0 0 0 0 -1 0 0 1; 0 -1 0 0 0 0 0 1 0; 1 0 -1 0 0 0 0 0 0; 0 0 0 0 1 0 0 -1 0; 0 0 0 1 0 -1 0 0 0; 0 0 1 0 0 -1 0 0 0; 0 -1 0 0 0 0 0 0 1; 0 0 0 0 1 0 -1 0 0;  1 0 0 0 0 0 -1 0 0; 0 0 0 -1 1 0 0 0 0; 0 1 0 0 0 0 0 0 0]"
   ]
  },
  {
   "cell_type": "code",
   "execution_count": 42,
   "id": "440902a9",
   "metadata": {},
   "outputs": [
    {
     "data": {
      "text/plain": [
       "15-element Vector{Int64}:\n",
       " 11\n",
       "  3\n",
       "  7\n",
       "  2\n",
       "  9\n",
       "  7\n",
       "  5\n",
       "  5\n",
       "  2\n",
       "  2\n",
       " 11\n",
       "  5\n",
       "  3\n",
       "  7\n",
       " 10"
      ]
     },
     "execution_count": 42,
     "metadata": {},
     "output_type": "execute_result"
    }
   ],
   "source": [
    "B = [11;3;7;2;9;7;5;5;2;2;11;5;3;7;10]"
   ]
  },
  {
   "cell_type": "code",
   "execution_count": 43,
   "id": "61cfa607",
   "metadata": {
    "scrolled": true
   },
   "outputs": [
    {
     "data": {
      "text/plain": [
       "9-element Vector{Float64}:\n",
       " 20.941949616648415\n",
       " 10.000000000000002\n",
       " 16.256297918948523\n",
       " 14.3789704271632\n",
       " 21.432639649507124\n",
       " 13.447973713033956\n",
       " 17.56955093099672\n",
       " 16.334063526834612\n",
       " 21.72398685651698"
      ]
     },
     "execution_count": 43,
     "metadata": {},
     "output_type": "execute_result"
    }
   ],
   "source": [
    "# Toy Story, Rocky, De Volta pro Futuro, Curtindo a vida, Incriveis, Duna, Batman, Harry Potter, Sherek\n",
    "x = A\\B"
   ]
  },
  {
   "cell_type": "code",
   "execution_count": 56,
   "id": "efe36d11",
   "metadata": {},
   "outputs": [],
   "source": [
    "#Dessa forma o filme mais popular é Sherek, seguido de Incriveis e Toy Story"
   ]
  },
  {
   "cell_type": "code",
   "execution_count": 44,
   "id": "da56bfd2",
   "metadata": {},
   "outputs": [
    {
     "data": {
      "image/svg+xml": [
       "<?xml version=\"1.0\" encoding=\"utf-8\"?>\n",
       "<svg xmlns=\"http://www.w3.org/2000/svg\" xmlns:xlink=\"http://www.w3.org/1999/xlink\" width=\"600\" height=\"400\" viewBox=\"0 0 2400 1600\">\n",
       "<defs>\n",
       "  <clipPath id=\"clip800\">\n",
       "    <rect x=\"0\" y=\"0\" width=\"2400\" height=\"1600\"/>\n",
       "  </clipPath>\n",
       "</defs>\n",
       "<path clip-path=\"url(#clip800)\" d=\"\n",
       "M0 1600 L2400 1600 L2400 0 L0 0  Z\n",
       "  \" fill=\"#ffffff\" fill-rule=\"evenodd\" fill-opacity=\"1\"/>\n",
       "<defs>\n",
       "  <clipPath id=\"clip801\">\n",
       "    <rect x=\"480\" y=\"0\" width=\"1681\" height=\"1600\"/>\n",
       "  </clipPath>\n",
       "</defs>\n",
       "<path clip-path=\"url(#clip800)\" d=\"\n",
       "M169.283 1486.45 L2352.76 1486.45 L2352.76 47.2441 L169.283 47.2441  Z\n",
       "  \" fill=\"#ffffff\" fill-rule=\"evenodd\" fill-opacity=\"1\"/>\n",
       "<defs>\n",
       "  <clipPath id=\"clip802\">\n",
       "    <rect x=\"169\" y=\"47\" width=\"2184\" height=\"1440\"/>\n",
       "  </clipPath>\n",
       "</defs>\n",
       "<polyline clip-path=\"url(#clip802)\" style=\"stroke:#000000; stroke-linecap:butt; stroke-linejoin:round; stroke-width:2; stroke-opacity:0.1; fill:none\" points=\"\n",
       "  206.262,1486.45 206.262,47.2441 \n",
       "  \"/>\n",
       "<polyline clip-path=\"url(#clip802)\" style=\"stroke:#000000; stroke-linecap:butt; stroke-linejoin:round; stroke-width:2; stroke-opacity:0.1; fill:none\" points=\"\n",
       "  702.618,1486.45 702.618,47.2441 \n",
       "  \"/>\n",
       "<polyline clip-path=\"url(#clip802)\" style=\"stroke:#000000; stroke-linecap:butt; stroke-linejoin:round; stroke-width:2; stroke-opacity:0.1; fill:none\" points=\"\n",
       "  1198.98,1486.45 1198.98,47.2441 \n",
       "  \"/>\n",
       "<polyline clip-path=\"url(#clip802)\" style=\"stroke:#000000; stroke-linecap:butt; stroke-linejoin:round; stroke-width:2; stroke-opacity:0.1; fill:none\" points=\"\n",
       "  1695.33,1486.45 1695.33,47.2441 \n",
       "  \"/>\n",
       "<polyline clip-path=\"url(#clip802)\" style=\"stroke:#000000; stroke-linecap:butt; stroke-linejoin:round; stroke-width:2; stroke-opacity:0.1; fill:none\" points=\"\n",
       "  2191.69,1486.45 2191.69,47.2441 \n",
       "  \"/>\n",
       "<polyline clip-path=\"url(#clip800)\" style=\"stroke:#000000; stroke-linecap:butt; stroke-linejoin:round; stroke-width:4; stroke-opacity:1; fill:none\" points=\"\n",
       "  169.283,1486.45 2352.76,1486.45 \n",
       "  \"/>\n",
       "<polyline clip-path=\"url(#clip800)\" style=\"stroke:#000000; stroke-linecap:butt; stroke-linejoin:round; stroke-width:4; stroke-opacity:1; fill:none\" points=\"\n",
       "  206.262,1486.45 206.262,1467.55 \n",
       "  \"/>\n",
       "<polyline clip-path=\"url(#clip800)\" style=\"stroke:#000000; stroke-linecap:butt; stroke-linejoin:round; stroke-width:4; stroke-opacity:1; fill:none\" points=\"\n",
       "  702.618,1486.45 702.618,1467.55 \n",
       "  \"/>\n",
       "<polyline clip-path=\"url(#clip800)\" style=\"stroke:#000000; stroke-linecap:butt; stroke-linejoin:round; stroke-width:4; stroke-opacity:1; fill:none\" points=\"\n",
       "  1198.98,1486.45 1198.98,1467.55 \n",
       "  \"/>\n",
       "<polyline clip-path=\"url(#clip800)\" style=\"stroke:#000000; stroke-linecap:butt; stroke-linejoin:round; stroke-width:4; stroke-opacity:1; fill:none\" points=\"\n",
       "  1695.33,1486.45 1695.33,1467.55 \n",
       "  \"/>\n",
       "<polyline clip-path=\"url(#clip800)\" style=\"stroke:#000000; stroke-linecap:butt; stroke-linejoin:round; stroke-width:4; stroke-opacity:1; fill:none\" points=\"\n",
       "  2191.69,1486.45 2191.69,1467.55 \n",
       "  \"/>\n",
       "<path clip-path=\"url(#clip800)\" d=\"M206.262 1517.37 Q202.651 1517.37 200.822 1520.93 Q199.017 1524.47 199.017 1531.6 Q199.017 1538.71 200.822 1542.27 Q202.651 1545.82 206.262 1545.82 Q209.896 1545.82 211.702 1542.27 Q213.53 1538.71 213.53 1531.6 Q213.53 1524.47 211.702 1520.93 Q209.896 1517.37 206.262 1517.37 M206.262 1513.66 Q212.072 1513.66 215.128 1518.27 Q218.206 1522.85 218.206 1531.6 Q218.206 1540.33 215.128 1544.94 Q212.072 1549.52 206.262 1549.52 Q200.452 1549.52 197.373 1544.94 Q194.318 1540.33 194.318 1531.6 Q194.318 1522.85 197.373 1518.27 Q200.452 1513.66 206.262 1513.66 Z\" fill=\"#000000\" fill-rule=\"evenodd\" fill-opacity=\"1\" /><path clip-path=\"url(#clip800)\" d=\"M681.392 1544.91 L697.711 1544.91 L697.711 1548.85 L675.767 1548.85 L675.767 1544.91 Q678.429 1542.16 683.012 1537.53 Q687.619 1532.88 688.799 1531.53 Q691.044 1529.01 691.924 1527.27 Q692.827 1525.51 692.827 1523.82 Q692.827 1521.07 690.882 1519.33 Q688.961 1517.6 685.859 1517.6 Q683.66 1517.6 681.207 1518.36 Q678.776 1519.13 675.998 1520.68 L675.998 1515.95 Q678.822 1514.82 681.276 1514.24 Q683.73 1513.66 685.767 1513.66 Q691.137 1513.66 694.331 1516.35 Q697.526 1519.03 697.526 1523.52 Q697.526 1525.65 696.716 1527.57 Q695.929 1529.47 693.822 1532.07 Q693.244 1532.74 690.142 1535.95 Q687.04 1539.15 681.392 1544.91 Z\" fill=\"#000000\" fill-rule=\"evenodd\" fill-opacity=\"1\" /><path clip-path=\"url(#clip800)\" d=\"M717.526 1517.37 Q713.915 1517.37 712.086 1520.93 Q710.28 1524.47 710.28 1531.6 Q710.28 1538.71 712.086 1542.27 Q713.915 1545.82 717.526 1545.82 Q721.16 1545.82 722.966 1542.27 Q724.794 1538.71 724.794 1531.6 Q724.794 1524.47 722.966 1520.93 Q721.16 1517.37 717.526 1517.37 M717.526 1513.66 Q723.336 1513.66 726.392 1518.27 Q729.47 1522.85 729.47 1531.6 Q729.47 1540.33 726.392 1544.94 Q723.336 1549.52 717.526 1549.52 Q711.716 1549.52 708.637 1544.94 Q705.581 1540.33 705.581 1531.6 Q705.581 1522.85 708.637 1518.27 Q711.716 1513.66 717.526 1513.66 Z\" fill=\"#000000\" fill-rule=\"evenodd\" fill-opacity=\"1\" /><path clip-path=\"url(#clip800)\" d=\"M1187.15 1518.36 L1175.34 1536.81 L1187.15 1536.81 L1187.15 1518.36 M1185.92 1514.29 L1191.8 1514.29 L1191.8 1536.81 L1196.73 1536.81 L1196.73 1540.7 L1191.8 1540.7 L1191.8 1548.85 L1187.15 1548.85 L1187.15 1540.7 L1171.54 1540.7 L1171.54 1536.19 L1185.92 1514.29 Z\" fill=\"#000000\" fill-rule=\"evenodd\" fill-opacity=\"1\" /><path clip-path=\"url(#clip800)\" d=\"M1214.46 1517.37 Q1210.85 1517.37 1209.02 1520.93 Q1207.22 1524.47 1207.22 1531.6 Q1207.22 1538.71 1209.02 1542.27 Q1210.85 1545.82 1214.46 1545.82 Q1218.1 1545.82 1219.9 1542.27 Q1221.73 1538.71 1221.73 1531.6 Q1221.73 1524.47 1219.9 1520.93 Q1218.1 1517.37 1214.46 1517.37 M1214.46 1513.66 Q1220.27 1513.66 1223.33 1518.27 Q1226.41 1522.85 1226.41 1531.6 Q1226.41 1540.33 1223.33 1544.94 Q1220.27 1549.52 1214.46 1549.52 Q1208.65 1549.52 1205.57 1544.94 Q1202.52 1540.33 1202.52 1531.6 Q1202.52 1522.85 1205.57 1518.27 Q1208.65 1513.66 1214.46 1513.66 Z\" fill=\"#000000\" fill-rule=\"evenodd\" fill-opacity=\"1\" /><path clip-path=\"url(#clip800)\" d=\"M1680.74 1529.7 Q1677.59 1529.7 1675.74 1531.86 Q1673.91 1534.01 1673.91 1537.76 Q1673.91 1541.49 1675.74 1543.66 Q1677.59 1545.82 1680.74 1545.82 Q1683.88 1545.82 1685.71 1543.66 Q1687.57 1541.49 1687.57 1537.76 Q1687.57 1534.01 1685.71 1531.86 Q1683.88 1529.7 1680.74 1529.7 M1690.02 1515.05 L1690.02 1519.31 Q1688.26 1518.48 1686.45 1518.04 Q1684.67 1517.6 1682.91 1517.6 Q1678.28 1517.6 1675.83 1520.72 Q1673.4 1523.85 1673.05 1530.17 Q1674.42 1528.15 1676.48 1527.09 Q1678.54 1526 1681.01 1526 Q1686.22 1526 1689.23 1529.17 Q1692.26 1532.32 1692.26 1537.76 Q1692.26 1543.08 1689.12 1546.3 Q1685.97 1549.52 1680.74 1549.52 Q1674.74 1549.52 1671.57 1544.94 Q1668.4 1540.33 1668.4 1531.6 Q1668.4 1523.41 1672.29 1518.55 Q1676.18 1513.66 1682.73 1513.66 Q1684.49 1513.66 1686.27 1514.01 Q1688.07 1514.36 1690.02 1515.05 Z\" fill=\"#000000\" fill-rule=\"evenodd\" fill-opacity=\"1\" /><path clip-path=\"url(#clip800)\" d=\"M1710.32 1517.37 Q1706.71 1517.37 1704.88 1520.93 Q1703.07 1524.47 1703.07 1531.6 Q1703.07 1538.71 1704.88 1542.27 Q1706.71 1545.82 1710.32 1545.82 Q1713.95 1545.82 1715.76 1542.27 Q1717.59 1538.71 1717.59 1531.6 Q1717.59 1524.47 1715.76 1520.93 Q1713.95 1517.37 1710.32 1517.37 M1710.32 1513.66 Q1716.13 1513.66 1719.19 1518.27 Q1722.26 1522.85 1722.26 1531.6 Q1722.26 1540.33 1719.19 1544.94 Q1716.13 1549.52 1710.32 1549.52 Q1704.51 1549.52 1701.43 1544.94 Q1698.38 1540.33 1698.38 1531.6 Q1698.38 1522.85 1701.43 1518.27 Q1704.51 1513.66 1710.32 1513.66 Z\" fill=\"#000000\" fill-rule=\"evenodd\" fill-opacity=\"1\" /><path clip-path=\"url(#clip800)\" d=\"M2176.56 1532.44 Q2173.23 1532.44 2171.31 1534.22 Q2169.41 1536 2169.41 1539.13 Q2169.41 1542.25 2171.31 1544.03 Q2173.23 1545.82 2176.56 1545.82 Q2179.89 1545.82 2181.82 1544.03 Q2183.74 1542.23 2183.74 1539.13 Q2183.74 1536 2181.82 1534.22 Q2179.92 1532.44 2176.56 1532.44 M2171.89 1530.45 Q2168.88 1529.7 2167.19 1527.64 Q2165.52 1525.58 2165.52 1522.62 Q2165.52 1518.48 2168.46 1516.07 Q2171.42 1513.66 2176.56 1513.66 Q2181.72 1513.66 2184.66 1516.07 Q2187.6 1518.48 2187.6 1522.62 Q2187.6 1525.58 2185.91 1527.64 Q2184.25 1529.7 2181.26 1530.45 Q2184.64 1531.23 2186.51 1533.52 Q2188.41 1535.82 2188.41 1539.13 Q2188.41 1544.15 2185.33 1546.83 Q2182.28 1549.52 2176.56 1549.52 Q2170.84 1549.52 2167.76 1546.83 Q2164.71 1544.15 2164.71 1539.13 Q2164.71 1535.82 2166.61 1533.52 Q2168.51 1531.23 2171.89 1530.45 M2170.17 1523.06 Q2170.17 1525.75 2171.84 1527.25 Q2173.53 1528.76 2176.56 1528.76 Q2179.57 1528.76 2181.26 1527.25 Q2182.97 1525.75 2182.97 1523.06 Q2182.97 1520.38 2181.26 1518.87 Q2179.57 1517.37 2176.56 1517.37 Q2173.53 1517.37 2171.84 1518.87 Q2170.17 1520.38 2170.17 1523.06 Z\" fill=\"#000000\" fill-rule=\"evenodd\" fill-opacity=\"1\" /><path clip-path=\"url(#clip800)\" d=\"M2206.72 1517.37 Q2203.11 1517.37 2201.28 1520.93 Q2199.48 1524.47 2199.48 1531.6 Q2199.48 1538.71 2201.28 1542.27 Q2203.11 1545.82 2206.72 1545.82 Q2210.36 1545.82 2212.16 1542.27 Q2213.99 1538.71 2213.99 1531.6 Q2213.99 1524.47 2212.16 1520.93 Q2210.36 1517.37 2206.72 1517.37 M2206.72 1513.66 Q2212.53 1513.66 2215.59 1518.27 Q2218.67 1522.85 2218.67 1531.6 Q2218.67 1540.33 2215.59 1544.94 Q2212.53 1549.52 2206.72 1549.52 Q2200.91 1549.52 2197.83 1544.94 Q2194.78 1540.33 2194.78 1531.6 Q2194.78 1522.85 2197.83 1518.27 Q2200.91 1513.66 2206.72 1513.66 Z\" fill=\"#000000\" fill-rule=\"evenodd\" fill-opacity=\"1\" /><polyline clip-path=\"url(#clip802)\" style=\"stroke:#000000; stroke-linecap:butt; stroke-linejoin:round; stroke-width:2; stroke-opacity:0.1; fill:none\" points=\"\n",
       "  169.283,1297.21 2352.76,1297.21 \n",
       "  \"/>\n",
       "<polyline clip-path=\"url(#clip802)\" style=\"stroke:#000000; stroke-linecap:butt; stroke-linejoin:round; stroke-width:2; stroke-opacity:0.1; fill:none\" points=\"\n",
       "  169.283,1085.07 2352.76,1085.07 \n",
       "  \"/>\n",
       "<polyline clip-path=\"url(#clip802)\" style=\"stroke:#000000; stroke-linecap:butt; stroke-linejoin:round; stroke-width:2; stroke-opacity:0.1; fill:none\" points=\"\n",
       "  169.283,872.919 2352.76,872.919 \n",
       "  \"/>\n",
       "<polyline clip-path=\"url(#clip802)\" style=\"stroke:#000000; stroke-linecap:butt; stroke-linejoin:round; stroke-width:2; stroke-opacity:0.1; fill:none\" points=\"\n",
       "  169.283,660.773 2352.76,660.773 \n",
       "  \"/>\n",
       "<polyline clip-path=\"url(#clip802)\" style=\"stroke:#000000; stroke-linecap:butt; stroke-linejoin:round; stroke-width:2; stroke-opacity:0.1; fill:none\" points=\"\n",
       "  169.283,448.626 2352.76,448.626 \n",
       "  \"/>\n",
       "<polyline clip-path=\"url(#clip802)\" style=\"stroke:#000000; stroke-linecap:butt; stroke-linejoin:round; stroke-width:2; stroke-opacity:0.1; fill:none\" points=\"\n",
       "  169.283,236.479 2352.76,236.479 \n",
       "  \"/>\n",
       "<polyline clip-path=\"url(#clip800)\" style=\"stroke:#000000; stroke-linecap:butt; stroke-linejoin:round; stroke-width:4; stroke-opacity:1; fill:none\" points=\"\n",
       "  169.283,1486.45 169.283,47.2441 \n",
       "  \"/>\n",
       "<polyline clip-path=\"url(#clip800)\" style=\"stroke:#000000; stroke-linecap:butt; stroke-linejoin:round; stroke-width:4; stroke-opacity:1; fill:none\" points=\"\n",
       "  169.283,1297.21 188.181,1297.21 \n",
       "  \"/>\n",
       "<polyline clip-path=\"url(#clip800)\" style=\"stroke:#000000; stroke-linecap:butt; stroke-linejoin:round; stroke-width:4; stroke-opacity:1; fill:none\" points=\"\n",
       "  169.283,1085.07 188.181,1085.07 \n",
       "  \"/>\n",
       "<polyline clip-path=\"url(#clip800)\" style=\"stroke:#000000; stroke-linecap:butt; stroke-linejoin:round; stroke-width:4; stroke-opacity:1; fill:none\" points=\"\n",
       "  169.283,872.919 188.181,872.919 \n",
       "  \"/>\n",
       "<polyline clip-path=\"url(#clip800)\" style=\"stroke:#000000; stroke-linecap:butt; stroke-linejoin:round; stroke-width:4; stroke-opacity:1; fill:none\" points=\"\n",
       "  169.283,660.773 188.181,660.773 \n",
       "  \"/>\n",
       "<polyline clip-path=\"url(#clip800)\" style=\"stroke:#000000; stroke-linecap:butt; stroke-linejoin:round; stroke-width:4; stroke-opacity:1; fill:none\" points=\"\n",
       "  169.283,448.626 188.181,448.626 \n",
       "  \"/>\n",
       "<polyline clip-path=\"url(#clip800)\" style=\"stroke:#000000; stroke-linecap:butt; stroke-linejoin:round; stroke-width:4; stroke-opacity:1; fill:none\" points=\"\n",
       "  169.283,236.479 188.181,236.479 \n",
       "  \"/>\n",
       "<path clip-path=\"url(#clip800)\" d=\"M51.6634 1310.56 L59.3023 1310.56 L59.3023 1284.19 L50.9921 1285.86 L50.9921 1281.6 L59.256 1279.93 L63.9319 1279.93 L63.9319 1310.56 L71.5707 1310.56 L71.5707 1314.49 L51.6634 1314.49 L51.6634 1310.56 Z\" fill=\"#000000\" fill-rule=\"evenodd\" fill-opacity=\"1\" /><path clip-path=\"url(#clip800)\" d=\"M81.8253 1310.56 L89.4641 1310.56 L89.4641 1284.19 L81.154 1285.86 L81.154 1281.6 L89.4178 1279.93 L94.0937 1279.93 L94.0937 1310.56 L101.733 1310.56 L101.733 1314.49 L81.8253 1314.49 L81.8253 1310.56 Z\" fill=\"#000000\" fill-rule=\"evenodd\" fill-opacity=\"1\" /><path clip-path=\"url(#clip800)\" d=\"M121.756 1295.35 Q118.608 1295.35 116.756 1297.5 Q114.927 1299.66 114.927 1303.41 Q114.927 1307.13 116.756 1309.31 Q118.608 1311.46 121.756 1311.46 Q124.904 1311.46 126.732 1309.31 Q128.584 1307.13 128.584 1303.41 Q128.584 1299.66 126.732 1297.5 Q124.904 1295.35 121.756 1295.35 M131.038 1280.7 L131.038 1284.96 Q129.279 1284.12 127.473 1283.68 Q125.691 1283.24 123.932 1283.24 Q119.302 1283.24 116.848 1286.37 Q114.418 1289.49 114.07 1295.81 Q115.436 1293.8 117.496 1292.73 Q119.557 1291.65 122.033 1291.65 Q127.242 1291.65 130.251 1294.82 Q133.283 1297.97 133.283 1303.41 Q133.283 1308.73 130.135 1311.95 Q126.987 1315.16 121.756 1315.16 Q115.76 1315.16 112.589 1310.58 Q109.418 1305.97 109.418 1297.25 Q109.418 1289.05 113.307 1284.19 Q117.195 1279.31 123.746 1279.31 Q125.506 1279.31 127.288 1279.66 Q129.094 1280 131.038 1280.7 Z\" fill=\"#000000\" fill-rule=\"evenodd\" fill-opacity=\"1\" /><path clip-path=\"url(#clip800)\" d=\"M52.7282 1098.41 L60.3671 1098.41 L60.3671 1072.05 L52.0569 1073.71 L52.0569 1069.45 L60.3208 1067.79 L64.9967 1067.79 L64.9967 1098.41 L72.6355 1098.41 L72.6355 1102.35 L52.7282 1102.35 L52.7282 1098.41 Z\" fill=\"#000000\" fill-rule=\"evenodd\" fill-opacity=\"1\" /><path clip-path=\"url(#clip800)\" d=\"M82.8901 1098.41 L90.529 1098.41 L90.529 1072.05 L82.2188 1073.71 L82.2188 1069.45 L90.4827 1067.79 L95.1586 1067.79 L95.1586 1098.41 L102.797 1098.41 L102.797 1102.35 L82.8901 1102.35 L82.8901 1098.41 Z\" fill=\"#000000\" fill-rule=\"evenodd\" fill-opacity=\"1\" /><path clip-path=\"url(#clip800)\" d=\"M111.061 1067.79 L133.283 1067.79 L133.283 1069.78 L120.737 1102.35 L115.853 1102.35 L127.658 1071.72 L111.061 1071.72 L111.061 1067.79 Z\" fill=\"#000000\" fill-rule=\"evenodd\" fill-opacity=\"1\" /><path clip-path=\"url(#clip800)\" d=\"M51.918 886.264 L59.5569 886.264 L59.5569 859.899 L51.2468 861.565 L51.2468 857.306 L59.5106 855.639 L64.1865 855.639 L64.1865 886.264 L71.8253 886.264 L71.8253 890.199 L51.918 890.199 L51.918 886.264 Z\" fill=\"#000000\" fill-rule=\"evenodd\" fill-opacity=\"1\" /><path clip-path=\"url(#clip800)\" d=\"M82.0799 886.264 L89.7188 886.264 L89.7188 859.899 L81.4086 861.565 L81.4086 857.306 L89.6725 855.639 L94.3484 855.639 L94.3484 886.264 L101.987 886.264 L101.987 890.199 L82.0799 890.199 L82.0799 886.264 Z\" fill=\"#000000\" fill-rule=\"evenodd\" fill-opacity=\"1\" /><path clip-path=\"url(#clip800)\" d=\"M121.432 873.787 Q118.098 873.787 116.177 875.57 Q114.279 877.352 114.279 880.477 Q114.279 883.602 116.177 885.385 Q118.098 887.167 121.432 887.167 Q124.765 887.167 126.686 885.385 Q128.607 883.579 128.607 880.477 Q128.607 877.352 126.686 875.57 Q124.788 873.787 121.432 873.787 M116.756 871.797 Q113.746 871.056 112.057 868.996 Q110.39 866.936 110.39 863.973 Q110.39 859.829 113.33 857.422 Q116.293 855.014 121.432 855.014 Q126.594 855.014 129.533 857.422 Q132.473 859.829 132.473 863.973 Q132.473 866.936 130.783 868.996 Q129.117 871.056 126.131 871.797 Q129.51 872.584 131.385 874.875 Q133.283 877.167 133.283 880.477 Q133.283 885.5 130.205 888.185 Q127.149 890.871 121.432 890.871 Q115.714 890.871 112.635 888.185 Q109.58 885.5 109.58 880.477 Q109.58 877.167 111.478 874.875 Q113.376 872.584 116.756 871.797 M115.043 864.412 Q115.043 867.098 116.709 868.602 Q118.399 870.107 121.432 870.107 Q124.441 870.107 126.131 868.602 Q127.844 867.098 127.844 864.412 Q127.844 861.727 126.131 860.223 Q124.441 858.718 121.432 858.718 Q118.399 858.718 116.709 860.223 Q115.043 861.727 115.043 864.412 Z\" fill=\"#000000\" fill-rule=\"evenodd\" fill-opacity=\"1\" /><path clip-path=\"url(#clip800)\" d=\"M52.0106 674.117 L59.6495 674.117 L59.6495 647.752 L51.3393 649.418 L51.3393 645.159 L59.6032 643.493 L64.2791 643.493 L64.2791 674.117 L71.9179 674.117 L71.9179 678.053 L52.0106 678.053 L52.0106 674.117 Z\" fill=\"#000000\" fill-rule=\"evenodd\" fill-opacity=\"1\" /><path clip-path=\"url(#clip800)\" d=\"M82.1725 674.117 L89.8114 674.117 L89.8114 647.752 L81.5012 649.418 L81.5012 645.159 L89.7651 643.493 L94.441 643.493 L94.441 674.117 L102.08 674.117 L102.08 678.053 L82.1725 678.053 L82.1725 674.117 Z\" fill=\"#000000\" fill-rule=\"evenodd\" fill-opacity=\"1\" /><path clip-path=\"url(#clip800)\" d=\"M111.663 677.335 L111.663 673.076 Q113.422 673.909 115.228 674.349 Q117.033 674.789 118.77 674.789 Q123.399 674.789 125.83 671.687 Q128.283 668.562 128.631 662.219 Q127.288 664.21 125.228 665.275 Q123.168 666.34 120.668 666.34 Q115.483 666.34 112.45 663.215 Q109.441 660.067 109.441 654.627 Q109.441 649.303 112.589 646.085 Q115.737 642.868 120.969 642.868 Q126.964 642.868 130.112 647.474 Q133.283 652.057 133.283 660.807 Q133.283 668.979 129.394 673.863 Q125.529 678.724 118.978 678.724 Q117.219 678.724 115.413 678.377 Q113.608 678.029 111.663 677.335 M120.969 662.682 Q124.117 662.682 125.945 660.53 Q127.797 658.377 127.797 654.627 Q127.797 650.9 125.945 648.747 Q124.117 646.571 120.969 646.571 Q117.82 646.571 115.969 648.747 Q114.14 650.9 114.14 654.627 Q114.14 658.377 115.969 660.53 Q117.82 662.682 120.969 662.682 Z\" fill=\"#000000\" fill-rule=\"evenodd\" fill-opacity=\"1\" /><path clip-path=\"url(#clip800)\" d=\"M51.8255 461.971 L59.4643 461.971 L59.4643 435.605 L51.1542 437.272 L51.1542 433.012 L59.418 431.346 L64.0939 431.346 L64.0939 461.971 L71.7328 461.971 L71.7328 465.906 L51.8255 465.906 L51.8255 461.971 Z\" fill=\"#000000\" fill-rule=\"evenodd\" fill-opacity=\"1\" /><path clip-path=\"url(#clip800)\" d=\"M85.2049 461.971 L101.524 461.971 L101.524 465.906 L79.5799 465.906 L79.5799 461.971 Q82.242 459.216 86.8253 454.586 Q91.4317 449.934 92.6123 448.591 Q94.8576 446.068 95.7373 444.332 Q96.64 442.573 96.64 440.883 Q96.64 438.128 94.6956 436.392 Q92.7743 434.656 89.6725 434.656 Q87.4734 434.656 85.0197 435.42 Q82.5892 436.184 79.8114 437.735 L79.8114 433.012 Q82.6355 431.878 85.0892 431.3 Q87.5429 430.721 89.5799 430.721 Q94.9502 430.721 98.1447 433.406 Q101.339 436.091 101.339 440.582 Q101.339 442.711 100.529 444.633 Q99.7419 446.531 97.6354 449.123 Q97.0567 449.795 93.9549 453.012 Q90.853 456.207 85.2049 461.971 Z\" fill=\"#000000\" fill-rule=\"evenodd\" fill-opacity=\"1\" /><path clip-path=\"url(#clip800)\" d=\"M121.339 434.424 Q117.728 434.424 115.899 437.989 Q114.094 441.531 114.094 448.661 Q114.094 455.767 115.899 459.332 Q117.728 462.873 121.339 462.873 Q124.973 462.873 126.779 459.332 Q128.607 455.767 128.607 448.661 Q128.607 441.531 126.779 437.989 Q124.973 434.424 121.339 434.424 M121.339 430.721 Q127.149 430.721 130.205 435.327 Q133.283 439.911 133.283 448.661 Q133.283 457.387 130.205 461.994 Q127.149 466.577 121.339 466.577 Q115.529 466.577 112.45 461.994 Q109.395 457.387 109.395 448.661 Q109.395 439.911 112.45 435.327 Q115.529 430.721 121.339 430.721 Z\" fill=\"#000000\" fill-rule=\"evenodd\" fill-opacity=\"1\" /><path clip-path=\"url(#clip800)\" d=\"M53.0523 249.824 L60.6911 249.824 L60.6911 223.458 L52.381 225.125 L52.381 220.866 L60.6449 219.199 L65.3208 219.199 L65.3208 249.824 L72.9596 249.824 L72.9596 253.759 L53.0523 253.759 L53.0523 249.824 Z\" fill=\"#000000\" fill-rule=\"evenodd\" fill-opacity=\"1\" /><path clip-path=\"url(#clip800)\" d=\"M86.4318 249.824 L102.751 249.824 L102.751 253.759 L80.8068 253.759 L80.8068 249.824 Q83.4688 247.069 88.0521 242.44 Q92.6586 237.787 93.8391 236.444 Q96.0845 233.921 96.9641 232.185 Q97.8669 230.426 97.8669 228.736 Q97.8669 225.981 95.9224 224.245 Q94.0012 222.509 90.8993 222.509 Q88.7003 222.509 86.2466 223.273 Q83.816 224.037 81.0383 225.588 L81.0383 220.866 Q83.8623 219.731 86.316 219.153 Q88.7697 218.574 90.8067 218.574 Q96.1771 218.574 99.3715 221.259 Q102.566 223.944 102.566 228.435 Q102.566 230.565 101.756 232.486 Q100.969 234.384 98.8622 236.977 Q98.2835 237.648 95.1817 240.866 Q92.0799 244.06 86.4318 249.824 Z\" fill=\"#000000\" fill-rule=\"evenodd\" fill-opacity=\"1\" /><path clip-path=\"url(#clip800)\" d=\"M113.376 249.824 L121.015 249.824 L121.015 223.458 L112.705 225.125 L112.705 220.866 L120.969 219.199 L125.645 219.199 L125.645 249.824 L133.283 249.824 L133.283 253.759 L113.376 253.759 L113.376 249.824 Z\" fill=\"#000000\" fill-rule=\"evenodd\" fill-opacity=\"1\" /><circle clip-path=\"url(#clip802)\" cx=\"231.08\" cy=\"321.338\" r=\"10\" fill=\"#add8e6\" fill-rule=\"evenodd\" fill-opacity=\"1\" stroke=\"#000000\" stroke-opacity=\"1\" stroke-width=\"3.2\"/>\n",
       "<circle clip-path=\"url(#clip802)\" cx=\"255.898\" cy=\"109.191\" r=\"10\" fill=\"#add8e6\" fill-rule=\"evenodd\" fill-opacity=\"1\" stroke=\"#000000\" stroke-opacity=\"1\" stroke-width=\"3.2\"/>\n",
       "<circle clip-path=\"url(#clip802)\" cx=\"280.715\" cy=\"278.908\" r=\"10\" fill=\"#add8e6\" fill-rule=\"evenodd\" fill-opacity=\"1\" stroke=\"#000000\" stroke-opacity=\"1\" stroke-width=\"3.2\"/>\n",
       "<circle clip-path=\"url(#clip802)\" cx=\"305.533\" cy=\"151.62\" r=\"10\" fill=\"#add8e6\" fill-rule=\"evenodd\" fill-opacity=\"1\" stroke=\"#000000\" stroke-opacity=\"1\" stroke-width=\"3.2\"/>\n",
       "<circle clip-path=\"url(#clip802)\" cx=\"330.351\" cy=\"215.264\" r=\"10\" fill=\"#add8e6\" fill-rule=\"evenodd\" fill-opacity=\"1\" stroke=\"#000000\" stroke-opacity=\"1\" stroke-width=\"3.2\"/>\n",
       "<circle clip-path=\"url(#clip802)\" cx=\"479.258\" cy=\"215.264\" r=\"10\" fill=\"#add8e6\" fill-rule=\"evenodd\" fill-opacity=\"1\" stroke=\"#000000\" stroke-opacity=\"1\" stroke-width=\"3.2\"/>\n",
       "<circle clip-path=\"url(#clip802)\" cx=\"504.076\" cy=\"363.767\" r=\"10\" fill=\"#add8e6\" fill-rule=\"evenodd\" fill-opacity=\"1\" stroke=\"#000000\" stroke-opacity=\"1\" stroke-width=\"3.2\"/>\n",
       "<circle clip-path=\"url(#clip802)\" cx=\"528.894\" cy=\"384.982\" r=\"10\" fill=\"#add8e6\" fill-rule=\"evenodd\" fill-opacity=\"1\" stroke=\"#000000\" stroke-opacity=\"1\" stroke-width=\"3.2\"/>\n",
       "<circle clip-path=\"url(#clip802)\" cx=\"553.712\" cy=\"278.908\" r=\"10\" fill=\"#add8e6\" fill-rule=\"evenodd\" fill-opacity=\"1\" stroke=\"#000000\" stroke-opacity=\"1\" stroke-width=\"3.2\"/>\n",
       "<circle clip-path=\"url(#clip802)\" cx=\"578.529\" cy=\"321.338\" r=\"10\" fill=\"#add8e6\" fill-rule=\"evenodd\" fill-opacity=\"1\" stroke=\"#000000\" stroke-opacity=\"1\" stroke-width=\"3.2\"/>\n",
       "<circle clip-path=\"url(#clip802)\" cx=\"603.347\" cy=\"533.485\" r=\"10\" fill=\"#add8e6\" fill-rule=\"evenodd\" fill-opacity=\"1\" stroke=\"#000000\" stroke-opacity=\"1\" stroke-width=\"3.2\"/>\n",
       "<circle clip-path=\"url(#clip802)\" cx=\"628.165\" cy=\"491.055\" r=\"10\" fill=\"#add8e6\" fill-rule=\"evenodd\" fill-opacity=\"1\" stroke=\"#000000\" stroke-opacity=\"1\" stroke-width=\"3.2\"/>\n",
       "<circle clip-path=\"url(#clip802)\" cx=\"652.983\" cy=\"724.417\" r=\"10\" fill=\"#add8e6\" fill-rule=\"evenodd\" fill-opacity=\"1\" stroke=\"#000000\" stroke-opacity=\"1\" stroke-width=\"3.2\"/>\n",
       "<circle clip-path=\"url(#clip802)\" cx=\"677.801\" cy=\"342.552\" r=\"10\" fill=\"#add8e6\" fill-rule=\"evenodd\" fill-opacity=\"1\" stroke=\"#000000\" stroke-opacity=\"1\" stroke-width=\"3.2\"/>\n",
       "<circle clip-path=\"url(#clip802)\" cx=\"702.618\" cy=\"427.411\" r=\"10\" fill=\"#add8e6\" fill-rule=\"evenodd\" fill-opacity=\"1\" stroke=\"#000000\" stroke-opacity=\"1\" stroke-width=\"3.2\"/>\n",
       "<circle clip-path=\"url(#clip802)\" cx=\"727.436\" cy=\"406.196\" r=\"10\" fill=\"#add8e6\" fill-rule=\"evenodd\" fill-opacity=\"1\" stroke=\"#000000\" stroke-opacity=\"1\" stroke-width=\"3.2\"/>\n",
       "<circle clip-path=\"url(#clip802)\" cx=\"752.254\" cy=\"300.123\" r=\"10\" fill=\"#add8e6\" fill-rule=\"evenodd\" fill-opacity=\"1\" stroke=\"#000000\" stroke-opacity=\"1\" stroke-width=\"3.2\"/>\n",
       "<circle clip-path=\"url(#clip802)\" cx=\"777.072\" cy=\"87.9763\" r=\"10\" fill=\"#add8e6\" fill-rule=\"evenodd\" fill-opacity=\"1\" stroke=\"#000000\" stroke-opacity=\"1\" stroke-width=\"3.2\"/>\n",
       "<circle clip-path=\"url(#clip802)\" cx=\"801.89\" cy=\"300.123\" r=\"10\" fill=\"#add8e6\" fill-rule=\"evenodd\" fill-opacity=\"1\" stroke=\"#000000\" stroke-opacity=\"1\" stroke-width=\"3.2\"/>\n",
       "<circle clip-path=\"url(#clip802)\" cx=\"826.708\" cy=\"300.123\" r=\"10\" fill=\"#add8e6\" fill-rule=\"evenodd\" fill-opacity=\"1\" stroke=\"#000000\" stroke-opacity=\"1\" stroke-width=\"3.2\"/>\n",
       "<circle clip-path=\"url(#clip802)\" cx=\"851.525\" cy=\"384.982\" r=\"10\" fill=\"#add8e6\" fill-rule=\"evenodd\" fill-opacity=\"1\" stroke=\"#000000\" stroke-opacity=\"1\" stroke-width=\"3.2\"/>\n",
       "<circle clip-path=\"url(#clip802)\" cx=\"876.343\" cy=\"575.914\" r=\"10\" fill=\"#add8e6\" fill-rule=\"evenodd\" fill-opacity=\"1\" stroke=\"#000000\" stroke-opacity=\"1\" stroke-width=\"3.2\"/>\n",
       "<circle clip-path=\"url(#clip802)\" cx=\"901.161\" cy=\"639.558\" r=\"10\" fill=\"#add8e6\" fill-rule=\"evenodd\" fill-opacity=\"1\" stroke=\"#000000\" stroke-opacity=\"1\" stroke-width=\"3.2\"/>\n",
       "<circle clip-path=\"url(#clip802)\" cx=\"925.979\" cy=\"406.196\" r=\"10\" fill=\"#add8e6\" fill-rule=\"evenodd\" fill-opacity=\"1\" stroke=\"#000000\" stroke-opacity=\"1\" stroke-width=\"3.2\"/>\n",
       "<circle clip-path=\"url(#clip802)\" cx=\"950.797\" cy=\"300.123\" r=\"10\" fill=\"#add8e6\" fill-rule=\"evenodd\" fill-opacity=\"1\" stroke=\"#000000\" stroke-opacity=\"1\" stroke-width=\"3.2\"/>\n",
       "<circle clip-path=\"url(#clip802)\" cx=\"975.615\" cy=\"427.411\" r=\"10\" fill=\"#add8e6\" fill-rule=\"evenodd\" fill-opacity=\"1\" stroke=\"#000000\" stroke-opacity=\"1\" stroke-width=\"3.2\"/>\n",
       "<circle clip-path=\"url(#clip802)\" cx=\"1000.43\" cy=\"512.27\" r=\"10\" fill=\"#add8e6\" fill-rule=\"evenodd\" fill-opacity=\"1\" stroke=\"#000000\" stroke-opacity=\"1\" stroke-width=\"3.2\"/>\n",
       "<circle clip-path=\"url(#clip802)\" cx=\"1025.25\" cy=\"618.343\" r=\"10\" fill=\"#add8e6\" fill-rule=\"evenodd\" fill-opacity=\"1\" stroke=\"#000000\" stroke-opacity=\"1\" stroke-width=\"3.2\"/>\n",
       "<circle clip-path=\"url(#clip802)\" cx=\"1050.07\" cy=\"575.914\" r=\"10\" fill=\"#add8e6\" fill-rule=\"evenodd\" fill-opacity=\"1\" stroke=\"#000000\" stroke-opacity=\"1\" stroke-width=\"3.2\"/>\n",
       "<circle clip-path=\"url(#clip802)\" cx=\"1074.89\" cy=\"554.699\" r=\"10\" fill=\"#add8e6\" fill-rule=\"evenodd\" fill-opacity=\"1\" stroke=\"#000000\" stroke-opacity=\"1\" stroke-width=\"3.2\"/>\n",
       "<circle clip-path=\"url(#clip802)\" cx=\"1099.7\" cy=\"660.773\" r=\"10\" fill=\"#add8e6\" fill-rule=\"evenodd\" fill-opacity=\"1\" stroke=\"#000000\" stroke-opacity=\"1\" stroke-width=\"3.2\"/>\n",
       "<circle clip-path=\"url(#clip802)\" cx=\"1124.52\" cy=\"681.987\" r=\"10\" fill=\"#add8e6\" fill-rule=\"evenodd\" fill-opacity=\"1\" stroke=\"#000000\" stroke-opacity=\"1\" stroke-width=\"3.2\"/>\n",
       "<circle clip-path=\"url(#clip802)\" cx=\"1149.34\" cy=\"724.417\" r=\"10\" fill=\"#add8e6\" fill-rule=\"evenodd\" fill-opacity=\"1\" stroke=\"#000000\" stroke-opacity=\"1\" stroke-width=\"3.2\"/>\n",
       "<circle clip-path=\"url(#clip802)\" cx=\"1174.16\" cy=\"809.275\" r=\"10\" fill=\"#add8e6\" fill-rule=\"evenodd\" fill-opacity=\"1\" stroke=\"#000000\" stroke-opacity=\"1\" stroke-width=\"3.2\"/>\n",
       "<circle clip-path=\"url(#clip802)\" cx=\"1198.98\" cy=\"766.846\" r=\"10\" fill=\"#add8e6\" fill-rule=\"evenodd\" fill-opacity=\"1\" stroke=\"#000000\" stroke-opacity=\"1\" stroke-width=\"3.2\"/>\n",
       "<circle clip-path=\"url(#clip802)\" cx=\"1223.79\" cy=\"745.631\" r=\"10\" fill=\"#add8e6\" fill-rule=\"evenodd\" fill-opacity=\"1\" stroke=\"#000000\" stroke-opacity=\"1\" stroke-width=\"3.2\"/>\n",
       "<circle clip-path=\"url(#clip802)\" cx=\"1248.61\" cy=\"703.202\" r=\"10\" fill=\"#add8e6\" fill-rule=\"evenodd\" fill-opacity=\"1\" stroke=\"#000000\" stroke-opacity=\"1\" stroke-width=\"3.2\"/>\n",
       "<circle clip-path=\"url(#clip802)\" cx=\"1273.43\" cy=\"766.846\" r=\"10\" fill=\"#add8e6\" fill-rule=\"evenodd\" fill-opacity=\"1\" stroke=\"#000000\" stroke-opacity=\"1\" stroke-width=\"3.2\"/>\n",
       "<circle clip-path=\"url(#clip802)\" cx=\"1298.25\" cy=\"809.275\" r=\"10\" fill=\"#add8e6\" fill-rule=\"evenodd\" fill-opacity=\"1\" stroke=\"#000000\" stroke-opacity=\"1\" stroke-width=\"3.2\"/>\n",
       "<circle clip-path=\"url(#clip802)\" cx=\"1323.06\" cy=\"915.349\" r=\"10\" fill=\"#add8e6\" fill-rule=\"evenodd\" fill-opacity=\"1\" stroke=\"#000000\" stroke-opacity=\"1\" stroke-width=\"3.2\"/>\n",
       "<circle clip-path=\"url(#clip802)\" cx=\"1347.88\" cy=\"872.919\" r=\"10\" fill=\"#add8e6\" fill-rule=\"evenodd\" fill-opacity=\"1\" stroke=\"#000000\" stroke-opacity=\"1\" stroke-width=\"3.2\"/>\n",
       "<circle clip-path=\"url(#clip802)\" cx=\"1422.34\" cy=\"660.773\" r=\"10\" fill=\"#add8e6\" fill-rule=\"evenodd\" fill-opacity=\"1\" stroke=\"#000000\" stroke-opacity=\"1\" stroke-width=\"3.2\"/>\n",
       "<circle clip-path=\"url(#clip802)\" cx=\"1471.97\" cy=\"788.061\" r=\"10\" fill=\"#add8e6\" fill-rule=\"evenodd\" fill-opacity=\"1\" stroke=\"#000000\" stroke-opacity=\"1\" stroke-width=\"3.2\"/>\n",
       "<circle clip-path=\"url(#clip802)\" cx=\"1521.61\" cy=\"1106.28\" r=\"10\" fill=\"#add8e6\" fill-rule=\"evenodd\" fill-opacity=\"1\" stroke=\"#000000\" stroke-opacity=\"1\" stroke-width=\"3.2\"/>\n",
       "<circle clip-path=\"url(#clip802)\" cx=\"1546.42\" cy=\"978.993\" r=\"10\" fill=\"#add8e6\" fill-rule=\"evenodd\" fill-opacity=\"1\" stroke=\"#000000\" stroke-opacity=\"1\" stroke-width=\"3.2\"/>\n",
       "<circle clip-path=\"url(#clip802)\" cx=\"1571.24\" cy=\"1000.21\" r=\"10\" fill=\"#add8e6\" fill-rule=\"evenodd\" fill-opacity=\"1\" stroke=\"#000000\" stroke-opacity=\"1\" stroke-width=\"3.2\"/>\n",
       "<circle clip-path=\"url(#clip802)\" cx=\"1596.06\" cy=\"957.778\" r=\"10\" fill=\"#add8e6\" fill-rule=\"evenodd\" fill-opacity=\"1\" stroke=\"#000000\" stroke-opacity=\"1\" stroke-width=\"3.2\"/>\n",
       "<circle clip-path=\"url(#clip802)\" cx=\"1620.88\" cy=\"851.705\" r=\"10\" fill=\"#add8e6\" fill-rule=\"evenodd\" fill-opacity=\"1\" stroke=\"#000000\" stroke-opacity=\"1\" stroke-width=\"3.2\"/>\n",
       "<circle clip-path=\"url(#clip802)\" cx=\"1645.7\" cy=\"1021.42\" r=\"10\" fill=\"#add8e6\" fill-rule=\"evenodd\" fill-opacity=\"1\" stroke=\"#000000\" stroke-opacity=\"1\" stroke-width=\"3.2\"/>\n",
       "<circle clip-path=\"url(#clip802)\" cx=\"1670.51\" cy=\"957.778\" r=\"10\" fill=\"#add8e6\" fill-rule=\"evenodd\" fill-opacity=\"1\" stroke=\"#000000\" stroke-opacity=\"1\" stroke-width=\"3.2\"/>\n",
       "<circle clip-path=\"url(#clip802)\" cx=\"1695.33\" cy=\"936.563\" r=\"10\" fill=\"#add8e6\" fill-rule=\"evenodd\" fill-opacity=\"1\" stroke=\"#000000\" stroke-opacity=\"1\" stroke-width=\"3.2\"/>\n",
       "<circle clip-path=\"url(#clip802)\" cx=\"1720.15\" cy=\"957.778\" r=\"10\" fill=\"#add8e6\" fill-rule=\"evenodd\" fill-opacity=\"1\" stroke=\"#000000\" stroke-opacity=\"1\" stroke-width=\"3.2\"/>\n",
       "<circle clip-path=\"url(#clip802)\" cx=\"1744.97\" cy=\"1021.42\" r=\"10\" fill=\"#add8e6\" fill-rule=\"evenodd\" fill-opacity=\"1\" stroke=\"#000000\" stroke-opacity=\"1\" stroke-width=\"3.2\"/>\n",
       "<circle clip-path=\"url(#clip802)\" cx=\"1769.79\" cy=\"872.919\" r=\"10\" fill=\"#add8e6\" fill-rule=\"evenodd\" fill-opacity=\"1\" stroke=\"#000000\" stroke-opacity=\"1\" stroke-width=\"3.2\"/>\n",
       "<circle clip-path=\"url(#clip802)\" cx=\"1794.6\" cy=\"915.349\" r=\"10\" fill=\"#add8e6\" fill-rule=\"evenodd\" fill-opacity=\"1\" stroke=\"#000000\" stroke-opacity=\"1\" stroke-width=\"3.2\"/>\n",
       "<circle clip-path=\"url(#clip802)\" cx=\"1819.42\" cy=\"978.993\" r=\"10\" fill=\"#add8e6\" fill-rule=\"evenodd\" fill-opacity=\"1\" stroke=\"#000000\" stroke-opacity=\"1\" stroke-width=\"3.2\"/>\n",
       "<circle clip-path=\"url(#clip802)\" cx=\"1968.33\" cy=\"660.773\" r=\"10\" fill=\"#add8e6\" fill-rule=\"evenodd\" fill-opacity=\"1\" stroke=\"#000000\" stroke-opacity=\"1\" stroke-width=\"3.2\"/>\n",
       "<circle clip-path=\"url(#clip802)\" cx=\"1993.15\" cy=\"957.778\" r=\"10\" fill=\"#add8e6\" fill-rule=\"evenodd\" fill-opacity=\"1\" stroke=\"#000000\" stroke-opacity=\"1\" stroke-width=\"3.2\"/>\n",
       "<circle clip-path=\"url(#clip802)\" cx=\"2017.96\" cy=\"1127.5\" r=\"10\" fill=\"#add8e6\" fill-rule=\"evenodd\" fill-opacity=\"1\" stroke=\"#000000\" stroke-opacity=\"1\" stroke-width=\"3.2\"/>\n",
       "<circle clip-path=\"url(#clip802)\" cx=\"2042.78\" cy=\"1169.92\" r=\"10\" fill=\"#add8e6\" fill-rule=\"evenodd\" fill-opacity=\"1\" stroke=\"#000000\" stroke-opacity=\"1\" stroke-width=\"3.2\"/>\n",
       "<circle clip-path=\"url(#clip802)\" cx=\"2067.6\" cy=\"1106.28\" r=\"10\" fill=\"#add8e6\" fill-rule=\"evenodd\" fill-opacity=\"1\" stroke=\"#000000\" stroke-opacity=\"1\" stroke-width=\"3.2\"/>\n",
       "<circle clip-path=\"url(#clip802)\" cx=\"2117.23\" cy=\"1276\" r=\"10\" fill=\"#add8e6\" fill-rule=\"evenodd\" fill-opacity=\"1\" stroke=\"#000000\" stroke-opacity=\"1\" stroke-width=\"3.2\"/>\n",
       "<circle clip-path=\"url(#clip802)\" cx=\"2142.05\" cy=\"1276\" r=\"10\" fill=\"#add8e6\" fill-rule=\"evenodd\" fill-opacity=\"1\" stroke=\"#000000\" stroke-opacity=\"1\" stroke-width=\"3.2\"/>\n",
       "<circle clip-path=\"url(#clip802)\" cx=\"2166.87\" cy=\"1339.64\" r=\"10\" fill=\"#add8e6\" fill-rule=\"evenodd\" fill-opacity=\"1\" stroke=\"#000000\" stroke-opacity=\"1\" stroke-width=\"3.2\"/>\n",
       "<circle clip-path=\"url(#clip802)\" cx=\"2191.69\" cy=\"1382.07\" r=\"10\" fill=\"#add8e6\" fill-rule=\"evenodd\" fill-opacity=\"1\" stroke=\"#000000\" stroke-opacity=\"1\" stroke-width=\"3.2\"/>\n",
       "<circle clip-path=\"url(#clip802)\" cx=\"2216.51\" cy=\"1297.21\" r=\"10\" fill=\"#add8e6\" fill-rule=\"evenodd\" fill-opacity=\"1\" stroke=\"#000000\" stroke-opacity=\"1\" stroke-width=\"3.2\"/>\n",
       "<circle clip-path=\"url(#clip802)\" cx=\"2241.32\" cy=\"1424.5\" r=\"10\" fill=\"#add8e6\" fill-rule=\"evenodd\" fill-opacity=\"1\" stroke=\"#000000\" stroke-opacity=\"1\" stroke-width=\"3.2\"/>\n",
       "<circle clip-path=\"url(#clip802)\" cx=\"2266.14\" cy=\"1403.29\" r=\"10\" fill=\"#add8e6\" fill-rule=\"evenodd\" fill-opacity=\"1\" stroke=\"#000000\" stroke-opacity=\"1\" stroke-width=\"3.2\"/>\n",
       "<circle clip-path=\"url(#clip802)\" cx=\"2290.96\" cy=\"1445.72\" r=\"10\" fill=\"#add8e6\" fill-rule=\"evenodd\" fill-opacity=\"1\" stroke=\"#000000\" stroke-opacity=\"1\" stroke-width=\"3.2\"/>\n",
       "</svg>\n"
      ]
     },
     "execution_count": 44,
     "metadata": {},
     "output_type": "execute_result"
    }
   ],
   "source": [
    "#Exercicio 1.4\n",
    "#Considerando 26/10 como o primeiro dia da pesagem\n",
    "A=[120.6;121.6;120.8;121.4;121.1;121.1;120.4;120.3;120.8;120.6;119.6;119.8;118.7;120.5;120.1;120.2;120.7;121.7;120.7;120.7;120.3;119.4;119.1\n",
    ";120.2;120.7;120.1;119.7;119.2;119.4;119.5;119;118.9;118.7;118.3;118.5\n",
    ";118.6;118.8;118.5;118.3;117.8;118;119;118.4;116.9;117.5;117.4;117.6;118.1;117.3;117.6;117.7;117.6;117.3;118;117.8;117.5;119;117.6;116.8;116.6;\n",
    "116.9;116.1;116.1;115.8;115.6;116;115.4;115.5;115.3]\n",
    "B=[1;2;3;4;5;11;12;13;14;15;16;17;18;19;20;21;22;23;24;25;26;27;28;29;30;31;32;33;34;35;36;37;38;39;40;41;42;43;44;45;46;49;51;53;54;55;56;57;58;59;60;61;62;63;64;65;71;72;73;74;75;77;78;79;80;81;82;83;84]\n",
    "scatter(B, A, c=:lightblue, ms=3, leg=false)"
   ]
  },
  {
   "cell_type": "code",
   "execution_count": 33,
   "id": "0138d4cf",
   "metadata": {},
   "outputs": [
    {
     "data": {
      "image/svg+xml": [
       "<?xml version=\"1.0\" encoding=\"utf-8\"?>\n",
       "<svg xmlns=\"http://www.w3.org/2000/svg\" xmlns:xlink=\"http://www.w3.org/1999/xlink\" width=\"600\" height=\"400\" viewBox=\"0 0 2400 1600\">\n",
       "<defs>\n",
       "  <clipPath id=\"clip680\">\n",
       "    <rect x=\"0\" y=\"0\" width=\"2400\" height=\"1600\"/>\n",
       "  </clipPath>\n",
       "</defs>\n",
       "<path clip-path=\"url(#clip680)\" d=\"\n",
       "M0 1600 L2400 1600 L2400 0 L0 0  Z\n",
       "  \" fill=\"#ffffff\" fill-rule=\"evenodd\" fill-opacity=\"1\"/>\n",
       "<defs>\n",
       "  <clipPath id=\"clip681\">\n",
       "    <rect x=\"480\" y=\"0\" width=\"1681\" height=\"1600\"/>\n",
       "  </clipPath>\n",
       "</defs>\n",
       "<path clip-path=\"url(#clip680)\" d=\"\n",
       "M169.283 1486.45 L2352.76 1486.45 L2352.76 47.2441 L169.283 47.2441  Z\n",
       "  \" fill=\"#ffffff\" fill-rule=\"evenodd\" fill-opacity=\"1\"/>\n",
       "<defs>\n",
       "  <clipPath id=\"clip682\">\n",
       "    <rect x=\"169\" y=\"47\" width=\"2184\" height=\"1440\"/>\n",
       "  </clipPath>\n",
       "</defs>\n",
       "<polyline clip-path=\"url(#clip682)\" style=\"stroke:#000000; stroke-linecap:butt; stroke-linejoin:round; stroke-width:2; stroke-opacity:0.1; fill:none\" points=\"\n",
       "  206.262,1486.45 206.262,47.2441 \n",
       "  \"/>\n",
       "<polyline clip-path=\"url(#clip682)\" style=\"stroke:#000000; stroke-linecap:butt; stroke-linejoin:round; stroke-width:2; stroke-opacity:0.1; fill:none\" points=\"\n",
       "  702.618,1486.45 702.618,47.2441 \n",
       "  \"/>\n",
       "<polyline clip-path=\"url(#clip682)\" style=\"stroke:#000000; stroke-linecap:butt; stroke-linejoin:round; stroke-width:2; stroke-opacity:0.1; fill:none\" points=\"\n",
       "  1198.98,1486.45 1198.98,47.2441 \n",
       "  \"/>\n",
       "<polyline clip-path=\"url(#clip682)\" style=\"stroke:#000000; stroke-linecap:butt; stroke-linejoin:round; stroke-width:2; stroke-opacity:0.1; fill:none\" points=\"\n",
       "  1695.33,1486.45 1695.33,47.2441 \n",
       "  \"/>\n",
       "<polyline clip-path=\"url(#clip682)\" style=\"stroke:#000000; stroke-linecap:butt; stroke-linejoin:round; stroke-width:2; stroke-opacity:0.1; fill:none\" points=\"\n",
       "  2191.69,1486.45 2191.69,47.2441 \n",
       "  \"/>\n",
       "<polyline clip-path=\"url(#clip680)\" style=\"stroke:#000000; stroke-linecap:butt; stroke-linejoin:round; stroke-width:4; stroke-opacity:1; fill:none\" points=\"\n",
       "  169.283,1486.45 2352.76,1486.45 \n",
       "  \"/>\n",
       "<polyline clip-path=\"url(#clip680)\" style=\"stroke:#000000; stroke-linecap:butt; stroke-linejoin:round; stroke-width:4; stroke-opacity:1; fill:none\" points=\"\n",
       "  206.262,1486.45 206.262,1467.55 \n",
       "  \"/>\n",
       "<polyline clip-path=\"url(#clip680)\" style=\"stroke:#000000; stroke-linecap:butt; stroke-linejoin:round; stroke-width:4; stroke-opacity:1; fill:none\" points=\"\n",
       "  702.618,1486.45 702.618,1467.55 \n",
       "  \"/>\n",
       "<polyline clip-path=\"url(#clip680)\" style=\"stroke:#000000; stroke-linecap:butt; stroke-linejoin:round; stroke-width:4; stroke-opacity:1; fill:none\" points=\"\n",
       "  1198.98,1486.45 1198.98,1467.55 \n",
       "  \"/>\n",
       "<polyline clip-path=\"url(#clip680)\" style=\"stroke:#000000; stroke-linecap:butt; stroke-linejoin:round; stroke-width:4; stroke-opacity:1; fill:none\" points=\"\n",
       "  1695.33,1486.45 1695.33,1467.55 \n",
       "  \"/>\n",
       "<polyline clip-path=\"url(#clip680)\" style=\"stroke:#000000; stroke-linecap:butt; stroke-linejoin:round; stroke-width:4; stroke-opacity:1; fill:none\" points=\"\n",
       "  2191.69,1486.45 2191.69,1467.55 \n",
       "  \"/>\n",
       "<path clip-path=\"url(#clip680)\" d=\"M206.262 1517.37 Q202.651 1517.37 200.822 1520.93 Q199.017 1524.47 199.017 1531.6 Q199.017 1538.71 200.822 1542.27 Q202.651 1545.82 206.262 1545.82 Q209.896 1545.82 211.702 1542.27 Q213.53 1538.71 213.53 1531.6 Q213.53 1524.47 211.702 1520.93 Q209.896 1517.37 206.262 1517.37 M206.262 1513.66 Q212.072 1513.66 215.128 1518.27 Q218.206 1522.85 218.206 1531.6 Q218.206 1540.33 215.128 1544.94 Q212.072 1549.52 206.262 1549.52 Q200.452 1549.52 197.373 1544.94 Q194.318 1540.33 194.318 1531.6 Q194.318 1522.85 197.373 1518.27 Q200.452 1513.66 206.262 1513.66 Z\" fill=\"#000000\" fill-rule=\"evenodd\" fill-opacity=\"1\" /><path clip-path=\"url(#clip680)\" d=\"M681.392 1544.91 L697.711 1544.91 L697.711 1548.85 L675.767 1548.85 L675.767 1544.91 Q678.429 1542.16 683.012 1537.53 Q687.619 1532.88 688.799 1531.53 Q691.044 1529.01 691.924 1527.27 Q692.827 1525.51 692.827 1523.82 Q692.827 1521.07 690.882 1519.33 Q688.961 1517.6 685.859 1517.6 Q683.66 1517.6 681.207 1518.36 Q678.776 1519.13 675.998 1520.68 L675.998 1515.95 Q678.822 1514.82 681.276 1514.24 Q683.73 1513.66 685.767 1513.66 Q691.137 1513.66 694.331 1516.35 Q697.526 1519.03 697.526 1523.52 Q697.526 1525.65 696.716 1527.57 Q695.929 1529.47 693.822 1532.07 Q693.244 1532.74 690.142 1535.95 Q687.04 1539.15 681.392 1544.91 Z\" fill=\"#000000\" fill-rule=\"evenodd\" fill-opacity=\"1\" /><path clip-path=\"url(#clip680)\" d=\"M717.526 1517.37 Q713.915 1517.37 712.086 1520.93 Q710.28 1524.47 710.28 1531.6 Q710.28 1538.71 712.086 1542.27 Q713.915 1545.82 717.526 1545.82 Q721.16 1545.82 722.966 1542.27 Q724.794 1538.71 724.794 1531.6 Q724.794 1524.47 722.966 1520.93 Q721.16 1517.37 717.526 1517.37 M717.526 1513.66 Q723.336 1513.66 726.392 1518.27 Q729.47 1522.85 729.47 1531.6 Q729.47 1540.33 726.392 1544.94 Q723.336 1549.52 717.526 1549.52 Q711.716 1549.52 708.637 1544.94 Q705.581 1540.33 705.581 1531.6 Q705.581 1522.85 708.637 1518.27 Q711.716 1513.66 717.526 1513.66 Z\" fill=\"#000000\" fill-rule=\"evenodd\" fill-opacity=\"1\" /><path clip-path=\"url(#clip680)\" d=\"M1187.15 1518.36 L1175.34 1536.81 L1187.15 1536.81 L1187.15 1518.36 M1185.92 1514.29 L1191.8 1514.29 L1191.8 1536.81 L1196.73 1536.81 L1196.73 1540.7 L1191.8 1540.7 L1191.8 1548.85 L1187.15 1548.85 L1187.15 1540.7 L1171.54 1540.7 L1171.54 1536.19 L1185.92 1514.29 Z\" fill=\"#000000\" fill-rule=\"evenodd\" fill-opacity=\"1\" /><path clip-path=\"url(#clip680)\" d=\"M1214.46 1517.37 Q1210.85 1517.37 1209.02 1520.93 Q1207.22 1524.47 1207.22 1531.6 Q1207.22 1538.71 1209.02 1542.27 Q1210.85 1545.82 1214.46 1545.82 Q1218.1 1545.82 1219.9 1542.27 Q1221.73 1538.71 1221.73 1531.6 Q1221.73 1524.47 1219.9 1520.93 Q1218.1 1517.37 1214.46 1517.37 M1214.46 1513.66 Q1220.27 1513.66 1223.33 1518.27 Q1226.41 1522.85 1226.41 1531.6 Q1226.41 1540.33 1223.33 1544.94 Q1220.27 1549.52 1214.46 1549.52 Q1208.65 1549.52 1205.57 1544.94 Q1202.52 1540.33 1202.52 1531.6 Q1202.52 1522.85 1205.57 1518.27 Q1208.65 1513.66 1214.46 1513.66 Z\" fill=\"#000000\" fill-rule=\"evenodd\" fill-opacity=\"1\" /><path clip-path=\"url(#clip680)\" d=\"M1680.74 1529.7 Q1677.59 1529.7 1675.74 1531.86 Q1673.91 1534.01 1673.91 1537.76 Q1673.91 1541.49 1675.74 1543.66 Q1677.59 1545.82 1680.74 1545.82 Q1683.88 1545.82 1685.71 1543.66 Q1687.57 1541.49 1687.57 1537.76 Q1687.57 1534.01 1685.71 1531.86 Q1683.88 1529.7 1680.74 1529.7 M1690.02 1515.05 L1690.02 1519.31 Q1688.26 1518.48 1686.45 1518.04 Q1684.67 1517.6 1682.91 1517.6 Q1678.28 1517.6 1675.83 1520.72 Q1673.4 1523.85 1673.05 1530.17 Q1674.42 1528.15 1676.48 1527.09 Q1678.54 1526 1681.01 1526 Q1686.22 1526 1689.23 1529.17 Q1692.26 1532.32 1692.26 1537.76 Q1692.26 1543.08 1689.12 1546.3 Q1685.97 1549.52 1680.74 1549.52 Q1674.74 1549.52 1671.57 1544.94 Q1668.4 1540.33 1668.4 1531.6 Q1668.4 1523.41 1672.29 1518.55 Q1676.18 1513.66 1682.73 1513.66 Q1684.49 1513.66 1686.27 1514.01 Q1688.07 1514.36 1690.02 1515.05 Z\" fill=\"#000000\" fill-rule=\"evenodd\" fill-opacity=\"1\" /><path clip-path=\"url(#clip680)\" d=\"M1710.32 1517.37 Q1706.71 1517.37 1704.88 1520.93 Q1703.07 1524.47 1703.07 1531.6 Q1703.07 1538.71 1704.88 1542.27 Q1706.71 1545.82 1710.32 1545.82 Q1713.95 1545.82 1715.76 1542.27 Q1717.59 1538.71 1717.59 1531.6 Q1717.59 1524.47 1715.76 1520.93 Q1713.95 1517.37 1710.32 1517.37 M1710.32 1513.66 Q1716.13 1513.66 1719.19 1518.27 Q1722.26 1522.85 1722.26 1531.6 Q1722.26 1540.33 1719.19 1544.94 Q1716.13 1549.52 1710.32 1549.52 Q1704.51 1549.52 1701.43 1544.94 Q1698.38 1540.33 1698.38 1531.6 Q1698.38 1522.85 1701.43 1518.27 Q1704.51 1513.66 1710.32 1513.66 Z\" fill=\"#000000\" fill-rule=\"evenodd\" fill-opacity=\"1\" /><path clip-path=\"url(#clip680)\" d=\"M2176.56 1532.44 Q2173.23 1532.44 2171.31 1534.22 Q2169.41 1536 2169.41 1539.13 Q2169.41 1542.25 2171.31 1544.03 Q2173.23 1545.82 2176.56 1545.82 Q2179.89 1545.82 2181.82 1544.03 Q2183.74 1542.23 2183.74 1539.13 Q2183.74 1536 2181.82 1534.22 Q2179.92 1532.44 2176.56 1532.44 M2171.89 1530.45 Q2168.88 1529.7 2167.19 1527.64 Q2165.52 1525.58 2165.52 1522.62 Q2165.52 1518.48 2168.46 1516.07 Q2171.42 1513.66 2176.56 1513.66 Q2181.72 1513.66 2184.66 1516.07 Q2187.6 1518.48 2187.6 1522.62 Q2187.6 1525.58 2185.91 1527.64 Q2184.25 1529.7 2181.26 1530.45 Q2184.64 1531.23 2186.51 1533.52 Q2188.41 1535.82 2188.41 1539.13 Q2188.41 1544.15 2185.33 1546.83 Q2182.28 1549.52 2176.56 1549.52 Q2170.84 1549.52 2167.76 1546.83 Q2164.71 1544.15 2164.71 1539.13 Q2164.71 1535.82 2166.61 1533.52 Q2168.51 1531.23 2171.89 1530.45 M2170.17 1523.06 Q2170.17 1525.75 2171.84 1527.25 Q2173.53 1528.76 2176.56 1528.76 Q2179.57 1528.76 2181.26 1527.25 Q2182.97 1525.75 2182.97 1523.06 Q2182.97 1520.38 2181.26 1518.87 Q2179.57 1517.37 2176.56 1517.37 Q2173.53 1517.37 2171.84 1518.87 Q2170.17 1520.38 2170.17 1523.06 Z\" fill=\"#000000\" fill-rule=\"evenodd\" fill-opacity=\"1\" /><path clip-path=\"url(#clip680)\" d=\"M2206.72 1517.37 Q2203.11 1517.37 2201.28 1520.93 Q2199.48 1524.47 2199.48 1531.6 Q2199.48 1538.71 2201.28 1542.27 Q2203.11 1545.82 2206.72 1545.82 Q2210.36 1545.82 2212.16 1542.27 Q2213.99 1538.71 2213.99 1531.6 Q2213.99 1524.47 2212.16 1520.93 Q2210.36 1517.37 2206.72 1517.37 M2206.72 1513.66 Q2212.53 1513.66 2215.59 1518.27 Q2218.67 1522.85 2218.67 1531.6 Q2218.67 1540.33 2215.59 1544.94 Q2212.53 1549.52 2206.72 1549.52 Q2200.91 1549.52 2197.83 1544.94 Q2194.78 1540.33 2194.78 1531.6 Q2194.78 1522.85 2197.83 1518.27 Q2200.91 1513.66 2206.72 1513.66 Z\" fill=\"#000000\" fill-rule=\"evenodd\" fill-opacity=\"1\" /><polyline clip-path=\"url(#clip682)\" style=\"stroke:#000000; stroke-linecap:butt; stroke-linejoin:round; stroke-width:2; stroke-opacity:0.1; fill:none\" points=\"\n",
       "  169.283,1297.21 2352.76,1297.21 \n",
       "  \"/>\n",
       "<polyline clip-path=\"url(#clip682)\" style=\"stroke:#000000; stroke-linecap:butt; stroke-linejoin:round; stroke-width:2; stroke-opacity:0.1; fill:none\" points=\"\n",
       "  169.283,1085.07 2352.76,1085.07 \n",
       "  \"/>\n",
       "<polyline clip-path=\"url(#clip682)\" style=\"stroke:#000000; stroke-linecap:butt; stroke-linejoin:round; stroke-width:2; stroke-opacity:0.1; fill:none\" points=\"\n",
       "  169.283,872.919 2352.76,872.919 \n",
       "  \"/>\n",
       "<polyline clip-path=\"url(#clip682)\" style=\"stroke:#000000; stroke-linecap:butt; stroke-linejoin:round; stroke-width:2; stroke-opacity:0.1; fill:none\" points=\"\n",
       "  169.283,660.773 2352.76,660.773 \n",
       "  \"/>\n",
       "<polyline clip-path=\"url(#clip682)\" style=\"stroke:#000000; stroke-linecap:butt; stroke-linejoin:round; stroke-width:2; stroke-opacity:0.1; fill:none\" points=\"\n",
       "  169.283,448.626 2352.76,448.626 \n",
       "  \"/>\n",
       "<polyline clip-path=\"url(#clip682)\" style=\"stroke:#000000; stroke-linecap:butt; stroke-linejoin:round; stroke-width:2; stroke-opacity:0.1; fill:none\" points=\"\n",
       "  169.283,236.479 2352.76,236.479 \n",
       "  \"/>\n",
       "<polyline clip-path=\"url(#clip680)\" style=\"stroke:#000000; stroke-linecap:butt; stroke-linejoin:round; stroke-width:4; stroke-opacity:1; fill:none\" points=\"\n",
       "  169.283,1486.45 169.283,47.2441 \n",
       "  \"/>\n",
       "<polyline clip-path=\"url(#clip680)\" style=\"stroke:#000000; stroke-linecap:butt; stroke-linejoin:round; stroke-width:4; stroke-opacity:1; fill:none\" points=\"\n",
       "  169.283,1297.21 188.181,1297.21 \n",
       "  \"/>\n",
       "<polyline clip-path=\"url(#clip680)\" style=\"stroke:#000000; stroke-linecap:butt; stroke-linejoin:round; stroke-width:4; stroke-opacity:1; fill:none\" points=\"\n",
       "  169.283,1085.07 188.181,1085.07 \n",
       "  \"/>\n",
       "<polyline clip-path=\"url(#clip680)\" style=\"stroke:#000000; stroke-linecap:butt; stroke-linejoin:round; stroke-width:4; stroke-opacity:1; fill:none\" points=\"\n",
       "  169.283,872.919 188.181,872.919 \n",
       "  \"/>\n",
       "<polyline clip-path=\"url(#clip680)\" style=\"stroke:#000000; stroke-linecap:butt; stroke-linejoin:round; stroke-width:4; stroke-opacity:1; fill:none\" points=\"\n",
       "  169.283,660.773 188.181,660.773 \n",
       "  \"/>\n",
       "<polyline clip-path=\"url(#clip680)\" style=\"stroke:#000000; stroke-linecap:butt; stroke-linejoin:round; stroke-width:4; stroke-opacity:1; fill:none\" points=\"\n",
       "  169.283,448.626 188.181,448.626 \n",
       "  \"/>\n",
       "<polyline clip-path=\"url(#clip680)\" style=\"stroke:#000000; stroke-linecap:butt; stroke-linejoin:round; stroke-width:4; stroke-opacity:1; fill:none\" points=\"\n",
       "  169.283,236.479 188.181,236.479 \n",
       "  \"/>\n",
       "<path clip-path=\"url(#clip680)\" d=\"M51.6634 1310.56 L59.3023 1310.56 L59.3023 1284.19 L50.9921 1285.86 L50.9921 1281.6 L59.256 1279.93 L63.9319 1279.93 L63.9319 1310.56 L71.5707 1310.56 L71.5707 1314.49 L51.6634 1314.49 L51.6634 1310.56 Z\" fill=\"#000000\" fill-rule=\"evenodd\" fill-opacity=\"1\" /><path clip-path=\"url(#clip680)\" d=\"M81.8253 1310.56 L89.4641 1310.56 L89.4641 1284.19 L81.154 1285.86 L81.154 1281.6 L89.4178 1279.93 L94.0937 1279.93 L94.0937 1310.56 L101.733 1310.56 L101.733 1314.49 L81.8253 1314.49 L81.8253 1310.56 Z\" fill=\"#000000\" fill-rule=\"evenodd\" fill-opacity=\"1\" /><path clip-path=\"url(#clip680)\" d=\"M121.756 1295.35 Q118.608 1295.35 116.756 1297.5 Q114.927 1299.66 114.927 1303.41 Q114.927 1307.13 116.756 1309.31 Q118.608 1311.46 121.756 1311.46 Q124.904 1311.46 126.732 1309.31 Q128.584 1307.13 128.584 1303.41 Q128.584 1299.66 126.732 1297.5 Q124.904 1295.35 121.756 1295.35 M131.038 1280.7 L131.038 1284.96 Q129.279 1284.12 127.473 1283.68 Q125.691 1283.24 123.932 1283.24 Q119.302 1283.24 116.848 1286.37 Q114.418 1289.49 114.07 1295.81 Q115.436 1293.8 117.496 1292.73 Q119.557 1291.65 122.033 1291.65 Q127.242 1291.65 130.251 1294.82 Q133.283 1297.97 133.283 1303.41 Q133.283 1308.73 130.135 1311.95 Q126.987 1315.16 121.756 1315.16 Q115.76 1315.16 112.589 1310.58 Q109.418 1305.97 109.418 1297.25 Q109.418 1289.05 113.307 1284.19 Q117.195 1279.31 123.746 1279.31 Q125.506 1279.31 127.288 1279.66 Q129.094 1280 131.038 1280.7 Z\" fill=\"#000000\" fill-rule=\"evenodd\" fill-opacity=\"1\" /><path clip-path=\"url(#clip680)\" d=\"M52.7282 1098.41 L60.3671 1098.41 L60.3671 1072.05 L52.0569 1073.71 L52.0569 1069.45 L60.3208 1067.79 L64.9967 1067.79 L64.9967 1098.41 L72.6355 1098.41 L72.6355 1102.35 L52.7282 1102.35 L52.7282 1098.41 Z\" fill=\"#000000\" fill-rule=\"evenodd\" fill-opacity=\"1\" /><path clip-path=\"url(#clip680)\" d=\"M82.8901 1098.41 L90.529 1098.41 L90.529 1072.05 L82.2188 1073.71 L82.2188 1069.45 L90.4827 1067.79 L95.1586 1067.79 L95.1586 1098.41 L102.797 1098.41 L102.797 1102.35 L82.8901 1102.35 L82.8901 1098.41 Z\" fill=\"#000000\" fill-rule=\"evenodd\" fill-opacity=\"1\" /><path clip-path=\"url(#clip680)\" d=\"M111.061 1067.79 L133.283 1067.79 L133.283 1069.78 L120.737 1102.35 L115.853 1102.35 L127.658 1071.72 L111.061 1071.72 L111.061 1067.79 Z\" fill=\"#000000\" fill-rule=\"evenodd\" fill-opacity=\"1\" /><path clip-path=\"url(#clip680)\" d=\"M51.918 886.264 L59.5569 886.264 L59.5569 859.899 L51.2468 861.565 L51.2468 857.306 L59.5106 855.639 L64.1865 855.639 L64.1865 886.264 L71.8253 886.264 L71.8253 890.199 L51.918 890.199 L51.918 886.264 Z\" fill=\"#000000\" fill-rule=\"evenodd\" fill-opacity=\"1\" /><path clip-path=\"url(#clip680)\" d=\"M82.0799 886.264 L89.7188 886.264 L89.7188 859.899 L81.4086 861.565 L81.4086 857.306 L89.6725 855.639 L94.3484 855.639 L94.3484 886.264 L101.987 886.264 L101.987 890.199 L82.0799 890.199 L82.0799 886.264 Z\" fill=\"#000000\" fill-rule=\"evenodd\" fill-opacity=\"1\" /><path clip-path=\"url(#clip680)\" d=\"M121.432 873.787 Q118.098 873.787 116.177 875.57 Q114.279 877.352 114.279 880.477 Q114.279 883.602 116.177 885.385 Q118.098 887.167 121.432 887.167 Q124.765 887.167 126.686 885.385 Q128.607 883.579 128.607 880.477 Q128.607 877.352 126.686 875.57 Q124.788 873.787 121.432 873.787 M116.756 871.797 Q113.746 871.056 112.057 868.996 Q110.39 866.936 110.39 863.973 Q110.39 859.829 113.33 857.422 Q116.293 855.014 121.432 855.014 Q126.594 855.014 129.533 857.422 Q132.473 859.829 132.473 863.973 Q132.473 866.936 130.783 868.996 Q129.117 871.056 126.131 871.797 Q129.51 872.584 131.385 874.875 Q133.283 877.167 133.283 880.477 Q133.283 885.5 130.205 888.185 Q127.149 890.871 121.432 890.871 Q115.714 890.871 112.635 888.185 Q109.58 885.5 109.58 880.477 Q109.58 877.167 111.478 874.875 Q113.376 872.584 116.756 871.797 M115.043 864.412 Q115.043 867.098 116.709 868.602 Q118.399 870.107 121.432 870.107 Q124.441 870.107 126.131 868.602 Q127.844 867.098 127.844 864.412 Q127.844 861.727 126.131 860.223 Q124.441 858.718 121.432 858.718 Q118.399 858.718 116.709 860.223 Q115.043 861.727 115.043 864.412 Z\" fill=\"#000000\" fill-rule=\"evenodd\" fill-opacity=\"1\" /><path clip-path=\"url(#clip680)\" d=\"M52.0106 674.117 L59.6495 674.117 L59.6495 647.752 L51.3393 649.418 L51.3393 645.159 L59.6032 643.493 L64.2791 643.493 L64.2791 674.117 L71.9179 674.117 L71.9179 678.053 L52.0106 678.053 L52.0106 674.117 Z\" fill=\"#000000\" fill-rule=\"evenodd\" fill-opacity=\"1\" /><path clip-path=\"url(#clip680)\" d=\"M82.1725 674.117 L89.8114 674.117 L89.8114 647.752 L81.5012 649.418 L81.5012 645.159 L89.7651 643.493 L94.441 643.493 L94.441 674.117 L102.08 674.117 L102.08 678.053 L82.1725 678.053 L82.1725 674.117 Z\" fill=\"#000000\" fill-rule=\"evenodd\" fill-opacity=\"1\" /><path clip-path=\"url(#clip680)\" d=\"M111.663 677.335 L111.663 673.076 Q113.422 673.909 115.228 674.349 Q117.033 674.789 118.77 674.789 Q123.399 674.789 125.83 671.687 Q128.283 668.562 128.631 662.219 Q127.288 664.21 125.228 665.275 Q123.168 666.34 120.668 666.34 Q115.483 666.34 112.45 663.215 Q109.441 660.067 109.441 654.627 Q109.441 649.303 112.589 646.085 Q115.737 642.868 120.969 642.868 Q126.964 642.868 130.112 647.474 Q133.283 652.057 133.283 660.807 Q133.283 668.979 129.394 673.863 Q125.529 678.724 118.978 678.724 Q117.219 678.724 115.413 678.377 Q113.608 678.029 111.663 677.335 M120.969 662.682 Q124.117 662.682 125.945 660.53 Q127.797 658.377 127.797 654.627 Q127.797 650.9 125.945 648.747 Q124.117 646.571 120.969 646.571 Q117.82 646.571 115.969 648.747 Q114.14 650.9 114.14 654.627 Q114.14 658.377 115.969 660.53 Q117.82 662.682 120.969 662.682 Z\" fill=\"#000000\" fill-rule=\"evenodd\" fill-opacity=\"1\" /><path clip-path=\"url(#clip680)\" d=\"M51.8255 461.971 L59.4643 461.971 L59.4643 435.605 L51.1542 437.272 L51.1542 433.012 L59.418 431.346 L64.0939 431.346 L64.0939 461.971 L71.7328 461.971 L71.7328 465.906 L51.8255 465.906 L51.8255 461.971 Z\" fill=\"#000000\" fill-rule=\"evenodd\" fill-opacity=\"1\" /><path clip-path=\"url(#clip680)\" d=\"M85.2049 461.971 L101.524 461.971 L101.524 465.906 L79.5799 465.906 L79.5799 461.971 Q82.242 459.216 86.8253 454.586 Q91.4317 449.934 92.6123 448.591 Q94.8576 446.068 95.7373 444.332 Q96.64 442.573 96.64 440.883 Q96.64 438.128 94.6956 436.392 Q92.7743 434.656 89.6725 434.656 Q87.4734 434.656 85.0197 435.42 Q82.5892 436.184 79.8114 437.735 L79.8114 433.012 Q82.6355 431.878 85.0892 431.3 Q87.5429 430.721 89.5799 430.721 Q94.9502 430.721 98.1447 433.406 Q101.339 436.091 101.339 440.582 Q101.339 442.711 100.529 444.633 Q99.7419 446.531 97.6354 449.123 Q97.0567 449.795 93.9549 453.012 Q90.853 456.207 85.2049 461.971 Z\" fill=\"#000000\" fill-rule=\"evenodd\" fill-opacity=\"1\" /><path clip-path=\"url(#clip680)\" d=\"M121.339 434.424 Q117.728 434.424 115.899 437.989 Q114.094 441.531 114.094 448.661 Q114.094 455.767 115.899 459.332 Q117.728 462.873 121.339 462.873 Q124.973 462.873 126.779 459.332 Q128.607 455.767 128.607 448.661 Q128.607 441.531 126.779 437.989 Q124.973 434.424 121.339 434.424 M121.339 430.721 Q127.149 430.721 130.205 435.327 Q133.283 439.911 133.283 448.661 Q133.283 457.387 130.205 461.994 Q127.149 466.577 121.339 466.577 Q115.529 466.577 112.45 461.994 Q109.395 457.387 109.395 448.661 Q109.395 439.911 112.45 435.327 Q115.529 430.721 121.339 430.721 Z\" fill=\"#000000\" fill-rule=\"evenodd\" fill-opacity=\"1\" /><path clip-path=\"url(#clip680)\" d=\"M53.0523 249.824 L60.6911 249.824 L60.6911 223.458 L52.381 225.125 L52.381 220.866 L60.6449 219.199 L65.3208 219.199 L65.3208 249.824 L72.9596 249.824 L72.9596 253.759 L53.0523 253.759 L53.0523 249.824 Z\" fill=\"#000000\" fill-rule=\"evenodd\" fill-opacity=\"1\" /><path clip-path=\"url(#clip680)\" d=\"M86.4318 249.824 L102.751 249.824 L102.751 253.759 L80.8068 253.759 L80.8068 249.824 Q83.4688 247.069 88.0521 242.44 Q92.6586 237.787 93.8391 236.444 Q96.0845 233.921 96.9641 232.185 Q97.8669 230.426 97.8669 228.736 Q97.8669 225.981 95.9224 224.245 Q94.0012 222.509 90.8993 222.509 Q88.7003 222.509 86.2466 223.273 Q83.816 224.037 81.0383 225.588 L81.0383 220.866 Q83.8623 219.731 86.316 219.153 Q88.7697 218.574 90.8067 218.574 Q96.1771 218.574 99.3715 221.259 Q102.566 223.944 102.566 228.435 Q102.566 230.565 101.756 232.486 Q100.969 234.384 98.8622 236.977 Q98.2835 237.648 95.1817 240.866 Q92.0799 244.06 86.4318 249.824 Z\" fill=\"#000000\" fill-rule=\"evenodd\" fill-opacity=\"1\" /><path clip-path=\"url(#clip680)\" d=\"M113.376 249.824 L121.015 249.824 L121.015 223.458 L112.705 225.125 L112.705 220.866 L120.969 219.199 L125.645 219.199 L125.645 249.824 L133.283 249.824 L133.283 253.759 L113.376 253.759 L113.376 249.824 Z\" fill=\"#000000\" fill-rule=\"evenodd\" fill-opacity=\"1\" /><circle clip-path=\"url(#clip682)\" cx=\"231.08\" cy=\"321.338\" r=\"10\" fill=\"#add8e6\" fill-rule=\"evenodd\" fill-opacity=\"1\" stroke=\"#000000\" stroke-opacity=\"1\" stroke-width=\"3.2\"/>\n",
       "<circle clip-path=\"url(#clip682)\" cx=\"255.898\" cy=\"109.191\" r=\"10\" fill=\"#add8e6\" fill-rule=\"evenodd\" fill-opacity=\"1\" stroke=\"#000000\" stroke-opacity=\"1\" stroke-width=\"3.2\"/>\n",
       "<circle clip-path=\"url(#clip682)\" cx=\"280.715\" cy=\"278.908\" r=\"10\" fill=\"#add8e6\" fill-rule=\"evenodd\" fill-opacity=\"1\" stroke=\"#000000\" stroke-opacity=\"1\" stroke-width=\"3.2\"/>\n",
       "<circle clip-path=\"url(#clip682)\" cx=\"305.533\" cy=\"151.62\" r=\"10\" fill=\"#add8e6\" fill-rule=\"evenodd\" fill-opacity=\"1\" stroke=\"#000000\" stroke-opacity=\"1\" stroke-width=\"3.2\"/>\n",
       "<circle clip-path=\"url(#clip682)\" cx=\"330.351\" cy=\"215.264\" r=\"10\" fill=\"#add8e6\" fill-rule=\"evenodd\" fill-opacity=\"1\" stroke=\"#000000\" stroke-opacity=\"1\" stroke-width=\"3.2\"/>\n",
       "<circle clip-path=\"url(#clip682)\" cx=\"479.258\" cy=\"215.264\" r=\"10\" fill=\"#add8e6\" fill-rule=\"evenodd\" fill-opacity=\"1\" stroke=\"#000000\" stroke-opacity=\"1\" stroke-width=\"3.2\"/>\n",
       "<circle clip-path=\"url(#clip682)\" cx=\"504.076\" cy=\"363.767\" r=\"10\" fill=\"#add8e6\" fill-rule=\"evenodd\" fill-opacity=\"1\" stroke=\"#000000\" stroke-opacity=\"1\" stroke-width=\"3.2\"/>\n",
       "<circle clip-path=\"url(#clip682)\" cx=\"528.894\" cy=\"384.982\" r=\"10\" fill=\"#add8e6\" fill-rule=\"evenodd\" fill-opacity=\"1\" stroke=\"#000000\" stroke-opacity=\"1\" stroke-width=\"3.2\"/>\n",
       "<circle clip-path=\"url(#clip682)\" cx=\"553.712\" cy=\"278.908\" r=\"10\" fill=\"#add8e6\" fill-rule=\"evenodd\" fill-opacity=\"1\" stroke=\"#000000\" stroke-opacity=\"1\" stroke-width=\"3.2\"/>\n",
       "<circle clip-path=\"url(#clip682)\" cx=\"578.529\" cy=\"321.338\" r=\"10\" fill=\"#add8e6\" fill-rule=\"evenodd\" fill-opacity=\"1\" stroke=\"#000000\" stroke-opacity=\"1\" stroke-width=\"3.2\"/>\n",
       "<circle clip-path=\"url(#clip682)\" cx=\"603.347\" cy=\"533.485\" r=\"10\" fill=\"#add8e6\" fill-rule=\"evenodd\" fill-opacity=\"1\" stroke=\"#000000\" stroke-opacity=\"1\" stroke-width=\"3.2\"/>\n",
       "<circle clip-path=\"url(#clip682)\" cx=\"628.165\" cy=\"491.055\" r=\"10\" fill=\"#add8e6\" fill-rule=\"evenodd\" fill-opacity=\"1\" stroke=\"#000000\" stroke-opacity=\"1\" stroke-width=\"3.2\"/>\n",
       "<circle clip-path=\"url(#clip682)\" cx=\"652.983\" cy=\"724.417\" r=\"10\" fill=\"#add8e6\" fill-rule=\"evenodd\" fill-opacity=\"1\" stroke=\"#000000\" stroke-opacity=\"1\" stroke-width=\"3.2\"/>\n",
       "<circle clip-path=\"url(#clip682)\" cx=\"677.801\" cy=\"342.552\" r=\"10\" fill=\"#add8e6\" fill-rule=\"evenodd\" fill-opacity=\"1\" stroke=\"#000000\" stroke-opacity=\"1\" stroke-width=\"3.2\"/>\n",
       "<circle clip-path=\"url(#clip682)\" cx=\"702.618\" cy=\"427.411\" r=\"10\" fill=\"#add8e6\" fill-rule=\"evenodd\" fill-opacity=\"1\" stroke=\"#000000\" stroke-opacity=\"1\" stroke-width=\"3.2\"/>\n",
       "<circle clip-path=\"url(#clip682)\" cx=\"727.436\" cy=\"406.196\" r=\"10\" fill=\"#add8e6\" fill-rule=\"evenodd\" fill-opacity=\"1\" stroke=\"#000000\" stroke-opacity=\"1\" stroke-width=\"3.2\"/>\n",
       "<circle clip-path=\"url(#clip682)\" cx=\"752.254\" cy=\"300.123\" r=\"10\" fill=\"#add8e6\" fill-rule=\"evenodd\" fill-opacity=\"1\" stroke=\"#000000\" stroke-opacity=\"1\" stroke-width=\"3.2\"/>\n",
       "<circle clip-path=\"url(#clip682)\" cx=\"777.072\" cy=\"87.9763\" r=\"10\" fill=\"#add8e6\" fill-rule=\"evenodd\" fill-opacity=\"1\" stroke=\"#000000\" stroke-opacity=\"1\" stroke-width=\"3.2\"/>\n",
       "<circle clip-path=\"url(#clip682)\" cx=\"801.89\" cy=\"300.123\" r=\"10\" fill=\"#add8e6\" fill-rule=\"evenodd\" fill-opacity=\"1\" stroke=\"#000000\" stroke-opacity=\"1\" stroke-width=\"3.2\"/>\n",
       "<circle clip-path=\"url(#clip682)\" cx=\"826.708\" cy=\"300.123\" r=\"10\" fill=\"#add8e6\" fill-rule=\"evenodd\" fill-opacity=\"1\" stroke=\"#000000\" stroke-opacity=\"1\" stroke-width=\"3.2\"/>\n",
       "<circle clip-path=\"url(#clip682)\" cx=\"851.525\" cy=\"384.982\" r=\"10\" fill=\"#add8e6\" fill-rule=\"evenodd\" fill-opacity=\"1\" stroke=\"#000000\" stroke-opacity=\"1\" stroke-width=\"3.2\"/>\n",
       "<circle clip-path=\"url(#clip682)\" cx=\"876.343\" cy=\"575.914\" r=\"10\" fill=\"#add8e6\" fill-rule=\"evenodd\" fill-opacity=\"1\" stroke=\"#000000\" stroke-opacity=\"1\" stroke-width=\"3.2\"/>\n",
       "<circle clip-path=\"url(#clip682)\" cx=\"901.161\" cy=\"639.558\" r=\"10\" fill=\"#add8e6\" fill-rule=\"evenodd\" fill-opacity=\"1\" stroke=\"#000000\" stroke-opacity=\"1\" stroke-width=\"3.2\"/>\n",
       "<circle clip-path=\"url(#clip682)\" cx=\"925.979\" cy=\"406.196\" r=\"10\" fill=\"#add8e6\" fill-rule=\"evenodd\" fill-opacity=\"1\" stroke=\"#000000\" stroke-opacity=\"1\" stroke-width=\"3.2\"/>\n",
       "<circle clip-path=\"url(#clip682)\" cx=\"950.797\" cy=\"300.123\" r=\"10\" fill=\"#add8e6\" fill-rule=\"evenodd\" fill-opacity=\"1\" stroke=\"#000000\" stroke-opacity=\"1\" stroke-width=\"3.2\"/>\n",
       "<circle clip-path=\"url(#clip682)\" cx=\"975.615\" cy=\"427.411\" r=\"10\" fill=\"#add8e6\" fill-rule=\"evenodd\" fill-opacity=\"1\" stroke=\"#000000\" stroke-opacity=\"1\" stroke-width=\"3.2\"/>\n",
       "<circle clip-path=\"url(#clip682)\" cx=\"1000.43\" cy=\"512.27\" r=\"10\" fill=\"#add8e6\" fill-rule=\"evenodd\" fill-opacity=\"1\" stroke=\"#000000\" stroke-opacity=\"1\" stroke-width=\"3.2\"/>\n",
       "<circle clip-path=\"url(#clip682)\" cx=\"1025.25\" cy=\"618.343\" r=\"10\" fill=\"#add8e6\" fill-rule=\"evenodd\" fill-opacity=\"1\" stroke=\"#000000\" stroke-opacity=\"1\" stroke-width=\"3.2\"/>\n",
       "<circle clip-path=\"url(#clip682)\" cx=\"1050.07\" cy=\"575.914\" r=\"10\" fill=\"#add8e6\" fill-rule=\"evenodd\" fill-opacity=\"1\" stroke=\"#000000\" stroke-opacity=\"1\" stroke-width=\"3.2\"/>\n",
       "<circle clip-path=\"url(#clip682)\" cx=\"1074.89\" cy=\"554.699\" r=\"10\" fill=\"#add8e6\" fill-rule=\"evenodd\" fill-opacity=\"1\" stroke=\"#000000\" stroke-opacity=\"1\" stroke-width=\"3.2\"/>\n",
       "<circle clip-path=\"url(#clip682)\" cx=\"1099.7\" cy=\"660.773\" r=\"10\" fill=\"#add8e6\" fill-rule=\"evenodd\" fill-opacity=\"1\" stroke=\"#000000\" stroke-opacity=\"1\" stroke-width=\"3.2\"/>\n",
       "<circle clip-path=\"url(#clip682)\" cx=\"1124.52\" cy=\"681.987\" r=\"10\" fill=\"#add8e6\" fill-rule=\"evenodd\" fill-opacity=\"1\" stroke=\"#000000\" stroke-opacity=\"1\" stroke-width=\"3.2\"/>\n",
       "<circle clip-path=\"url(#clip682)\" cx=\"1149.34\" cy=\"724.417\" r=\"10\" fill=\"#add8e6\" fill-rule=\"evenodd\" fill-opacity=\"1\" stroke=\"#000000\" stroke-opacity=\"1\" stroke-width=\"3.2\"/>\n",
       "<circle clip-path=\"url(#clip682)\" cx=\"1174.16\" cy=\"809.275\" r=\"10\" fill=\"#add8e6\" fill-rule=\"evenodd\" fill-opacity=\"1\" stroke=\"#000000\" stroke-opacity=\"1\" stroke-width=\"3.2\"/>\n",
       "<circle clip-path=\"url(#clip682)\" cx=\"1198.98\" cy=\"766.846\" r=\"10\" fill=\"#add8e6\" fill-rule=\"evenodd\" fill-opacity=\"1\" stroke=\"#000000\" stroke-opacity=\"1\" stroke-width=\"3.2\"/>\n",
       "<circle clip-path=\"url(#clip682)\" cx=\"1223.79\" cy=\"745.631\" r=\"10\" fill=\"#add8e6\" fill-rule=\"evenodd\" fill-opacity=\"1\" stroke=\"#000000\" stroke-opacity=\"1\" stroke-width=\"3.2\"/>\n",
       "<circle clip-path=\"url(#clip682)\" cx=\"1248.61\" cy=\"703.202\" r=\"10\" fill=\"#add8e6\" fill-rule=\"evenodd\" fill-opacity=\"1\" stroke=\"#000000\" stroke-opacity=\"1\" stroke-width=\"3.2\"/>\n",
       "<circle clip-path=\"url(#clip682)\" cx=\"1273.43\" cy=\"766.846\" r=\"10\" fill=\"#add8e6\" fill-rule=\"evenodd\" fill-opacity=\"1\" stroke=\"#000000\" stroke-opacity=\"1\" stroke-width=\"3.2\"/>\n",
       "<circle clip-path=\"url(#clip682)\" cx=\"1298.25\" cy=\"809.275\" r=\"10\" fill=\"#add8e6\" fill-rule=\"evenodd\" fill-opacity=\"1\" stroke=\"#000000\" stroke-opacity=\"1\" stroke-width=\"3.2\"/>\n",
       "<circle clip-path=\"url(#clip682)\" cx=\"1323.06\" cy=\"915.349\" r=\"10\" fill=\"#add8e6\" fill-rule=\"evenodd\" fill-opacity=\"1\" stroke=\"#000000\" stroke-opacity=\"1\" stroke-width=\"3.2\"/>\n",
       "<circle clip-path=\"url(#clip682)\" cx=\"1347.88\" cy=\"872.919\" r=\"10\" fill=\"#add8e6\" fill-rule=\"evenodd\" fill-opacity=\"1\" stroke=\"#000000\" stroke-opacity=\"1\" stroke-width=\"3.2\"/>\n",
       "<circle clip-path=\"url(#clip682)\" cx=\"1422.34\" cy=\"660.773\" r=\"10\" fill=\"#add8e6\" fill-rule=\"evenodd\" fill-opacity=\"1\" stroke=\"#000000\" stroke-opacity=\"1\" stroke-width=\"3.2\"/>\n",
       "<circle clip-path=\"url(#clip682)\" cx=\"1471.97\" cy=\"788.061\" r=\"10\" fill=\"#add8e6\" fill-rule=\"evenodd\" fill-opacity=\"1\" stroke=\"#000000\" stroke-opacity=\"1\" stroke-width=\"3.2\"/>\n",
       "<circle clip-path=\"url(#clip682)\" cx=\"1521.61\" cy=\"1106.28\" r=\"10\" fill=\"#add8e6\" fill-rule=\"evenodd\" fill-opacity=\"1\" stroke=\"#000000\" stroke-opacity=\"1\" stroke-width=\"3.2\"/>\n",
       "<circle clip-path=\"url(#clip682)\" cx=\"1546.42\" cy=\"978.993\" r=\"10\" fill=\"#add8e6\" fill-rule=\"evenodd\" fill-opacity=\"1\" stroke=\"#000000\" stroke-opacity=\"1\" stroke-width=\"3.2\"/>\n",
       "<circle clip-path=\"url(#clip682)\" cx=\"1571.24\" cy=\"1000.21\" r=\"10\" fill=\"#add8e6\" fill-rule=\"evenodd\" fill-opacity=\"1\" stroke=\"#000000\" stroke-opacity=\"1\" stroke-width=\"3.2\"/>\n",
       "<circle clip-path=\"url(#clip682)\" cx=\"1596.06\" cy=\"957.778\" r=\"10\" fill=\"#add8e6\" fill-rule=\"evenodd\" fill-opacity=\"1\" stroke=\"#000000\" stroke-opacity=\"1\" stroke-width=\"3.2\"/>\n",
       "<circle clip-path=\"url(#clip682)\" cx=\"1620.88\" cy=\"851.705\" r=\"10\" fill=\"#add8e6\" fill-rule=\"evenodd\" fill-opacity=\"1\" stroke=\"#000000\" stroke-opacity=\"1\" stroke-width=\"3.2\"/>\n",
       "<circle clip-path=\"url(#clip682)\" cx=\"1645.7\" cy=\"1021.42\" r=\"10\" fill=\"#add8e6\" fill-rule=\"evenodd\" fill-opacity=\"1\" stroke=\"#000000\" stroke-opacity=\"1\" stroke-width=\"3.2\"/>\n",
       "<circle clip-path=\"url(#clip682)\" cx=\"1670.51\" cy=\"957.778\" r=\"10\" fill=\"#add8e6\" fill-rule=\"evenodd\" fill-opacity=\"1\" stroke=\"#000000\" stroke-opacity=\"1\" stroke-width=\"3.2\"/>\n",
       "<circle clip-path=\"url(#clip682)\" cx=\"1695.33\" cy=\"936.563\" r=\"10\" fill=\"#add8e6\" fill-rule=\"evenodd\" fill-opacity=\"1\" stroke=\"#000000\" stroke-opacity=\"1\" stroke-width=\"3.2\"/>\n",
       "<circle clip-path=\"url(#clip682)\" cx=\"1720.15\" cy=\"957.778\" r=\"10\" fill=\"#add8e6\" fill-rule=\"evenodd\" fill-opacity=\"1\" stroke=\"#000000\" stroke-opacity=\"1\" stroke-width=\"3.2\"/>\n",
       "<circle clip-path=\"url(#clip682)\" cx=\"1744.97\" cy=\"1021.42\" r=\"10\" fill=\"#add8e6\" fill-rule=\"evenodd\" fill-opacity=\"1\" stroke=\"#000000\" stroke-opacity=\"1\" stroke-width=\"3.2\"/>\n",
       "<circle clip-path=\"url(#clip682)\" cx=\"1769.79\" cy=\"872.919\" r=\"10\" fill=\"#add8e6\" fill-rule=\"evenodd\" fill-opacity=\"1\" stroke=\"#000000\" stroke-opacity=\"1\" stroke-width=\"3.2\"/>\n",
       "<circle clip-path=\"url(#clip682)\" cx=\"1794.6\" cy=\"915.349\" r=\"10\" fill=\"#add8e6\" fill-rule=\"evenodd\" fill-opacity=\"1\" stroke=\"#000000\" stroke-opacity=\"1\" stroke-width=\"3.2\"/>\n",
       "<circle clip-path=\"url(#clip682)\" cx=\"1819.42\" cy=\"978.993\" r=\"10\" fill=\"#add8e6\" fill-rule=\"evenodd\" fill-opacity=\"1\" stroke=\"#000000\" stroke-opacity=\"1\" stroke-width=\"3.2\"/>\n",
       "<circle clip-path=\"url(#clip682)\" cx=\"1968.33\" cy=\"660.773\" r=\"10\" fill=\"#add8e6\" fill-rule=\"evenodd\" fill-opacity=\"1\" stroke=\"#000000\" stroke-opacity=\"1\" stroke-width=\"3.2\"/>\n",
       "<circle clip-path=\"url(#clip682)\" cx=\"1993.15\" cy=\"957.778\" r=\"10\" fill=\"#add8e6\" fill-rule=\"evenodd\" fill-opacity=\"1\" stroke=\"#000000\" stroke-opacity=\"1\" stroke-width=\"3.2\"/>\n",
       "<circle clip-path=\"url(#clip682)\" cx=\"2017.96\" cy=\"1127.5\" r=\"10\" fill=\"#add8e6\" fill-rule=\"evenodd\" fill-opacity=\"1\" stroke=\"#000000\" stroke-opacity=\"1\" stroke-width=\"3.2\"/>\n",
       "<circle clip-path=\"url(#clip682)\" cx=\"2042.78\" cy=\"1169.92\" r=\"10\" fill=\"#add8e6\" fill-rule=\"evenodd\" fill-opacity=\"1\" stroke=\"#000000\" stroke-opacity=\"1\" stroke-width=\"3.2\"/>\n",
       "<circle clip-path=\"url(#clip682)\" cx=\"2067.6\" cy=\"1106.28\" r=\"10\" fill=\"#add8e6\" fill-rule=\"evenodd\" fill-opacity=\"1\" stroke=\"#000000\" stroke-opacity=\"1\" stroke-width=\"3.2\"/>\n",
       "<circle clip-path=\"url(#clip682)\" cx=\"2117.23\" cy=\"1276\" r=\"10\" fill=\"#add8e6\" fill-rule=\"evenodd\" fill-opacity=\"1\" stroke=\"#000000\" stroke-opacity=\"1\" stroke-width=\"3.2\"/>\n",
       "<circle clip-path=\"url(#clip682)\" cx=\"2142.05\" cy=\"1276\" r=\"10\" fill=\"#add8e6\" fill-rule=\"evenodd\" fill-opacity=\"1\" stroke=\"#000000\" stroke-opacity=\"1\" stroke-width=\"3.2\"/>\n",
       "<circle clip-path=\"url(#clip682)\" cx=\"2166.87\" cy=\"1339.64\" r=\"10\" fill=\"#add8e6\" fill-rule=\"evenodd\" fill-opacity=\"1\" stroke=\"#000000\" stroke-opacity=\"1\" stroke-width=\"3.2\"/>\n",
       "<circle clip-path=\"url(#clip682)\" cx=\"2191.69\" cy=\"1382.07\" r=\"10\" fill=\"#add8e6\" fill-rule=\"evenodd\" fill-opacity=\"1\" stroke=\"#000000\" stroke-opacity=\"1\" stroke-width=\"3.2\"/>\n",
       "<circle clip-path=\"url(#clip682)\" cx=\"2216.51\" cy=\"1297.21\" r=\"10\" fill=\"#add8e6\" fill-rule=\"evenodd\" fill-opacity=\"1\" stroke=\"#000000\" stroke-opacity=\"1\" stroke-width=\"3.2\"/>\n",
       "<circle clip-path=\"url(#clip682)\" cx=\"2241.32\" cy=\"1424.5\" r=\"10\" fill=\"#add8e6\" fill-rule=\"evenodd\" fill-opacity=\"1\" stroke=\"#000000\" stroke-opacity=\"1\" stroke-width=\"3.2\"/>\n",
       "<circle clip-path=\"url(#clip682)\" cx=\"2266.14\" cy=\"1403.29\" r=\"10\" fill=\"#add8e6\" fill-rule=\"evenodd\" fill-opacity=\"1\" stroke=\"#000000\" stroke-opacity=\"1\" stroke-width=\"3.2\"/>\n",
       "<circle clip-path=\"url(#clip682)\" cx=\"2290.96\" cy=\"1445.72\" r=\"10\" fill=\"#add8e6\" fill-rule=\"evenodd\" fill-opacity=\"1\" stroke=\"#000000\" stroke-opacity=\"1\" stroke-width=\"3.2\"/>\n",
       "<polyline clip-path=\"url(#clip682)\" style=\"stroke:#e26f46; stroke-linecap:butt; stroke-linejoin:round; stroke-width:4; stroke-opacity:1; fill:none\" points=\"\n",
       "  231.08,140.826 251.196,152.256 437.201,257.946 548.983,321.461 643.493,375.163 746.157,433.497 840.804,487.277 942.276,544.934 1059.84,611.735 1164.32,671.101 \n",
       "  1255.94,723.159 1355.82,779.916 1456.31,837.011 1567.4,900.136 1673.11,960.198 1783.01,1022.65 1875.53,1075.22 1988.49,1139.4 2094.67,1199.73 2264.78,1296.39 \n",
       "  2290.96,1311.27 \n",
       "  \"/>\n",
       "</svg>\n"
      ]
     },
     "execution_count": 33,
     "metadata": {},
     "output_type": "execute_result"
    }
   ],
   "source": [
    "#Analisando o gráfico dos pontos, uma boa maneira de fazer a regressão seria utilizando uma reta passando pelos pontos\n",
    "V=vandermonde(B,A,1)\n",
    "C=regressão(B,A,1)\n",
    "Reta(x)= C[1]+C[2]*x \n",
    "scatter(B, A, c=:lightblue, ms=3, leg=false)\n",
    "plot!(Reta)"
   ]
  },
  {
   "cell_type": "code",
   "execution_count": 45,
   "id": "c98f5de2",
   "metadata": {},
   "outputs": [
    {
     "data": {
      "text/plain": [
       "173.26753579630514"
      ]
     },
     "execution_count": 45,
     "metadata": {},
     "output_type": "execute_result"
    }
   ],
   "source": [
    "# O dia em que ele vai pesar 110 kg\n",
    "(110 - C[1])/C[2]"
   ]
  },
  {
   "cell_type": "code",
   "execution_count": null,
   "id": "30221b3c",
   "metadata": {},
   "outputs": [],
   "source": []
  }
 ],
 "metadata": {
  "kernelspec": {
   "display_name": "Julia 1.7.0",
   "language": "julia",
   "name": "julia-1.7"
  },
  "language_info": {
   "file_extension": ".jl",
   "mimetype": "application/julia",
   "name": "julia",
   "version": "1.7.0"
  }
 },
 "nbformat": 4,
 "nbformat_minor": 5
}
